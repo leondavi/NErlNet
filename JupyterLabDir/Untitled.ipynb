{
 "cells": [
  {
   "cell_type": "code",
   "execution_count": null,
   "id": "6ce55378",
   "metadata": {},
   "outputs": [],
   "source": [
    "from apiServer import *\n",
    "from experiment import *"
   ]
  },
  {
   "cell_type": "code",
   "execution_count": null,
   "id": "e7d7d7d4",
   "metadata": {},
   "outputs": [],
   "source": [
    "api_server_instance = ApiServer()\n",
    "\n",
    "api_server_instance.showJsons()\n",
    "api_server_instance.selectJsons()\n",
    "\n",
    "arch_json , connmap_json, exp_flow_json = api_server_instance.getUserJsons()"
   ]
  },
  {
   "cell_type": "code",
   "execution_count": null,
   "id": "d8454345",
   "metadata": {},
   "outputs": [],
   "source": [
    "api_server_instance.initialization(arch_json , connmap_json, exp_flow_json)"
   ]
  },
  {
   "cell_type": "code",
   "execution_count": null,
   "id": "a30b98dd",
   "metadata": {},
   "outputs": [],
   "source": [
    "api_server_instance.sendJsonsToDevices()"
   ]
  },
  {
   "cell_type": "code",
   "execution_count": null,
   "id": "639a9b13",
   "metadata": {},
   "outputs": [],
   "source": [
    "api_server_instance.train()"
   ]
  },
  {
   "cell_type": "code",
   "execution_count": null,
   "id": "ff716693",
   "metadata": {},
   "outputs": [],
   "source": [
    "api_server_instance.predict()"
   ]
  },
  {
   "cell_type": "code",
   "execution_count": null,
   "id": "368a36ee",
   "metadata": {},
   "outputs": [],
   "source": [
    "api_server_instance.statistics()"
   ]
  },
  {
   "cell_type": "code",
   "execution_count": null,
   "id": "330e6d92",
   "metadata": {},
   "outputs": [],
   "source": [
    "api_server_instance.statistics()"
   ]
  }
 ],
 "metadata": {
  "kernelspec": {
   "display_name": "Python 3 (ipykernel)",
   "language": "python",
   "name": "python3"
  },
  "language_info": {
   "codemirror_mode": {
    "name": "ipython",
    "version": 3
   },
   "file_extension": ".py",
   "mimetype": "text/x-python",
   "name": "python",
   "nbconvert_exporter": "python",
   "pygments_lexer": "ipython3",
   "version": "3.8.12"
  }
 },
 "nbformat": 4,
 "nbformat_minor": 5
}
