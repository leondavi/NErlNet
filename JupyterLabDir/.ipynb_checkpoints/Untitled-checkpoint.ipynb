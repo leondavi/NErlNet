{
 "cells": [
  {
   "cell_type": "code",
   "execution_count": null,
   "id": "02eadad1",
   "metadata": {},
   "outputs": [],
   "source": [
    "from jsonDirParser import JsonDirParser\n",
    "from apiServer import *\n",
    "from experiment import *"
   ]
  },
  {
   "cell_type": "code",
   "execution_count": null,
   "id": "f1688063",
   "metadata": {},
   "outputs": [],
   "source": [
    "json_dir_parser = JsonDirParser()\n",
    "json_dir_parser.print_lists()"
   ]
  },
  {
   "cell_type": "code",
   "execution_count": null,
   "id": "8cc5e84c",
   "metadata": {},
   "outputs": [],
   "source": [
    "json_dir_parser.select_arch_connmap_experiment()\n",
    "print(json_dir_parser.get_user_selection_files())"
   ]
  },
  {
   "cell_type": "code",
   "execution_count": null,
   "id": "3802d875",
   "metadata": {},
   "outputs": [],
   "source": [
    "arch_json , connmap_json, exp_flow_json = json_dir_parser.get_user_selection_jsons()"
   ]
  },
  {
   "cell_type": "code",
   "execution_count": null,
   "id": "32f48f3c",
   "metadata": {},
   "outputs": [],
   "source": [
    "inst = ApiServer()"
   ]
  },
  {
   "cell_type": "code",
   "execution_count": null,
   "id": "bd2155c2",
   "metadata": {},
   "outputs": [],
   "source": [
    "api_server_instance.initialization(arch_json, connmap_json, exp_flow_json)"
   ]
  },
  {
   "cell_type": "code",
   "execution_count": null,
   "id": "a4c594af",
   "metadata": {},
   "outputs": [],
   "source": []
  },
  {
   "cell_type": "code",
   "execution_count": null,
   "id": "9622e989",
   "metadata": {},
   "outputs": [],
   "source": [
    "inst.sendJsonsToDevices()"
   ]
  },
  {
   "cell_type": "code",
   "execution_count": null,
   "id": "1bdabac4",
   "metadata": {},
   "outputs": [],
   "source": [
    "inst.train()"
   ]
  },
  {
   "cell_type": "code",
   "execution_count": null,
   "id": "0eb34503",
   "metadata": {},
   "outputs": [],
   "source": [
    "inst.predict()"
   ]
  },
  {
   "cell_type": "code",
   "execution_count": null,
   "id": "b3da2687",
   "metadata": {},
   "outputs": [],
   "source": [
    "inst.statistics()"
   ]
  }
 ],
 "metadata": {
  "kernelspec": {
   "display_name": "Python 3 (ipykernel)",
   "language": "python",
   "name": "python3"
  },
  "language_info": {
   "codemirror_mode": {
    "name": "ipython",
    "version": 3
   },
   "file_extension": ".py",
   "mimetype": "text/x-python",
   "name": "python",
   "nbconvert_exporter": "python",
   "pygments_lexer": "ipython3",
   "version": "3.8.10"
  }
 },
 "nbformat": 4,
 "nbformat_minor": 5
}
