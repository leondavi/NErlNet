{
 "cells": [
  {
   "cell_type": "code",
   "execution_count": 1,
   "id": "6491d2bc",
   "metadata": {},
   "outputs": [
    {
     "name": "stdout",
     "output_type": "stream",
     "text": [
      " * Serving Flask app \"receiver\" (lazy loading)\n",
      " * Environment: production\n",
      "\u001b[31m   WARNING: This is a development server. Do not use it in a production deployment.\u001b[0m\n",
      "\u001b[2m   Use a production WSGI server instead.\u001b[0m\n",
      " * Debug mode: off\n"
     ]
    },
    {
     "name": "stderr",
     "output_type": "stream",
     "text": [
      " * Running on http://127.0.1.1:8095/ (Press CTRL+C to quit)\n"
     ]
    }
   ],
   "source": [
    "from apiServer import ApiServer\n",
    "\n",
    "inst = ApiServer()\n",
    "\n"
   ]
  },
  {
   "cell_type": "code",
   "execution_count": 2,
   "id": "d460fff7",
   "metadata": {},
   "outputs": [
    {
     "name": "stderr",
     "output_type": "stream",
     "text": [
      "127.0.0.1 - - [04/Jan/2022 09:05:24] \"\u001b[37mPOST /ack HTTP/1.1\u001b[0m\" 200 -\n"
     ]
    },
    {
     "name": "stdout",
     "output_type": "stream",
     "text": [
      "Training - Starting...\n",
      "Training - Clients Training Phase\n",
      "True 200\n",
      "Training - Update CSV Phase\n",
      "True 200\n",
      "Ack Received!\n",
      "2\n"
     ]
    },
    {
     "name": "stderr",
     "output_type": "stream",
     "text": [
      "127.0.0.1 - - [04/Jan/2022 09:05:30] \"\u001b[37mPOST /ack HTTP/1.1\u001b[0m\" 200 -\n",
      "127.0.0.1 - - [04/Jan/2022 09:05:30] \"\u001b[37mPOST /lossFunction HTTP/1.1\u001b[0m\" 200 -\n"
     ]
    },
    {
     "name": "stdout",
     "output_type": "stream",
     "text": [
      "Ack Received!\n",
      "1\n",
      "Start Casting  Phase\n",
      "True 200\n",
      "ImmutableMultiDict([('w1#6.98934268951416015625e 00', '')])\n"
     ]
    },
    {
     "name": "stderr",
     "output_type": "stream",
     "text": [
      "127.0.0.1 - - [04/Jan/2022 09:05:30] \"\u001b[37mPOST /lossFunction HTTP/1.1\u001b[0m\" 200 -\n",
      "127.0.0.1 - - [04/Jan/2022 09:05:30] \"\u001b[37mPOST /lossFunction HTTP/1.1\u001b[0m\" 200 -\n"
     ]
    },
    {
     "name": "stdout",
     "output_type": "stream",
     "text": [
      "ImmutableMultiDict([('w1#6.79819679260253906250e 00', '')])\n",
      "ImmutableMultiDict([('w1#7.05774688720703125000e 00', '')])\n"
     ]
    },
    {
     "name": "stderr",
     "output_type": "stream",
     "text": [
      "127.0.0.1 - - [04/Jan/2022 09:05:30] \"\u001b[37mPOST /lossFunction HTTP/1.1\u001b[0m\" 200 -\n"
     ]
    },
    {
     "name": "stdout",
     "output_type": "stream",
     "text": [
      "ImmutableMultiDict([('w1#6.69036912918090820312e 00', '')])\n"
     ]
    },
    {
     "name": "stderr",
     "output_type": "stream",
     "text": [
      "127.0.0.1 - - [04/Jan/2022 09:05:31] \"\u001b[37mPOST /lossFunction HTTP/1.1\u001b[0m\" 200 -\n",
      "127.0.0.1 - - [04/Jan/2022 09:05:31] \"\u001b[37mPOST /lossFunction HTTP/1.1\u001b[0m\" 200 -\n"
     ]
    },
    {
     "name": "stdout",
     "output_type": "stream",
     "text": [
      "ImmutableMultiDict([('w1#7.10632324218750000000e 00', '')])\n",
      "ImmutableMultiDict([('w1#6.94871664047241210938e 00', '')])\n"
     ]
    },
    {
     "name": "stderr",
     "output_type": "stream",
     "text": [
      "127.0.0.1 - - [04/Jan/2022 09:05:31] \"\u001b[37mPOST /lossFunction HTTP/1.1\u001b[0m\" 200 -\n"
     ]
    },
    {
     "name": "stdout",
     "output_type": "stream",
     "text": [
      "ImmutableMultiDict([('w1#7.10164642333984375000e 00', '')])\n"
     ]
    },
    {
     "name": "stderr",
     "output_type": "stream",
     "text": [
      "127.0.0.1 - - [04/Jan/2022 09:05:31] \"\u001b[37mPOST /lossFunction HTTP/1.1\u001b[0m\" 200 -\n"
     ]
    },
    {
     "name": "stdout",
     "output_type": "stream",
     "text": [
      "ImmutableMultiDict([('w1#6.94480323791503906250e 00', '')])\n"
     ]
    },
    {
     "name": "stderr",
     "output_type": "stream",
     "text": [
      "127.0.0.1 - - [04/Jan/2022 09:05:31] \"\u001b[37mPOST /lossFunction HTTP/1.1\u001b[0m\" 200 -\n",
      "127.0.0.1 - - [04/Jan/2022 09:05:32] \"\u001b[37mPOST /lossFunction HTTP/1.1\u001b[0m\" 200 -\n"
     ]
    },
    {
     "name": "stdout",
     "output_type": "stream",
     "text": [
      "ImmutableMultiDict([('w1#7.07281780242919921875e 00', '')])\n",
      "ImmutableMultiDict([('w1#6.93606615066528320312e 00', '')])\n"
     ]
    },
    {
     "name": "stderr",
     "output_type": "stream",
     "text": [
      "127.0.0.1 - - [04/Jan/2022 09:05:32] \"\u001b[37mPOST /lossFunction HTTP/1.1\u001b[0m\" 200 -\n",
      "127.0.0.1 - - [04/Jan/2022 09:05:32] \"\u001b[37mPOST /lossFunction HTTP/1.1\u001b[0m\" 200 -\n"
     ]
    },
    {
     "name": "stdout",
     "output_type": "stream",
     "text": [
      "ImmutableMultiDict([('w1#7.10118436813354492188e 00', '')])\n",
      "ImmutableMultiDict([('w1#6.84782218933105468750e 00', '')])\n"
     ]
    },
    {
     "name": "stderr",
     "output_type": "stream",
     "text": [
      "127.0.0.1 - - [04/Jan/2022 09:05:32] \"\u001b[37mPOST /lossFunction HTTP/1.1\u001b[0m\" 200 -\n",
      "127.0.0.1 - - [04/Jan/2022 09:05:32] \"\u001b[37mPOST /lossFunction HTTP/1.1\u001b[0m\" 200 -\n"
     ]
    },
    {
     "name": "stdout",
     "output_type": "stream",
     "text": [
      "ImmutableMultiDict([('w1#7.07103157043457031250e 00', '')])\n",
      "ImmutableMultiDict([('w1#7.42093658447265625000e 00', '')])\n"
     ]
    },
    {
     "name": "stderr",
     "output_type": "stream",
     "text": [
      "127.0.0.1 - - [04/Jan/2022 09:05:33] \"\u001b[37mPOST /lossFunction HTTP/1.1\u001b[0m\" 200 -\n",
      "127.0.0.1 - - [04/Jan/2022 09:05:33] \"\u001b[37mPOST /lossFunction HTTP/1.1\u001b[0m\" 200 -\n"
     ]
    },
    {
     "name": "stdout",
     "output_type": "stream",
     "text": [
      "ImmutableMultiDict([('w1#7.08242511749267578125e 00', '')])\n",
      "ImmutableMultiDict([('w1#7.07101678848266601562e 00', '')])\n"
     ]
    },
    {
     "name": "stderr",
     "output_type": "stream",
     "text": [
      "127.0.0.1 - - [04/Jan/2022 09:05:33] \"\u001b[37mPOST /lossFunction HTTP/1.1\u001b[0m\" 200 -\n"
     ]
    },
    {
     "name": "stdout",
     "output_type": "stream",
     "text": [
      "ImmutableMultiDict([('w1#7.07191896438598632812e 00', '')])\n"
     ]
    },
    {
     "name": "stderr",
     "output_type": "stream",
     "text": [
      "127.0.0.1 - - [04/Jan/2022 09:05:33] \"\u001b[37mPOST /lossFunction HTTP/1.1\u001b[0m\" 200 -\n"
     ]
    },
    {
     "name": "stdout",
     "output_type": "stream",
     "text": [
      "ImmutableMultiDict([('w1#1.03290739059448242188e 01', '')])\n",
      "ImmutableMultiDict([('w1#7.07094335556030273438e 00', '')])\n"
     ]
    },
    {
     "name": "stderr",
     "output_type": "stream",
     "text": [
      "127.0.0.1 - - [04/Jan/2022 09:05:33] \"\u001b[37mPOST /lossFunction HTTP/1.1\u001b[0m\" 200 -\n",
      "127.0.0.1 - - [04/Jan/2022 09:05:34] \"\u001b[37mPOST /lossFunction HTTP/1.1\u001b[0m\" 200 -\n"
     ]
    },
    {
     "name": "stdout",
     "output_type": "stream",
     "text": [
      "ImmutableMultiDict([('w1#7.61607551574707031250e 00', '')])\n"
     ]
    },
    {
     "name": "stderr",
     "output_type": "stream",
     "text": [
      "127.0.0.1 - - [04/Jan/2022 09:05:34] \"\u001b[37mPOST /lossFunction HTTP/1.1\u001b[0m\" 200 -\n"
     ]
    },
    {
     "name": "stdout",
     "output_type": "stream",
     "text": [
      "ImmutableMultiDict([('w1#7.07510089874267578125e 00', '')])\n"
     ]
    },
    {
     "name": "stderr",
     "output_type": "stream",
     "text": [
      "127.0.0.1 - - [04/Jan/2022 09:05:34] \"\u001b[37mPOST /lossFunction HTTP/1.1\u001b[0m\" 200 -\n",
      "127.0.0.1 - - [04/Jan/2022 09:05:34] \"\u001b[37mPOST /lossFunction HTTP/1.1\u001b[0m\" 200 -\n"
     ]
    },
    {
     "name": "stdout",
     "output_type": "stream",
     "text": [
      "ImmutableMultiDict([('w1#7.06834363937377929688e 00', '')])\n",
      "ImmutableMultiDict([('w1#7.07688522338867187500e 00', '')])\n"
     ]
    },
    {
     "name": "stderr",
     "output_type": "stream",
     "text": [
      "127.0.0.1 - - [04/Jan/2022 09:05:35] \"\u001b[37mPOST /lossFunction HTTP/1.1\u001b[0m\" 200 -\n"
     ]
    },
    {
     "name": "stdout",
     "output_type": "stream",
     "text": [
      "ImmutableMultiDict([('w1#7.03489542007446289062e 00', '')])\n"
     ]
    },
    {
     "name": "stderr",
     "output_type": "stream",
     "text": [
      "127.0.0.1 - - [04/Jan/2022 09:05:35] \"\u001b[37mPOST /lossFunction HTTP/1.1\u001b[0m\" 200 -\n",
      "127.0.0.1 - - [04/Jan/2022 09:05:35] \"\u001b[37mPOST /lossFunction HTTP/1.1\u001b[0m\" 200 -\n"
     ]
    },
    {
     "name": "stdout",
     "output_type": "stream",
     "text": [
      "ImmutableMultiDict([('w1#6.87143754959106445312e 00', '')])\n",
      "ImmutableMultiDict([('w1#7.05948066711425781250e 00', '')])\n"
     ]
    },
    {
     "name": "stderr",
     "output_type": "stream",
     "text": [
      "127.0.0.1 - - [04/Jan/2022 09:05:35] \"\u001b[37mPOST /lossFunction HTTP/1.1\u001b[0m\" 200 -\n"
     ]
    },
    {
     "name": "stdout",
     "output_type": "stream",
     "text": [
      "ImmutableMultiDict([('w1#7.07106781005859375000e 00', '')])\n"
     ]
    },
    {
     "name": "stderr",
     "output_type": "stream",
     "text": [
      "127.0.0.1 - - [04/Jan/2022 09:05:35] \"\u001b[37mPOST /lossFunction HTTP/1.1\u001b[0m\" 200 -\n",
      "127.0.0.1 - - [04/Jan/2022 09:05:36] \"\u001b[37mPOST /lossFunction HTTP/1.1\u001b[0m\" 200 -\n"
     ]
    },
    {
     "name": "stdout",
     "output_type": "stream",
     "text": [
      "ImmutableMultiDict([('w1#7.10476541519165039062e 00', '')])\n",
      "ImmutableMultiDict([('w1#6.96714496612548828125e 00', '')])\n"
     ]
    },
    {
     "name": "stderr",
     "output_type": "stream",
     "text": [
      "127.0.0.1 - - [04/Jan/2022 09:05:36] \"\u001b[37mPOST /lossFunction HTTP/1.1\u001b[0m\" 200 -\n",
      "127.0.0.1 - - [04/Jan/2022 09:05:36] \"\u001b[37mPOST /lossFunction HTTP/1.1\u001b[0m\" 200 -\n"
     ]
    },
    {
     "name": "stdout",
     "output_type": "stream",
     "text": [
      "ImmutableMultiDict([('w1#6.99441957473754882812e 00', '')])\n",
      "ImmutableMultiDict([('w1#7.10151767730712890625e 00', '')])\n"
     ]
    },
    {
     "name": "stderr",
     "output_type": "stream",
     "text": [
      "127.0.0.1 - - [04/Jan/2022 09:05:36] \"\u001b[37mPOST /lossFunction HTTP/1.1\u001b[0m\" 200 -\n"
     ]
    },
    {
     "name": "stdout",
     "output_type": "stream",
     "text": [
      "ImmutableMultiDict([('w1#6.80297470092773437500e 00', '')])\n",
      "ImmutableMultiDict([('w1#7.07305908203125000000e 00', '')])\n"
     ]
    },
    {
     "name": "stderr",
     "output_type": "stream",
     "text": [
      "127.0.0.1 - - [04/Jan/2022 09:05:36] \"\u001b[37mPOST /lossFunction HTTP/1.1\u001b[0m\" 200 -\n",
      "127.0.0.1 - - [04/Jan/2022 09:05:37] \"\u001b[37mPOST /lossFunction HTTP/1.1\u001b[0m\" 200 -\n"
     ]
    },
    {
     "name": "stdout",
     "output_type": "stream",
     "text": [
      "ImmutableMultiDict([('w1#6.88113832473754882812e 00', '')])\n"
     ]
    },
    {
     "name": "stderr",
     "output_type": "stream",
     "text": [
      "127.0.0.1 - - [04/Jan/2022 09:05:37] \"\u001b[37mPOST /lossFunction HTTP/1.1\u001b[0m\" 200 -\n"
     ]
    },
    {
     "name": "stdout",
     "output_type": "stream",
     "text": [
      "ImmutableMultiDict([('w1#7.10158061981201171875e 00', '')])\n"
     ]
    },
    {
     "name": "stderr",
     "output_type": "stream",
     "text": [
      "127.0.0.1 - - [04/Jan/2022 09:05:37] \"\u001b[37mPOST /lossFunction HTTP/1.1\u001b[0m\" 200 -\n",
      "127.0.0.1 - - [04/Jan/2022 09:05:37] \"\u001b[37mPOST /lossFunction HTTP/1.1\u001b[0m\" 200 -\n"
     ]
    },
    {
     "name": "stdout",
     "output_type": "stream",
     "text": [
      "ImmutableMultiDict([('w1#6.79030847549438476562e 00', '')])\n",
      "ImmutableMultiDict([('w1#7.17246150970458984375e 00', '')])\n"
     ]
    },
    {
     "name": "stderr",
     "output_type": "stream",
     "text": [
      "127.0.0.1 - - [04/Jan/2022 09:05:37] \"\u001b[37mPOST /lossFunction HTTP/1.1\u001b[0m\" 200 -\n"
     ]
    },
    {
     "name": "stdout",
     "output_type": "stream",
     "text": [
      "ImmutableMultiDict([('w1#7.07160568237304687500e 00', '')])\n"
     ]
    },
    {
     "name": "stderr",
     "output_type": "stream",
     "text": [
      "127.0.0.1 - - [04/Jan/2022 09:05:38] \"\u001b[37mPOST /lossFunction HTTP/1.1\u001b[0m\" 200 -\n",
      "127.0.0.1 - - [04/Jan/2022 09:05:38] \"\u001b[37mPOST /lossFunction HTTP/1.1\u001b[0m\" 200 -\n"
     ]
    },
    {
     "name": "stdout",
     "output_type": "stream",
     "text": [
      "ImmutableMultiDict([('w1#7.07127571105957031250e 00', '')])\n",
      "ImmutableMultiDict([('w1#6.97094726562500000000e 00', '')])\n"
     ]
    },
    {
     "name": "stderr",
     "output_type": "stream",
     "text": [
      "127.0.0.1 - - [04/Jan/2022 09:05:38] \"\u001b[37mPOST /lossFunction HTTP/1.1\u001b[0m\" 200 -\n",
      "127.0.0.1 - - [04/Jan/2022 09:05:38] \"\u001b[37mPOST /lossFunction HTTP/1.1\u001b[0m\" 200 -\n"
     ]
    },
    {
     "name": "stdout",
     "output_type": "stream",
     "text": [
      "ImmutableMultiDict([('w1#7.10490274429321289062e 00', '')])\n",
      "ImmutableMultiDict([('w1#6.95532846450805664062e 00', '')])\n"
     ]
    },
    {
     "name": "stderr",
     "output_type": "stream",
     "text": [
      "127.0.0.1 - - [04/Jan/2022 09:05:38] \"\u001b[37mPOST /lossFunction HTTP/1.1\u001b[0m\" 200 -\n"
     ]
    },
    {
     "name": "stdout",
     "output_type": "stream",
     "text": [
      "ImmutableMultiDict([('w1#7.47507619857788085938e 00', '')])\n"
     ]
    },
    {
     "name": "stderr",
     "output_type": "stream",
     "text": [
      "127.0.0.1 - - [04/Jan/2022 09:05:39] \"\u001b[37mPOST /lossFunction HTTP/1.1\u001b[0m\" 200 -\n",
      "127.0.0.1 - - [04/Jan/2022 09:05:39] \"\u001b[37mPOST /lossFunction HTTP/1.1\u001b[0m\" 200 -\n"
     ]
    },
    {
     "name": "stdout",
     "output_type": "stream",
     "text": [
      "ImmutableMultiDict([('w1#6.93739271163940429688e 00', '')])\n",
      "ImmutableMultiDict([('w1#7.10062742233276367188e 00', '')])\n"
     ]
    },
    {
     "name": "stderr",
     "output_type": "stream",
     "text": [
      "127.0.0.1 - - [04/Jan/2022 09:05:39] \"\u001b[37mPOST /lossFunction HTTP/1.1\u001b[0m\" 200 -\n"
     ]
    },
    {
     "name": "stdout",
     "output_type": "stream",
     "text": [
      "ImmutableMultiDict([('w1#6.77206039428710937500e 00', '')])\n"
     ]
    },
    {
     "name": "stderr",
     "output_type": "stream",
     "text": [
      "127.0.0.1 - - [04/Jan/2022 09:05:39] \"\u001b[37mPOST /lossFunction HTTP/1.1\u001b[0m\" 200 -\n",
      "127.0.0.1 - - [04/Jan/2022 09:05:39] \"\u001b[37mPOST /lossFunction HTTP/1.1\u001b[0m\" 200 -\n"
     ]
    },
    {
     "name": "stdout",
     "output_type": "stream",
     "text": [
      "ImmutableMultiDict([('w1#7.06666231155395507812e 00', '')])\n",
      "ImmutableMultiDict([('w1#7.10535097122192382812e 00', '')])\n"
     ]
    },
    {
     "name": "stderr",
     "output_type": "stream",
     "text": [
      "127.0.0.1 - - [04/Jan/2022 09:05:40] \"\u001b[37mPOST /lossFunction HTTP/1.1\u001b[0m\" 200 -\n"
     ]
    },
    {
     "name": "stdout",
     "output_type": "stream",
     "text": [
      "ImmutableMultiDict([('w1#7.16891574859619140625e 00', '')])\n"
     ]
    },
    {
     "name": "stderr",
     "output_type": "stream",
     "text": [
      "127.0.0.1 - - [04/Jan/2022 09:05:40] \"\u001b[37mPOST /lossFunction HTTP/1.1\u001b[0m\" 200 -\n",
      "127.0.0.1 - - [04/Jan/2022 09:05:40] \"\u001b[37mPOST /lossFunction HTTP/1.1\u001b[0m\" 200 -\n"
     ]
    },
    {
     "name": "stdout",
     "output_type": "stream",
     "text": [
      "ImmutableMultiDict([('w1#7.50512742996215820312e 00', '')])\n",
      "ImmutableMultiDict([('w1#7.06664276123046875000e 00', '')])\n"
     ]
    },
    {
     "name": "stderr",
     "output_type": "stream",
     "text": [
      "127.0.0.1 - - [04/Jan/2022 09:05:40] \"\u001b[37mPOST /lossFunction HTTP/1.1\u001b[0m\" 200 -\n"
     ]
    },
    {
     "name": "stdout",
     "output_type": "stream",
     "text": [
      "ImmutableMultiDict([('w1#7.11215305328369140625e 00', '')])\n"
     ]
    },
    {
     "name": "stderr",
     "output_type": "stream",
     "text": [
      "127.0.0.1 - - [04/Jan/2022 09:05:41] \"\u001b[37mPOST /lossFunction HTTP/1.1\u001b[0m\" 200 -\n",
      "127.0.0.1 - - [04/Jan/2022 09:05:41] \"\u001b[37mPOST /lossFunction HTTP/1.1\u001b[0m\" 200 -\n"
     ]
    },
    {
     "name": "stdout",
     "output_type": "stream",
     "text": [
      "ImmutableMultiDict([('w1#6.39508676528930664062e 00', '')])\n",
      "ImmutableMultiDict([('w1#7.10633182525634765625e 00', '')])\n"
     ]
    },
    {
     "name": "stderr",
     "output_type": "stream",
     "text": [
      "127.0.0.1 - - [04/Jan/2022 09:05:41] \"\u001b[37mPOST /lossFunction HTTP/1.1\u001b[0m\" 200 -\n"
     ]
    },
    {
     "name": "stdout",
     "output_type": "stream",
     "text": [
      "ImmutableMultiDict([('w1#6.36623907089233398438e 00', '')])\n"
     ]
    },
    {
     "name": "stderr",
     "output_type": "stream",
     "text": [
      "127.0.0.1 - - [04/Jan/2022 09:05:41] \"\u001b[37mPOST /lossFunction HTTP/1.1\u001b[0m\" 200 -\n"
     ]
    },
    {
     "name": "stdout",
     "output_type": "stream",
     "text": [
      "ImmutableMultiDict([('w1#7.47165632247924804688e 00', '')])\n"
     ]
    },
    {
     "name": "stderr",
     "output_type": "stream",
     "text": [
      "127.0.0.1 - - [04/Jan/2022 09:05:41] \"\u001b[37mPOST /lossFunction HTTP/1.1\u001b[0m\" 200 -\n",
      "127.0.0.1 - - [04/Jan/2022 09:05:42] \"\u001b[37mPOST /lossFunction HTTP/1.1\u001b[0m\" 200 -\n"
     ]
    },
    {
     "name": "stdout",
     "output_type": "stream",
     "text": [
      "ImmutableMultiDict([('w1#7.07177066802978515625e 00', '')])\n",
      "ImmutableMultiDict([('w1#7.08644771575927734375e 00', '')])\n"
     ]
    },
    {
     "name": "stderr",
     "output_type": "stream",
     "text": [
      "127.0.0.1 - - [04/Jan/2022 09:05:42] \"\u001b[37mPOST /lossFunction HTTP/1.1\u001b[0m\" 200 -\n"
     ]
    },
    {
     "name": "stdout",
     "output_type": "stream",
     "text": [
      "ImmutableMultiDict([('w1#7.05336046218872070312e 00', '')])\n"
     ]
    },
    {
     "name": "stderr",
     "output_type": "stream",
     "text": [
      "127.0.0.1 - - [04/Jan/2022 09:05:42] \"\u001b[37mPOST /lossFunction HTTP/1.1\u001b[0m\" 200 -\n",
      "127.0.0.1 - - [04/Jan/2022 09:05:42] \"\u001b[37mPOST /lossFunction HTTP/1.1\u001b[0m\" 200 -\n"
     ]
    },
    {
     "name": "stdout",
     "output_type": "stream",
     "text": [
      "ImmutableMultiDict([('w1#7.06538581848144531250e 00', '')])\n",
      "ImmutableMultiDict([('w1#7.07148647308349609375e 00', '')])\n"
     ]
    },
    {
     "name": "stderr",
     "output_type": "stream",
     "text": [
      "127.0.0.1 - - [04/Jan/2022 09:05:42] \"\u001b[37mPOST /lossFunction HTTP/1.1\u001b[0m\" 200 -\n",
      "127.0.0.1 - - [04/Jan/2022 09:05:43] \"\u001b[37mPOST /lossFunction HTTP/1.1\u001b[0m\" 200 -\n"
     ]
    },
    {
     "name": "stdout",
     "output_type": "stream",
     "text": [
      "ImmutableMultiDict([('w1#7.07106876373291015625e 00', '')])\n",
      "ImmutableMultiDict([('w1#7.07104444503784179688e 00', '')])\n"
     ]
    },
    {
     "name": "stderr",
     "output_type": "stream",
     "text": [
      "127.0.0.1 - - [04/Jan/2022 09:05:43] \"\u001b[37mPOST /lossFunction HTTP/1.1\u001b[0m\" 200 -\n"
     ]
    },
    {
     "name": "stdout",
     "output_type": "stream",
     "text": [
      "ImmutableMultiDict([('w1#7.07086610794067382812e 00', '')])\n",
      "ImmutableMultiDict([('w1#7.06903028488159179688e 00', '')])\n"
     ]
    },
    {
     "name": "stderr",
     "output_type": "stream",
     "text": [
      "127.0.0.1 - - [04/Jan/2022 09:05:43] \"\u001b[37mPOST /lossFunction HTTP/1.1\u001b[0m\" 200 -\n",
      "127.0.0.1 - - [04/Jan/2022 09:05:43] \"\u001b[37mPOST /lossFunction HTTP/1.1\u001b[0m\" 200 -\n"
     ]
    },
    {
     "name": "stdout",
     "output_type": "stream",
     "text": [
      "ImmutableMultiDict([('w1#7.09941673278808593750e 00', '')])\n"
     ]
    },
    {
     "name": "stderr",
     "output_type": "stream",
     "text": [
      "127.0.0.1 - - [04/Jan/2022 09:05:44] \"\u001b[37mPOST /lossFunction HTTP/1.1\u001b[0m\" 200 -\n"
     ]
    },
    {
     "name": "stdout",
     "output_type": "stream",
     "text": [
      "ImmutableMultiDict([('w1#7.07163095474243164062e 00', '')])\n"
     ]
    },
    {
     "name": "stderr",
     "output_type": "stream",
     "text": [
      "127.0.0.1 - - [04/Jan/2022 09:05:44] \"\u001b[37mPOST /lossFunction HTTP/1.1\u001b[0m\" 200 -\n",
      "127.0.0.1 - - [04/Jan/2022 09:05:44] \"\u001b[37mPOST /lossFunction HTTP/1.1\u001b[0m\" 200 -\n"
     ]
    },
    {
     "name": "stdout",
     "output_type": "stream",
     "text": [
      "ImmutableMultiDict([('w1#7.07089328765869140625e 00', '')])\n",
      "ImmutableMultiDict([('w1#7.07607173919677734375e 00', '')])\n"
     ]
    },
    {
     "name": "stderr",
     "output_type": "stream",
     "text": [
      "127.0.0.1 - - [04/Jan/2022 09:05:44] \"\u001b[37mPOST /lossFunction HTTP/1.1\u001b[0m\" 200 -\n"
     ]
    },
    {
     "name": "stdout",
     "output_type": "stream",
     "text": [
      "ImmutableMultiDict([('w1#7.09008121490478515625e 00', '')])\n"
     ]
    },
    {
     "name": "stderr",
     "output_type": "stream",
     "text": [
      "127.0.0.1 - - [04/Jan/2022 09:05:44] \"\u001b[37mPOST /lossFunction HTTP/1.1\u001b[0m\" 200 -\n",
      "127.0.0.1 - - [04/Jan/2022 09:05:45] \"\u001b[37mPOST /lossFunction HTTP/1.1\u001b[0m\" 200 -\n"
     ]
    },
    {
     "name": "stdout",
     "output_type": "stream",
     "text": [
      "ImmutableMultiDict([('w1#7.67146062850952148438e 00', '')])\n",
      "ImmutableMultiDict([('w1#7.06932449340820312500e 00', '')])\n"
     ]
    },
    {
     "name": "stderr",
     "output_type": "stream",
     "text": [
      "127.0.0.1 - - [04/Jan/2022 09:05:45] \"\u001b[37mPOST /lossFunction HTTP/1.1\u001b[0m\" 200 -\n",
      "127.0.0.1 - - [04/Jan/2022 09:05:45] \"\u001b[37mPOST /lossFunction HTTP/1.1\u001b[0m\" 200 -\n"
     ]
    },
    {
     "name": "stdout",
     "output_type": "stream",
     "text": [
      "ImmutableMultiDict([('w1#7.05965518951416015625e 00', '')])\n",
      "ImmutableMultiDict([('w1#7.00798177719116210938e 00', '')])\n"
     ]
    },
    {
     "name": "stderr",
     "output_type": "stream",
     "text": [
      "127.0.0.1 - - [04/Jan/2022 09:05:45] \"\u001b[37mPOST /lossFunction HTTP/1.1\u001b[0m\" 200 -\n"
     ]
    },
    {
     "name": "stdout",
     "output_type": "stream",
     "text": [
      "ImmutableMultiDict([('w1#7.10074472427368164062e 00', '')])\n"
     ]
    },
    {
     "name": "stderr",
     "output_type": "stream",
     "text": [
      "127.0.0.1 - - [04/Jan/2022 09:05:45] \"\u001b[37mPOST /lossFunction HTTP/1.1\u001b[0m\" 200 -\n",
      "127.0.0.1 - - [04/Jan/2022 09:05:46] \"\u001b[37mPOST /lossFunction HTTP/1.1\u001b[0m\" 200 -\n"
     ]
    },
    {
     "name": "stdout",
     "output_type": "stream",
     "text": [
      "ImmutableMultiDict([('w1#6.99397897720336914062e 00', '')])\n",
      "ImmutableMultiDict([('w1#7.07023382186889648438e 00', '')])\n"
     ]
    },
    {
     "name": "stderr",
     "output_type": "stream",
     "text": [
      "127.0.0.1 - - [04/Jan/2022 09:05:46] \"\u001b[37mPOST /lossFunction HTTP/1.1\u001b[0m\" 200 -\n"
     ]
    },
    {
     "name": "stdout",
     "output_type": "stream",
     "text": [
      "ImmutableMultiDict([('w1#7.15325307846069335938e 00', '')])\n"
     ]
    },
    {
     "name": "stderr",
     "output_type": "stream",
     "text": [
      "127.0.0.1 - - [04/Jan/2022 09:05:46] \"\u001b[37mPOST /lossFunction HTTP/1.1\u001b[0m\" 200 -\n"
     ]
    },
    {
     "name": "stdout",
     "output_type": "stream",
     "text": [
      "ImmutableMultiDict([('w1#7.11565017700195312500e 00', '')])\n"
     ]
    },
    {
     "name": "stderr",
     "output_type": "stream",
     "text": [
      "127.0.0.1 - - [04/Jan/2022 09:05:46] \"\u001b[37mPOST /lossFunction HTTP/1.1\u001b[0m\" 200 -\n",
      "127.0.0.1 - - [04/Jan/2022 09:05:46] \"\u001b[37mPOST /lossFunction HTTP/1.1\u001b[0m\" 200 -\n"
     ]
    },
    {
     "name": "stdout",
     "output_type": "stream",
     "text": [
      "ImmutableMultiDict([('w1#6.84262990951538085938e 00', '')])\n",
      "ImmutableMultiDict([('w1#7.07665395736694335938e 00', '')])\n"
     ]
    },
    {
     "name": "stderr",
     "output_type": "stream",
     "text": [
      "127.0.0.1 - - [04/Jan/2022 09:05:47] \"\u001b[37mPOST /lossFunction HTTP/1.1\u001b[0m\" 200 -\n",
      "127.0.0.1 - - [04/Jan/2022 09:05:47] \"\u001b[37mPOST /lossFunction HTTP/1.1\u001b[0m\" 200 -\n"
     ]
    },
    {
     "name": "stdout",
     "output_type": "stream",
     "text": [
      "ImmutableMultiDict([('w1#6.94378948211669921875e 00', '')])\n",
      "ImmutableMultiDict([('w1#7.10500288009643554688e 00', '')])\n"
     ]
    },
    {
     "name": "stderr",
     "output_type": "stream",
     "text": [
      "127.0.0.1 - - [04/Jan/2022 09:05:47] \"\u001b[37mPOST /lossFunction HTTP/1.1\u001b[0m\" 200 -\n",
      "127.0.0.1 - - [04/Jan/2022 09:05:47] \"\u001b[37mPOST /lossFunction HTTP/1.1\u001b[0m\" 200 -\n"
     ]
    },
    {
     "name": "stdout",
     "output_type": "stream",
     "text": [
      "ImmutableMultiDict([('w1#6.76367235183715820312e 00', '')])\n",
      "ImmutableMultiDict([('w1#7.10004949569702148438e 00', '')])\n"
     ]
    },
    {
     "name": "stderr",
     "output_type": "stream",
     "text": [
      "127.0.0.1 - - [04/Jan/2022 09:05:47] \"\u001b[37mPOST /lossFunction HTTP/1.1\u001b[0m\" 200 -\n"
     ]
    },
    {
     "name": "stdout",
     "output_type": "stream",
     "text": [
      "ImmutableMultiDict([('w1#6.98492431640625000000e 00', '')])\n"
     ]
    },
    {
     "name": "stderr",
     "output_type": "stream",
     "text": [
      "127.0.0.1 - - [04/Jan/2022 09:05:48] \"\u001b[37mPOST /lossFunction HTTP/1.1\u001b[0m\" 200 -\n",
      "127.0.0.1 - - [04/Jan/2022 09:05:48] \"\u001b[37mPOST /lossFunction HTTP/1.1\u001b[0m\" 200 -\n"
     ]
    },
    {
     "name": "stdout",
     "output_type": "stream",
     "text": [
      "ImmutableMultiDict([('w1#7.07768774032592773438e 00', '')])\n",
      "ImmutableMultiDict([('w1#7.06888532638549804688e 00', '')])\n"
     ]
    },
    {
     "name": "stderr",
     "output_type": "stream",
     "text": [
      "127.0.0.1 - - [04/Jan/2022 09:05:48] \"\u001b[37mPOST /lossFunction HTTP/1.1\u001b[0m\" 200 -\n",
      "127.0.0.1 - - [04/Jan/2022 09:05:48] \"\u001b[37mPOST /lossFunction HTTP/1.1\u001b[0m\" 200 -\n"
     ]
    },
    {
     "name": "stdout",
     "output_type": "stream",
     "text": [
      "ImmutableMultiDict([('w1#7.07492685317993164062e 00', '')])\n",
      "ImmutableMultiDict([('w1#7.16389894485473632812e 00', '')])\n"
     ]
    },
    {
     "name": "stderr",
     "output_type": "stream",
     "text": [
      "127.0.0.1 - - [04/Jan/2022 09:05:48] \"\u001b[37mPOST /lossFunction HTTP/1.1\u001b[0m\" 200 -\n"
     ]
    },
    {
     "name": "stdout",
     "output_type": "stream",
     "text": [
      "ImmutableMultiDict([('w1#7.06930685043334960938e 00', '')])\n"
     ]
    },
    {
     "name": "stderr",
     "output_type": "stream",
     "text": [
      "127.0.0.1 - - [04/Jan/2022 09:05:49] \"\u001b[37mPOST /lossFunction HTTP/1.1\u001b[0m\" 200 -\n",
      "127.0.0.1 - - [04/Jan/2022 09:05:49] \"\u001b[37mPOST /lossFunction HTTP/1.1\u001b[0m\" 200 -\n"
     ]
    },
    {
     "name": "stdout",
     "output_type": "stream",
     "text": [
      "ImmutableMultiDict([('w1#7.06866312026977539062e 00', '')])\n",
      "ImmutableMultiDict([('w1#7.06493139266967773438e 00', '')])\n"
     ]
    },
    {
     "name": "stderr",
     "output_type": "stream",
     "text": [
      "127.0.0.1 - - [04/Jan/2022 09:05:49] \"\u001b[37mPOST /lossFunction HTTP/1.1\u001b[0m\" 200 -\n",
      "127.0.0.1 - - [04/Jan/2022 09:05:49] \"\u001b[37mPOST /lossFunction HTTP/1.1\u001b[0m\" 200 -\n"
     ]
    },
    {
     "name": "stdout",
     "output_type": "stream",
     "text": [
      "ImmutableMultiDict([('w1#7.06613969802856445312e 00', '')])\n",
      "ImmutableMultiDict([('w1#7.47443485260009765625e 00', '')])\n"
     ]
    },
    {
     "name": "stderr",
     "output_type": "stream",
     "text": [
      "127.0.0.1 - - [04/Jan/2022 09:05:49] \"\u001b[37mPOST /lossFunction HTTP/1.1\u001b[0m\" 200 -\n"
     ]
    },
    {
     "name": "stdout",
     "output_type": "stream",
     "text": [
      "ImmutableMultiDict([('w1#7.59069490432739257812e 00', '')])\n"
     ]
    },
    {
     "name": "stderr",
     "output_type": "stream",
     "text": [
      "127.0.0.1 - - [04/Jan/2022 09:05:50] \"\u001b[37mPOST /lossFunction HTTP/1.1\u001b[0m\" 200 -\n",
      "127.0.0.1 - - [04/Jan/2022 09:05:50] \"\u001b[37mPOST /lossFunction HTTP/1.1\u001b[0m\" 200 -\n"
     ]
    },
    {
     "name": "stdout",
     "output_type": "stream",
     "text": [
      "ImmutableMultiDict([('w1#7.06047201156616210938e 00', '')])\n",
      "ImmutableMultiDict([('w1#7.10533952713012695312e 00', '')])\n"
     ]
    },
    {
     "name": "stderr",
     "output_type": "stream",
     "text": [
      "127.0.0.1 - - [04/Jan/2022 09:05:50] \"\u001b[37mPOST /lossFunction HTTP/1.1\u001b[0m\" 200 -\n"
     ]
    },
    {
     "name": "stdout",
     "output_type": "stream",
     "text": [
      "ImmutableMultiDict([('w1#7.02272033691406250000e 00', '')])\n"
     ]
    },
    {
     "name": "stderr",
     "output_type": "stream",
     "text": [
      "127.0.0.1 - - [04/Jan/2022 09:05:50] \"\u001b[37mPOST /lossFunction HTTP/1.1\u001b[0m\" 200 -\n"
     ]
    },
    {
     "name": "stdout",
     "output_type": "stream",
     "text": [
      "ImmutableMultiDict([('w1#7.07084894180297851562e 00', '')])\n"
     ]
    },
    {
     "name": "stderr",
     "output_type": "stream",
     "text": [
      "127.0.0.1 - - [04/Jan/2022 09:05:51] \"\u001b[37mPOST /ack HTTP/1.1\u001b[0m\" 200 -\n"
     ]
    },
    {
     "name": "stdout",
     "output_type": "stream",
     "text": [
      "Ack Received!\n",
      "0\n",
      "New loss map created!\n",
      "{'w1': [6.98934268951416, 6.798196792602539, 7.057746887207031, 6.690369129180908, 7.1063232421875, 6.948716640472412, 7.101646423339844, 6.944803237915039, 7.072817802429199, 6.936066150665283, 7.101184368133545, 6.847822189331055, 7.07103157043457, 7.420936584472656, 7.082425117492676, 7.071016788482666, 7.071918964385986, 10.329073905944824, 7.070943355560303, 7.61607551574707, 7.075100898742676, 7.068343639373779, 7.076885223388672, 7.034895420074463, 6.8714375495910645, 7.059480667114258, 7.071067810058594, 7.10476541519165, 6.967144966125488, 6.994419574737549, 7.101517677307129, 6.802974700927734, 7.07305908203125, 6.881138324737549, 7.101580619812012, 6.790308475494385, 7.17246150970459, 7.071605682373047, 7.07127571105957, 6.970947265625, 7.104902744293213, 6.955328464508057, 7.475076198577881, 6.937392711639404, 7.100627422332764, 6.772060394287109, 7.066662311553955, 7.105350971221924, 7.168915748596191, 7.505127429962158, 7.066642761230469, 7.112153053283691, 6.395086765289307, 7.106331825256348, 6.366239070892334, 7.471656322479248, 7.071770668029785, 7.086447715759277, 7.053360462188721, 7.065385818481445, 7.071486473083496, 7.07106876373291, 7.071044445037842, 7.070866107940674, 7.069030284881592, 7.099416732788086, 7.071630954742432, 7.070893287658691, 7.076071739196777, 7.090081214904785, 7.6714606285095215, 7.069324493408203, 7.05965518951416, 7.007981777191162, 7.100744724273682, 6.993978977203369, 7.0702338218688965, 7.153253078460693, 7.115650177001953, 6.842629909515381, 7.076653957366943, 6.943789482116699, 7.1050028800964355, 6.763672351837158, 7.1000494956970215, 6.98492431640625, 7.077687740325928, 7.068885326385498, 7.074926853179932, 7.163898944854736, 7.06930685043335, 7.068663120269775, 7.064931392669678, 7.0661396980285645, 7.474434852600098, 7.590694904327393, 7.060472011566162, 7.105339527130127, 7.0227203369140625, 7.0708489418029785]}\n"
     ]
    }
   ],
   "source": [
    "lossMap = inst.train()"
   ]
  },
  {
   "cell_type": "code",
   "execution_count": 3,
   "id": "aad9c38b",
   "metadata": {},
   "outputs": [
    {
     "data": {
      "image/png": "[encoded data removed]",
      "text/plain": [
       "<Figure size 432x288 with 1 Axes>"
      ]
     },
     "metadata": {
      "needs_background": "light"
     },
     "output_type": "display_data"
    }
   ],
   "source": [
    "import matplotlib.pyplot as plt\n",
    "import globalVars as globe\n",
    "\n",
    "w1LossValues = globe.lossMaps[-1]['w1']\n",
    "\n",
    "graph = plt.figure()\n",
    "plt.plot(w1LossValues)\n",
    "# Prevent scientific notation of values:\n",
    "plt.ticklabel_format(useOffset=False)\n",
    "plt.title('Worker 1 - Loss Function')\n",
    "plt.ylabel('Loss Function Value')\n",
    "plt.show()"
   ]
  },
  {
   "cell_type": "code",
   "execution_count": 4,
   "id": "92226299",
   "metadata": {},
   "outputs": [
    {
     "name": "stdout",
     "output_type": "stream",
     "text": [
      "{'w1': [6.98934268951416, 6.798196792602539, 7.057746887207031, 6.690369129180908, 7.1063232421875, 6.948716640472412, 7.101646423339844, 6.944803237915039, 7.072817802429199, 6.936066150665283, 7.101184368133545, 6.847822189331055, 7.07103157043457, 7.420936584472656, 7.082425117492676, 7.071016788482666, 7.071918964385986, 10.329073905944824, 7.070943355560303, 7.61607551574707, 7.075100898742676, 7.068343639373779, 7.076885223388672, 7.034895420074463, 6.8714375495910645, 7.059480667114258, 7.071067810058594, 7.10476541519165, 6.967144966125488, 6.994419574737549, 7.101517677307129, 6.802974700927734, 7.07305908203125, 6.881138324737549, 7.101580619812012, 6.790308475494385, 7.17246150970459, 7.071605682373047, 7.07127571105957, 6.970947265625, 7.104902744293213, 6.955328464508057, 7.475076198577881, 6.937392711639404, 7.100627422332764, 6.772060394287109, 7.066662311553955, 7.105350971221924, 7.168915748596191, 7.505127429962158, 7.066642761230469, 7.112153053283691, 6.395086765289307, 7.106331825256348, 6.366239070892334, 7.471656322479248, 7.071770668029785, 7.086447715759277, 7.053360462188721, 7.065385818481445, 7.071486473083496, 7.07106876373291, 7.071044445037842, 7.070866107940674, 7.069030284881592, 7.099416732788086, 7.071630954742432, 7.070893287658691, 7.076071739196777, 7.090081214904785, 7.6714606285095215, 7.069324493408203, 7.05965518951416, 7.007981777191162, 7.100744724273682, 6.993978977203369, 7.0702338218688965, 7.153253078460693, 7.115650177001953, 6.842629909515381, 7.076653957366943, 6.943789482116699, 7.1050028800964355, 6.763672351837158, 7.1000494956970215, 6.98492431640625, 7.077687740325928, 7.068885326385498, 7.074926853179932, 7.163898944854736, 7.06930685043335, 7.068663120269775, 7.064931392669678, 7.0661396980285645, 7.474434852600098, 7.590694904327393, 7.060472011566162, 7.105339527130127, 7.0227203369140625, 7.0708489418029785]}\n"
     ]
    }
   ],
   "source": [
    "print(globe.lossMaps[-1])"
   ]
  },
  {
   "cell_type": "code",
   "execution_count": null,
   "id": "d0740d27",
   "metadata": {},
   "outputs": [],
   "source": []
  }
 ],
 "metadata": {
  "kernelspec": {
   "display_name": "Python 3",
   "language": "python",
   "name": "python3"
  },
  "language_info": {
   "codemirror_mode": {
    "name": "ipython",
    "version": 3
   },
   "file_extension": ".py",
   "mimetype": "text/x-python",
   "name": "python",
   "nbconvert_exporter": "python",
   "pygments_lexer": "ipython3",
   "version": "3.8.8"
  }
 },
 "nbformat": 4,
 "nbformat_minor": 5
}
