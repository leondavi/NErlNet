{
 "cells": [
  {
   "cell_type": "code",
   "execution_count": 1,
   "id": "bafddfcf-fbb2-447f-9eab-2a0820020b63",
   "metadata": {},
   "outputs": [
    {
     "name": "stdout",
     "output_type": "stream",
     "text": [
      "3.8.11\n"
     ]
    }
   ],
   "source": [
    "import sys\n",
    "import os\n",
    "import apiServer as apiserv\n",
    "from platform import python_version\n",
    "print(python_version())\n"
   ]
  },
  {
   "cell_type": "code",
   "execution_count": null,
   "id": "ca8ecc33-86f2-42df-8c0e-db6f5a777c26",
   "metadata": {},
   "outputs": [
    {
     "name": "stdin",
     "output_type": "stream",
     "text": [
      "pleas enter port of post requests / extract from json:  8090\n"
     ]
    },
    {
     "name": "stdout",
     "output_type": "stream",
     "text": [
      "Starting server, use <Ctrl-C> to stop\n",
      "HTTP server running on port 8080\n",
      "server running in background...\n",
      "Nerlnet initiating training..\n",
      "s1,w1,./input/inputShort.csv\n",
      "<html><body><p>POST!</p><p>s1,w1,./input/inputShort.csv</p></body></html>\n",
      "\n",
      "<html><body><p>POST!</p><p></p></body></html>\n"
     ]
    },
    {
     "name": "stderr",
     "output_type": "stream",
     "text": [
      "127.0.0.1 - - [14/Sep/2021 11:21:47] \"POST /updateCSV HTTP/1.1\" 200 -\n",
      "----------------------------------------\n",
      "Exception happened during processing of request from ('127.0.0.1', 55024)\n",
      "Traceback (most recent call last):\n",
      "  File \"/home/david/anaconda3/envs/nerlnet/lib/python3.8/socketserver.py\", line 683, in process_request_thread\n",
      "    self.finish_request(request, client_address)\n",
      "  File \"/home/david/anaconda3/envs/nerlnet/lib/python3.8/socketserver.py\", line 360, in finish_request\n",
      "    self.RequestHandlerClass(request, client_address, self)\n",
      "  File \"/home/david/anaconda3/envs/nerlnet/lib/python3.8/socketserver.py\", line 747, in __init__\n",
      "    self.handle()\n",
      "  File \"/home/david/anaconda3/envs/nerlnet/lib/python3.8/http/server.py\", line 427, in handle\n",
      "    self.handle_one_request()\n",
      "  File \"/home/david/anaconda3/envs/nerlnet/lib/python3.8/http/server.py\", line 415, in handle_one_request\n",
      "    method()\n",
      "  File \"/home/david/workspace/NErlNet/src_py/NerlnetPyAPI/__init__.py\", line 65, in do_POST\n",
      "    print(src_py.NerlnetPyAPI.settings.x)\n",
      "NameError: name 'src_py' is not defined\n",
      "----------------------------------------\n",
      "127.0.0.1 - - [14/Sep/2021 11:21:47] \"POST /clientsTraining HTTP/1.1\" 200 -\n",
      "----------------------------------------\n",
      "Exception happened during processing of request from ('127.0.0.1', 55026)\n",
      "Traceback (most recent call last):\n",
      "  File \"/home/david/anaconda3/envs/nerlnet/lib/python3.8/socketserver.py\", line 683, in process_request_thread\n",
      "    self.finish_request(request, client_address)\n",
      "  File \"/home/david/anaconda3/envs/nerlnet/lib/python3.8/socketserver.py\", line 360, in finish_request\n",
      "    self.RequestHandlerClass(request, client_address, self)\n",
      "  File \"/home/david/anaconda3/envs/nerlnet/lib/python3.8/socketserver.py\", line 747, in __init__\n",
      "    self.handle()\n",
      "  File \"/home/david/anaconda3/envs/nerlnet/lib/python3.8/http/server.py\", line 427, in handle\n",
      "    self.handle_one_request()\n",
      "  File \"/home/david/anaconda3/envs/nerlnet/lib/python3.8/http/server.py\", line 415, in handle_one_request\n",
      "    method()\n",
      "  File \"/home/david/workspace/NErlNet/src_py/NerlnetPyAPI/__init__.py\", line 65, in do_POST\n",
      "    print(src_py.NerlnetPyAPI.settings.x)\n",
      "NameError: name 'src_py' is not defined\n",
      "----------------------------------------\n"
     ]
    }
   ],
   "source": [
    "apiserv.init()"
   ]
  },
  {
   "cell_type": "code",
   "execution_count": null,
   "id": "0f2fc9cd-8ce9-4942-a898-64c5cb0801c8",
   "metadata": {},
   "outputs": [],
   "source": []
  }
 ],
 "metadata": {
  "kernelspec": {
   "display_name": "Python 3 (ipykernel)",
   "language": "python",
   "name": "python3"
  },
  "language_info": {
   "codemirror_mode": {
    "name": "ipython",
    "version": 3
   },
   "file_extension": ".py",
   "mimetype": "text/x-python",
   "name": "python",
   "nbconvert_exporter": "python",
   "pygments_lexer": "ipython3",
   "version": "3.8.11"
  }
 },
 "nbformat": 4,
 "nbformat_minor": 5
}
