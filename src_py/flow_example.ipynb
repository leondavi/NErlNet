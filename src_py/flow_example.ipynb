{
 "cells": [
  {
   "cell_type": "code",
   "execution_count": 1,
   "id": "bafddfcf-fbb2-447f-9eab-2a0820020b63",
   "metadata": {},
   "outputs": [
    {
     "name": "stdout",
     "output_type": "stream",
     "text": [
      "3.8.11\n"
     ]
    }
   ],
   "source": [
    "import sys\n",
    "import os\n",
    "import apiServer as apiserv\n",
    "from platform import python_version\n",
    "print(python_version())\n",
    "\n",
    "#PATH_TO_JSON = '/home/david/workspace/david.json'\n",
    "PATH_TO_JSON = '/home/david/workspace/aslan.json'"
   ]
  },
  {
   "cell_type": "code",
   "execution_count": null,
   "id": "ca8ecc33-86f2-42df-8c0e-db6f5a777c26",
   "metadata": {},
   "outputs": [
    {
     "name": "stdout",
     "output_type": "stream",
     "text": [
      "Starting server, use <Ctrl-C> to stop\n",
      "HTTP server running on port 8095\n",
      "server running in background...\n",
      "Nerlnet initiating training..\n",
      "Body Received: <<\"s1,w1,/home/david/workspace/data/sensor1/train6labels.csv\">>, Decoded Body = \"s1,w1,/home/david/workspace/data/sensor1/train6labels.csv\" \n",
      " State:<0.208.0>\n",
      "\n",
      "Body Received: <<\"s2,w2,/home/david/workspace/data/sensor2/train6labels.csv\">>, Decoded Body = \"s2,w2,/home/david/workspace/data/sensor2/train6labels.csv\" \n",
      " State:<0.208.0>\n",
      "\n",
      "Body Received: <<>> \n",
      " \n",
      "ack\n",
      "2\n",
      "['ack']\n"
     ]
    },
    {
     "name": "stderr",
     "output_type": "stream",
     "text": [
      "127.0.0.1 - - [14/Sep/2021 13:09:53] \"POST /ack HTTP/1.1\" 200 -\n",
      "127.0.0.1 - - [14/Sep/2021 13:10:31] \"POST /ack HTTP/1.1\" 200 -\n"
     ]
    },
    {
     "name": "stdout",
     "output_type": "stream",
     "text": [
      "ack\n",
      "1\n",
      "['ack', 'ack']\n"
     ]
    }
   ],
   "source": [
    "API_SERVER_PORT = 8095\n",
    "apiserv.init(PATH_TO_JSON, API_SERVER_PORT)\n",
    "#apiserv.getWorkers()\n",
    "#apiserv.getSources()\n",
    "#apiserv.getRouters()\n",
    "\n",
    "statistics, lossVector = apiserv.train(200) # batchSize / time \n",
    "#Research and analyze \n",
    "statistics, distanceVector = apiserv.predict(batchSize)\n",
    "\n",
    "statistics, lossVector = apiserv.train(batchSize)\n",
    "\n",
    "statistics, lossVector = apiserv.train(batchSize)\n",
    "\n",
    "statistics, lossVector = apiserv.train(batchSize)"
   ]
  },
  {
   "cell_type": "code",
   "execution_count": null,
   "id": "0f2fc9cd-8ce9-4942-a898-64c5cb0801c8",
   "metadata": {},
   "outputs": [],
   "source": []
  },
  {
   "cell_type": "code",
   "execution_count": null,
   "id": "0dc941ee-e162-4563-86fc-f4b1ab46f4d6",
   "metadata": {},
   "outputs": [],
   "source": []
  }
 ],
 "metadata": {
  "kernelspec": {
   "display_name": "Python 3 (ipykernel)",
   "language": "python",
   "name": "python3"
  },
  "language_info": {
   "codemirror_mode": {
    "name": "ipython",
    "version": 3
   },
   "file_extension": ".py",
   "mimetype": "text/x-python",
   "name": "python",
   "nbconvert_exporter": "python",
   "pygments_lexer": "ipython3",
   "version": "3.8.11"
  }
 },
 "nbformat": 4,
 "nbformat_minor": 5
}