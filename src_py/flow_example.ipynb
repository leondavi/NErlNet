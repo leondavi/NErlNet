{
 "cells": [
  {
   "cell_type": "code",
   "execution_count": 1,
   "id": "bafddfcf-fbb2-447f-9eab-2a0820020b63",
   "metadata": {},
   "outputs": [
    {
     "name": "stdout",
     "output_type": "stream",
     "text": [
      "3.8.8\n"
     ]
    }
   ],
   "source": [
    "import sys\n",
    "import os\n",
    "import apiServer as apiserv\n",
    "from platform import python_version\n",
    "import time\n",
    "print(python_version())\n",
    "\n",
    "#PATH_TO_JSON = '/home/david/workspace/david.json'\n",
    "PATH_TO_JSON = '/home/david/workspace/aslan.json'"
   ]
  },
  {
   "cell_type": "code",
   "execution_count": 2,
   "id": "ca8ecc33-86f2-42df-8c0e-db6f5a777c26",
   "metadata": {},
   "outputs": [
    {
     "name": "stdout",
     "output_type": "stream",
     "text": [
      "Starting server, use <Ctrl-C> to stop\n",
      "HTTP server running on port 8095\n",
      "server running in background...\n"
     ]
    }
   ],
   "source": [
    "API_SERVER_PORT = 8095\n",
    "apiserv.server(API_SERVER_PORT)\n"
   ]
  },
  {
   "cell_type": "code",
   "execution_count": 3,
   "id": "0f2fc9cd-8ce9-4942-a898-64c5cb0801c8",
   "metadata": {},
   "outputs": [
    {
     "name": "stdout",
     "output_type": "stream",
     "text": [
      "Nerlnet initiating training..\n",
      "Body Received: <<\"s1,w1,./input/RunOrWalkTrain_splitted/\">>, Decoded Body = \"s1,w1,./input/RunOrWalkTrain_splitted/\" \n",
      " State:<0.201.0>\n",
      "\n",
      "Body Received: <<>> \n",
      " \n"
     ]
    },
    {
     "name": "stderr",
     "output_type": "stream",
     "text": [
      "127.0.0.1 - - [27/Sep/2021 00:24:18] \"POST /ack HTTP/1.1\" 200 -\n"
     ]
    },
    {
     "name": "stdout",
     "output_type": "stream",
     "text": [
      "2\n",
      "ack\n",
      "1\n",
      "['ack']\n",
      "1\n",
      "ack\n",
      "0\n",
      "['ack', 'ack']\n",
      "finish initiating start training..\n"
     ]
    },
    {
     "name": "stderr",
     "output_type": "stream",
     "text": [
      "127.0.0.1 - - [27/Sep/2021 00:24:23] \"POST /ack HTTP/1.1\" 200 -\n"
     ]
    }
   ],
   "source": [
    "apiserv.initTrain()"
   ]
  },
  {
   "cell_type": "code",
   "execution_count": 4,
   "id": "0dc941ee-e162-4563-86fc-f4b1ab46f4d6",
   "metadata": {},
   "outputs": [
    {
     "name": "stdout",
     "output_type": "stream",
     "text": [
      "startCasting..\n",
      "Body Received: <<\"s1,1000\">> \n",
      " \n",
      "1\n",
      "ack\n",
      "0\n",
      "['ack', 'ack', 'ack']\n",
      "finished training!..\n"
     ]
    },
    {
     "name": "stderr",
     "output_type": "stream",
     "text": [
      "127.0.0.1 - - [27/Sep/2021 00:25:07] \"POST /ack HTTP/1.1\" 200 -\n"
     ]
    }
   ],
   "source": [
    "apiserv.startCasting()"
   ]
  },
  {
   "cell_type": "code",
   "execution_count": 5,
   "id": "b1fcb8ec-3f18-45f6-a4cd-02a637bbb05c",
   "metadata": {},
   "outputs": [
    {
     "name": "stdout",
     "output_type": "stream",
     "text": [
      "Nerlnet initiating predict..\n",
      "Body Received: <<\"s1,w1,./input/RunOrWalkPredictNolabels_splitted/\">>, Decoded Body = \"s1,w1,./input/RunOrWalkPredictNolabels_splitted/\" \n",
      " State:<0.201.0>\n",
      "\n",
      "Body Received: <<>> \n",
      " \n",
      "2\n",
      "ack\n",
      "1\n",
      "['ack', 'ack', 'ack', 'ack']\n"
     ]
    },
    {
     "name": "stderr",
     "output_type": "stream",
     "text": [
      "127.0.0.1 - - [27/Sep/2021 00:25:18] \"POST /ack HTTP/1.1\" 200 -\n"
     ]
    },
    {
     "name": "stdout",
     "output_type": "stream",
     "text": [
      "Nerlnet finished initiating predict..\n",
      "Nerlnet finished initiating predict..\n",
      "Nerlnet finished initiating predict..\n",
      "Nerlnet finished initiating predict..\n",
      "Nerlnet finished initiating predict..\n",
      "Nerlnet finished initiating predict..\n",
      "Nerlnet finished initiating predict..\n",
      "Nerlnet finished initiating predict..\n",
      "Nerlnet finished initiating predict..\n",
      "Nerlnet finished initiating predict..\n",
      "1\n",
      "ack\n",
      "0\n",
      "['ack', 'ack', 'ack', 'ack', 'ack']\n",
      "Nerlnet finished initiating predict..\n"
     ]
    },
    {
     "name": "stderr",
     "output_type": "stream",
     "text": [
      "127.0.0.1 - - [27/Sep/2021 00:25:20] \"POST /ack HTTP/1.1\" 200 -\n"
     ]
    }
   ],
   "source": [
    "apiserv.startPredict()"
   ]
  },
  {
   "cell_type": "code",
   "execution_count": 6,
   "id": "8eb8681d-b146-4ca9-8b6d-7234259af8b1",
   "metadata": {},
   "outputs": [
    {
     "name": "stdout",
     "output_type": "stream",
     "text": [
      "startCasting..\n",
      "Body Received: <<\"s1,1000\">> \n",
      " \n",
      "1\n",
      "ack\n",
      "0\n",
      "['ack', 'ack', 'ack', 'ack', 'ack', 'ack']\n",
      "finished training!..\n"
     ]
    },
    {
     "name": "stderr",
     "output_type": "stream",
     "text": [
      "127.0.0.1 - - [27/Sep/2021 00:25:58] \"POST /ack HTTP/1.1\" 200 -\n"
     ]
    }
   ],
   "source": [
    "apiserv.startCasting()"
   ]
  },
  {
   "cell_type": "code",
   "execution_count": 7,
   "id": "cf620800-f114-4698-8993-692031894aa2",
   "metadata": {},
   "outputs": [
    {
     "name": "stderr",
     "output_type": "stream",
     "text": [
      "No handles with labels found to put in legend.\n"
     ]
    },
    {
     "data": {
      "image/png": "[encoded data removed]",
      "text/plain": [
       "<Figure size 432x288 with 1 Axes>"
      ]
     },
     "metadata": {
      "needs_background": "light"
     },
     "output_type": "display_data"
    }
   ],
   "source": [
    "    time.sleep(1)\n",
    "    apiserv.readfile()"
   ]
  }
 ],
 "metadata": {
  "kernelspec": {
   "display_name": "Python 3",
   "language": "python",
   "name": "python3"
  },
  "language_info": {
   "codemirror_mode": {
    "name": "ipython",
    "version": 3
   },
   "file_extension": ".py",
   "mimetype": "text/x-python",
   "name": "python",
   "nbconvert_exporter": "python",
   "pygments_lexer": "ipython3",
   "version": "3.8.8"
  }
 },
 "nbformat": 4,
 "nbformat_minor": 5
}
