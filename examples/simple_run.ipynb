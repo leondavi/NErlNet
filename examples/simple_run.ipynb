{
 "cells": [
  {
   "cell_type": "code",
   "execution_count": 1,
   "id": "6ce55378",
   "metadata": {},
   "outputs": [],
   "source": [
    "from apiServer import *\n",
    "from experiment import *\n",
    "api_server_instance = ApiServer()"
   ]
  },
  {
   "cell_type": "code",
   "execution_count": 2,
   "id": "e7d7d7d4",
   "metadata": {},
   "outputs": [
    {
     "name": "stdout",
     "output_type": "stream",
     "text": [
      "\n",
      "Architechure Files\n",
      "--------------------\n",
      "\n",
      "0. /home/nerlnet/workspace/NErlNet/inputJsonFiles/Architecture/arch_1PC1Worker.json\n",
      "1. /home/nerlnet/workspace/NErlNet/inputJsonFiles/Architecture/arch_1PC1Worker_autoencoder.json\n",
      "2. /home/nerlnet/workspace/NErlNet/inputJsonFiles/Architecture/arch_1PC2Worker2RouterMonitored.json\n",
      "3. /home/nerlnet/workspace/NErlNet/inputJsonFiles/Architecture/arch_1PC2WorkerMonitored.json\n",
      "4. /home/nerlnet/workspace/NErlNet/inputJsonFiles/Architecture/arch_1PC2Workers2Sources_autoencoder.json\n",
      "5. /home/nerlnet/workspace/NErlNet/inputJsonFiles/Architecture/arch_3Devs3Workers1SourceH.json\n",
      "6. /home/nerlnet/workspace/NErlNet/inputJsonFiles/Architecture/arch_3Devs4Workers1SourceGUI.json\n",
      "7. /home/nerlnet/workspace/NErlNet/inputJsonFiles/Architecture/arch_3PC2Workers1SourceMonitored.json\n",
      "8. /home/nerlnet/workspace/NErlNet/inputJsonFiles/Architecture/arch_4Devs4Workers1Source.json\n",
      "9. /home/nerlnet/workspace/NErlNet/inputJsonFiles/Architecture/arch_4Devs4Workers1Source1fed.json\n",
      "10. /home/nerlnet/workspace/NErlNet/inputJsonFiles/Architecture/arch_4Devs4Workers1SourceMonitored.json\n",
      "11. /home/nerlnet/workspace/NErlNet/inputJsonFiles/Architecture/arch_4Devs4Workers1Source_autoencoder.json\n",
      "12. /home/nerlnet/workspace/NErlNet/inputJsonFiles/Architecture/arch_4Devs4Workers2Sources.json\n",
      "13. /home/nerlnet/workspace/NErlNet/inputJsonFiles/Architecture/arch_4Devs4Workers2Sources1fed.json\n",
      "14. /home/nerlnet/workspace/NErlNet/inputJsonFiles/Architecture/arch_4Devs4Workers2SourcesAzure.json\n",
      "15. /home/nerlnet/workspace/NErlNet/inputJsonFiles/Architecture/arch_PC1WorkerMonitored.json\n",
      "\n",
      "Connection Map Files\n",
      "--------------------\n",
      "\n",
      "0. /home/nerlnet/workspace/NErlNet/inputJsonFiles/ConnectionMap/conn_1PC1Worker.json\n",
      "1. /home/nerlnet/workspace/NErlNet/inputJsonFiles/ConnectionMap/conn_1Router2Clients.json\n",
      "2. /home/nerlnet/workspace/NErlNet/inputJsonFiles/ConnectionMap/conn_1Router3Clients.json\n",
      "3. /home/nerlnet/workspace/NErlNet/inputJsonFiles/ConnectionMap/conn_1Router4Clients.json\n",
      "4. /home/nerlnet/workspace/NErlNet/inputJsonFiles/ConnectionMap/conn_1Router4Clients1fed.json\n",
      "5. /home/nerlnet/workspace/NErlNet/inputJsonFiles/ConnectionMap/conn_1Router4Clients2Sources.json\n",
      "6. /home/nerlnet/workspace/NErlNet/inputJsonFiles/ConnectionMap/conn_1Router4Clients2Sources1fed.json\n",
      "7. /home/nerlnet/workspace/NErlNet/inputJsonFiles/ConnectionMap/conn_2Router2Clients.json\n",
      "8. /home/nerlnet/workspace/NErlNet/inputJsonFiles/ConnectionMap/conn_3Devs4Workers1Source.json\n",
      "9. /home/nerlnet/workspace/NErlNet/inputJsonFiles/ConnectionMap/conn_3Router3ClientsH.json\n",
      "\n",
      "Experiments Flow Files\n",
      "--------------------\n",
      "\n",
      "0. /home/nerlnet/workspace/NErlNet/inputJsonFiles/experimentsFlow/exp_1Worker1Source.json\n",
      "1. /home/nerlnet/workspace/NErlNet/inputJsonFiles/experimentsFlow/exp_1Worker1SourceAE.json\n",
      "2. /home/nerlnet/workspace/NErlNet/inputJsonFiles/experimentsFlow/exp_2Devs2Workers.json\n",
      "3. /home/nerlnet/workspace/NErlNet/inputJsonFiles/experimentsFlow/exp_2Worke3Router1Source.json\n",
      "4. /home/nerlnet/workspace/NErlNet/inputJsonFiles/experimentsFlow/exp_2Worker1Source.json\n",
      "5. /home/nerlnet/workspace/NErlNet/inputJsonFiles/experimentsFlow/exp_2Worker2Router1Source.json\n",
      "6. /home/nerlnet/workspace/NErlNet/inputJsonFiles/experimentsFlow/exp_2Workers2SourcesAE.json\n",
      "7. /home/nerlnet/workspace/NErlNet/inputJsonFiles/experimentsFlow/exp_3Devs3Workers1SourceH.json\n",
      "8. /home/nerlnet/workspace/NErlNet/inputJsonFiles/experimentsFlow/exp_3Devs4Workers1Source.json\n",
      "9. /home/nerlnet/workspace/NErlNet/inputJsonFiles/experimentsFlow/exp_4Devs4Workers1Source.json\n",
      "10. /home/nerlnet/workspace/NErlNet/inputJsonFiles/experimentsFlow/exp_4Devs4Workers1Source1fed.json\n",
      "11. /home/nerlnet/workspace/NErlNet/inputJsonFiles/experimentsFlow/exp_4Devs4Workers2Sources.json\n",
      "12. /home/nerlnet/workspace/NErlNet/inputJsonFiles/experimentsFlow/exp_4Devs4Workers2Sources1fed.json\n",
      "13. /home/nerlnet/workspace/NErlNet/inputJsonFiles/experimentsFlow/exp_FlowJson.json\n",
      "14. /home/nerlnet/workspace/NErlNet/inputJsonFiles/experimentsFlow/exp_FlowJson2PC2Workers.json\n",
      "enter arch file #12\n",
      "enter conn_map file #3\n",
      "enter exp file #9\n"
     ]
    }
   ],
   "source": [
    "api_server_instance.showJsons()\n",
    "api_server_instance.selectJsons()\n",
    "\n",
    "arch_json , connmap_json, exp_flow_json = api_server_instance.getUserJsons()"
   ]
  },
  {
   "cell_type": "code",
   "execution_count": 3,
   "id": "d8454345",
   "metadata": {},
   "outputs": [
    {
     "name": "stdout",
     "output_type": "stream",
     "text": [
      "Network components:\n",
      "                 Receiver's Address: http://127.0.0.1:8095\n",
      "                 Batchsize: 10\n",
      "                 Frequency: 1\n",
      "                 devicesIp: ['192.168.0.108', '192.168.0.102', '192.168.0.103', '192.168.0.100']\n",
      "                 mainServerIp: 192.168.0.108\n",
      "                 mainServerPort: 8080\n",
      "                 Clients: ['c1', 'c2', 'c3', 'c4']\n",
      "                 Workers: ['w1', 'w2', 'w3', 'w4']\n",
      "                 Federated networks: []\n",
      "                 Sources: ['s1', 's2']\n",
      "                 Routers: ['r1']\n",
      "                 Running AEC: 0\n",
      "Initializing the receiver thread...\n",
      "\n",
      "Using the address from the architecture JSON file for the receiver.\n",
      "(http://127.0.0.1:8095)\n",
      "\n",
      " * Serving Flask app 'receiver'\n",
      " * Debug mode: off\n",
      "\n",
      "***Please remember to execute NerlnetRun.sh before continuing.\n"
     ]
    }
   ],
   "source": [
    "api_server_instance.initialization(arch_json , connmap_json, exp_flow_json)"
   ]
  },
  {
   "cell_type": "code",
   "execution_count": 4,
   "id": "a30b98dd",
   "metadata": {},
   "outputs": [
    {
     "name": "stdout",
     "output_type": "stream",
     "text": [
      "\n",
      "Sending JSON paths to devices...\n",
      "JSON paths sent to devices\n"
     ]
    }
   ],
   "source": [
    "api_server_instance.sendJsonsToDevices()"
   ]
  },
  {
   "cell_type": "code",
   "execution_count": null,
   "id": "639a9b13",
   "metadata": {
    "scrolled": true
   },
   "outputs": [
    {
     "name": "stdout",
     "output_type": "stream",
     "text": [
      "\n",
      "Please choose a name for the current experiment: a\n",
      "\n",
      "Training - Starting...\n",
      "Clients Training Phase\n",
      "Update CSV Phase\n"
     ]
    }
   ],
   "source": [
    "api_server_instance.train()"
   ]
  },
  {
   "cell_type": "code",
   "execution_count": null,
   "id": "ff716693",
   "metadata": {
    "scrolled": true
   },
   "outputs": [],
   "source": [
    "api_server_instance.predict()"
   ]
  },
  {
   "cell_type": "code",
   "execution_count": null,
   "id": "368a36ee",
   "metadata": {},
   "outputs": [],
   "source": [
    "api_server_instance.statistics()"
   ]
  },
  {
   "cell_type": "code",
   "execution_count": null,
   "id": "330e6d92",
   "metadata": {},
   "outputs": [],
   "source": [
    "api_server_instance.statistics()"
   ]
  },
  {
   "cell_type": "code",
   "execution_count": null,
   "id": "1db91f75",
   "metadata": {},
   "outputs": [],
   "source": [
    "api_server_instance.statistics()"
   ]
  },
  {
   "cell_type": "code",
   "execution_count": null,
   "id": "5c07e673",
   "metadata": {},
   "outputs": [],
   "source": []
  },
  {
   "cell_type": "code",
   "execution_count": null,
   "id": "bf9cf8c8",
   "metadata": {},
   "outputs": [],
   "source": []
  }
 ],
 "metadata": {
  "kernelspec": {
   "display_name": "Python 3 (ipykernel)",
   "language": "python",
   "name": "python3"
  },
  "language_info": {
   "codemirror_mode": {
    "name": "ipython",
    "version": 3
   },
   "file_extension": ".py",
   "mimetype": "text/x-python",
   "name": "python",
   "nbconvert_exporter": "python",
   "pygments_lexer": "ipython3",
   "version": "3.8.12"
  }
 },
 "nbformat": 4,
 "nbformat_minor": 5
}
