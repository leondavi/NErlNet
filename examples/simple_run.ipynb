{
 "cells": [
  {
   "cell_type": "code",
   "execution_count": null,
   "id": "6ce55378",
   "metadata": {},
   "outputs": [],
   "source": [
    "from apiServer import *\n",
    "from experiment import *"
   ]
  },
  {
   "cell_type": "code",
   "execution_count": null,
   "id": "0e3a2278",
   "metadata": {},
   "outputs": [],
   "source": [
    "api_server_instance = ApiServer()\n",
    "\n",
    "api_server_instance.showJsons()\n",
    "api_server_instance.selectJsons()\n",
    "\n",
    "arch_json , connmap_json, exp_flow_json = api_server_instance.getUserJsons()"
   ]
  },
  {
   "cell_type": "code",
   "execution_count": null,
   "id": "d8454345",
   "metadata": {},
   "outputs": [],
   "source": [
    "api_server_instance.initialization(arch_json , connmap_json, exp_flow_json)"
   ]
  },
  {
   "cell_type": "code",
   "execution_count": null,
   "id": "a30b98dd",
   "metadata": {},
   "outputs": [],
   "source": [
    "api_server_instance.sendJsonsToDevices()"
   ]
  },
  {
   "cell_type": "code",
   "execution_count": null,
   "id": "2e82d7a5",
   "metadata": {},
   "outputs": [],
   "source": [
    "api_server_instance.sendDataToSources(\"Training\")"
   ]
  },
  {
   "cell_type": "code",
   "execution_count": null,
   "id": "639a9b13",
   "metadata": {},
   "outputs": [],
   "source": [
    "api_server_instance.train()"
   ]
  },
  {
   "cell_type": "code",
   "execution_count": null,
   "id": "4eedd29c",
   "metadata": {},
   "outputs": [],
   "source": [
    "api_server_instance.sendDataToSources(\"Prediction\")"
   ]
  },
  {
   "cell_type": "markdown",
   "id": "1dcf83a5",
   "metadata": {},
   "source": [
    "api_server_instance.contPhase(\"train\")"
   ]
  },
  {
   "cell_type": "code",
   "execution_count": null,
   "id": "7e8aed7c",
   "metadata": {},
   "outputs": [],
   "source": [
    "api_server_instance.predict()"
   ]
  },
  {
   "cell_type": "markdown",
   "id": "0cdfdd4d",
   "metadata": {},
   "source": [
    "api_server_instance.contPhase(\"predict\")"
   ]
  },
  {
   "cell_type": "code",
   "execution_count": null,
   "id": "73a7527f",
   "metadata": {},
   "outputs": [],
   "source": [
    "api_server_instance.statistics()"
   ]
  },
  {
   "cell_type": "code",
   "execution_count": null,
   "id": "1ed61ea9",
   "metadata": {},
   "outputs": [],
   "source": [
    "api_server_instance.statistics()"
   ]
  }
 ],
 "metadata": {
  "kernelspec": {
   "display_name": "Python 3.8.12 ('nerlnet')",
   "language": "python",
   "name": "python3"
  },
  "language_info": {
   "codemirror_mode": {
    "name": "ipython",
    "version": 3
   },
   "file_extension": ".py",
   "mimetype": "text/x-python",
   "name": "python",
   "nbconvert_exporter": "python",
   "pygments_lexer": "ipython3",
   "version": "3.8.12"
  },
  "vscode": {
   "interpreter": {
    "hash": "d8bb3178474bbe21eb2d430d9c7cbb37896aebd06f143887886d87a5540291e6"
   }
  }
 },
 "nbformat": 4,
 "nbformat_minor": 5
}
