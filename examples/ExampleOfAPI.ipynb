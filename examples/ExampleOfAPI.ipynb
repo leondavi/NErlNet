{
 "cells": [
  {
   "cell_type": "markdown",
   "id": "9500fd8c",
   "metadata": {},
   "source": [
    "# API Server Flow Example"
   ]
  },
  {
   "cell_type": "markdown",
   "id": "5124a9f0",
   "metadata": {},
   "source": [
    "## Start the API Server"
   ]
  },
  {
   "cell_type": "code",
   "execution_count": 1,
   "id": "6ce55378",
   "metadata": {},
   "outputs": [],
   "source": [
    "from apiServer import *\n",
    "api_server_instance = ApiServer()\n",
    "#api_server_instance.help()"
   ]
  },
  {
   "cell_type": "markdown",
   "id": "dd6a2ef8",
   "metadata": {
    "scrolled": true
   },
   "source": [
    "## User selects jsons for experiment"
   ]
  },
  {
   "cell_type": "code",
   "execution_count": 2,
   "id": "a463c95a",
   "metadata": {},
   "outputs": [
    {
     "name": "stdout",
     "output_type": "stream",
     "text": [
      "\n",
      "Architechure Files\n",
      "--------------------\n",
      "\n",
      "0.\tarch_1PCSIM6WorkerMNist.json\n",
      "1.\tarch_1PCSIM6WorkerMNistFed.json\n",
      "2.\tarch_1PCSIM6WorkerSynth.json\n",
      "3.\tarch_1PCSIM6WorkerSynthFed.json\n",
      "4.\tarch_3PCSIM6WorkerMNist.json\n",
      "5.\tarch_3PCSIM6WorkerMNistFed.json\n",
      "6.\tarch_3PCSIM6WorkerSynth.json\n",
      "7.\tarch_3PCSIM6WorkerSynthFed.json\n",
      "\n",
      "Connection Map Files\n",
      "--------------------\n",
      "\n",
      "0.\tconn_1Router1Client1S.json\n",
      "1.\tconn_1Router1Client2S.json\n",
      "2.\tconn_1Router2Clients1S.json\n",
      "3.\tconn_1Router3Clients1S.json\n",
      "4.\tconn_1Router4Clients1S.json\n",
      "5.\tconn_1Router4Clients1fed.json\n",
      "6.\tconn_1Router4Clients2Sources.json\n",
      "7.\tconn_1Router4Clients2Sources1fed.json\n",
      "8.\tconn_2R4C1S_health_david.json\n",
      "9.\tconn_2Router2Clients1Source.json\n",
      "10.\tconn_2Router2Clients1Source_david.json\n",
      "11.\tconn_2Router2Clients2Source.json\n",
      "12.\tconn_2Router2ClientsGUI.json\n",
      "13.\tconn_2Router3Clients.json\n",
      "14.\tconn_3Router3Clients.json\n",
      "15.\tconn_6RouterCycle6Clients1Source.json\n",
      "16.\tconn_6RouterLine6Clients1Source.json\n",
      "\n",
      "Experiments Flow Files\n",
      "--------------------\n",
      "\n",
      "0.\texp_1Worker1SourceAE.json\n",
      "1.\texp_1Worker1SourceHealth.json\n",
      "2.\texp_1Worker1SourceHealth_david.json\n",
      "3.\texp_1Worker1SourceNum.json\n",
      "4.\texp_1Worker1SourceSynth.json\n",
      "5.\texp_2Worker1Source.json\n",
      "6.\texp_2Worker1SourceHealth.json\n",
      "7.\texp_3Worker1SourceHealth.json\n",
      "8.\texp_3Worker1SourceSynthFed.json\n",
      "9.\texp_3Worker2SourceHealth.json\n",
      "10.\texp_6Worker1SourceSynth.json\n",
      "11.\texp_6Workers1SourceMNist.json\n",
      "12.\texp_7Worker1SourceHealth.json\n",
      "13.\texp_8Worker1SourceSynth.json\n",
      "14.\texp_8Worker2SourceSynth.json\n"
     ]
    }
   ],
   "source": [
    "api_server_instance.showJsons()\n",
    "# api_server_instance.printArchParams(7)"
   ]
  },
  {
   "cell_type": "code",
   "execution_count": 3,
   "id": "ff86474d",
   "metadata": {
    "scrolled": false
   },
   "outputs": [],
   "source": [
    "# api_server_instance.selectJsons()\n",
    "api_server_instance.setJsons(4,15,11)\n",
    "arch_json , connmap_json, exp_flow_json = api_server_instance.getUserJsons()"
   ]
  },
  {
   "cell_type": "markdown",
   "id": "c2a389ac",
   "metadata": {},
   "source": [
    "## Server sets up for selected experiment"
   ]
  },
  {
   "cell_type": "code",
   "execution_count": 4,
   "id": "d8454345",
   "metadata": {},
   "outputs": [
    {
     "name": "stdout",
     "output_type": "stream",
     "text": [
      "Network components:\n",
      "                 Receiver's Address: http://192.168.0.108:8095\n",
      "                 Frequency: 100\n",
      "                 Batchsize: 30\n",
      "                 devicesIp: ['192.168.0.108', '192.168.0.100', '192.168.0.103']\n",
      "                 mainServerIp: 192.168.0.108\n",
      "                 mainServerPort: 8080\n",
      "                 Clients: ['c1', 'c2', 'c3', 'c4', 'c5', 'c6']\n",
      "                 Workers: ['w1', 'w2', 'w3', 'w4', 'w5', 'w6']\n",
      "                 Federated networks: []\n",
      "                 Sources: ['s1'] (mode=['2'])\n",
      "                 Routers: ['r1', 'r2', 'r3', 'r4', 'r5', 'r6']\n",
      "Connections:\n",
      "\t\t r1  :  ['mainServer', 'c1', 's1', 'r2']\n",
      "\t\t r2  :  ['c2', 'r3']\n",
      "\t\t r3  :  ['c3', 'r4']\n",
      "\t\t r4  :  ['c4', 'r5']\n",
      "\t\t r5  :  ['c5', 'r6']\n",
      "\t\t r6  :  ['c6', 'r1']\n",
      "Experiment Data:\n",
      "        Data source:    mnist\n",
      "        Batches to send per phase:\n",
      "            Training:   10000\n",
      "            Prediction: 10000\n",
      "        \n",
      "Initializing the receiver thread...\n",
      "\n",
      " * Serving Flask app \"receiver\" (lazy loading)\n",
      " * Environment: production\n",
      "\u001b[31m   WARNING: This is a development server. Do not use it in a production deployment.\u001b[0m\n",
      "\u001b[2m   Use a production WSGI server instead.\u001b[0m\n",
      " * Debug mode: off\n",
      "\n",
      "***Please remember to execute NerlnetRun.sh on each device before continuing.\n"
     ]
    }
   ],
   "source": [
    "api_server_instance.initialization(arch_json , connmap_json, exp_flow_json)"
   ]
  },
  {
   "cell_type": "markdown",
   "id": "264abf62",
   "metadata": {},
   "source": [
    "## Server sends other devices the jsons and commands"
   ]
  },
  {
   "cell_type": "code",
   "execution_count": 5,
   "id": "a30b98dd",
   "metadata": {},
   "outputs": [
    {
     "name": "stdout",
     "output_type": "stream",
     "text": [
      "\n",
      "Sending JSON paths to devices...\n",
      "Init JSONs sent to devices\n"
     ]
    }
   ],
   "source": [
    "api_server_instance.sendJsonsToDevices()"
   ]
  },
  {
   "cell_type": "code",
   "execution_count": 6,
   "id": "eb93e47e",
   "metadata": {
    "scrolled": false
   },
   "outputs": [
    {
     "name": "stdout",
     "output_type": "stream",
     "text": [
      "\n",
      "Sending data to sources\n",
      "Update CSV Phase\n",
      "Data sent to sources\n",
      "\n",
      "Data ready in sources\n",
      "Training data send took 69.69000601768494 sec\n"
     ]
    }
   ],
   "source": [
    "start_intermission = api_server_instance.tic()\n",
    "api_server_instance.sendDataToSources(\"Training\",2)\n",
    "intermission = api_server_instance.toc(start_intermission)\n",
    "print(f\"Training data send took {intermission} sec\")"
   ]
  },
  {
   "cell_type": "code",
   "execution_count": 7,
   "id": "bc209173",
   "metadata": {},
   "outputs": [],
   "source": [
    "start = api_server_instance.tic()"
   ]
  },
  {
   "cell_type": "code",
   "execution_count": 8,
   "id": "639a9b13",
   "metadata": {},
   "outputs": [
    {
     "name": "stdout",
     "output_type": "stream",
     "text": [
      "\n",
      "Training - Starting...\n",
      "Clients Training Phase\n",
      "\n",
      "Start Casting Phase\n",
      "~New result has been created successfully~\n",
      "Training - Finished\n",
      "\n"
     ]
    },
    {
     "data": {
      "text/plain": [
       "<experiment.Experiment at 0x7fc44c4d30a0>"
      ]
     },
     "execution_count": 8,
     "metadata": {},
     "output_type": "execute_result"
    }
   ],
   "source": [
    "api_server_instance.train(\"test\")"
   ]
  },
  {
   "cell_type": "code",
   "execution_count": 9,
   "id": "e45dd0a7",
   "metadata": {},
   "outputs": [],
   "source": [
    "#api_server_instance.contPhase(\"train\")"
   ]
  },
  {
   "cell_type": "code",
   "execution_count": 10,
   "id": "85c29214",
   "metadata": {},
   "outputs": [
    {
     "name": "stdout",
     "output_type": "stream",
     "text": [
      "\n",
      "Sending data to sources\n",
      "Update CSV Phase\n",
      "Data sent to sources\n",
      "\n",
      "Data ready in sources\n",
      "Prediction data send took 17.259393215179443 sec\n"
     ]
    }
   ],
   "source": [
    "start_intermission = api_server_instance.tic()\n",
    "api_server_instance.sendDataToSources(\"Prediction\",2)\n",
    "intermission = api_server_instance.toc(start_intermission)\n",
    "print(f\"Prediction data send took {intermission} sec\")"
   ]
  },
  {
   "cell_type": "code",
   "execution_count": 11,
   "id": "7e8aed7c",
   "metadata": {
    "scrolled": false
   },
   "outputs": [
    {
     "name": "stdout",
     "output_type": "stream",
     "text": [
      "Prediction - Starting...\n",
      "Clients Predict Phase\n",
      "\n",
      "Start Casting Phase\n",
      "~New result has been created successfully~\n",
      "Prediction - Finished\n",
      "\n",
      "Experiment saved\n"
     ]
    },
    {
     "data": {
      "text/plain": [
       "<experiment.Experiment at 0x7fc44c4e12b0>"
      ]
     },
     "execution_count": 11,
     "metadata": {},
     "output_type": "execute_result"
    }
   ],
   "source": [
    "api_server_instance.predict()"
   ]
  },
  {
   "cell_type": "code",
   "execution_count": 12,
   "id": "4e256c11",
   "metadata": {},
   "outputs": [],
   "source": [
    "#api_server_instance.contPhase(\"predict\")"
   ]
  },
  {
   "cell_type": "markdown",
   "id": "69e3b82f",
   "metadata": {},
   "source": [
    "## Server displays experiment statistics"
   ]
  },
  {
   "cell_type": "code",
   "execution_count": 13,
   "id": "145fe512",
   "metadata": {},
   "outputs": [
    {
     "name": "stdout",
     "output_type": "stream",
     "text": [
      "experiment took 58.09145736694336 sec\n"
     ]
    }
   ],
   "source": [
    "exp_time = api_server_instance.toc(start) - intermission\n",
    "print(f\"experiment took {exp_time} sec\")"
   ]
  },
  {
   "cell_type": "code",
   "execution_count": null,
   "id": "9f16db08",
   "metadata": {
    "scrolled": false
   },
   "outputs": [],
   "source": [
    "api_server_instance.communication_stats()"
   ]
  },
  {
   "cell_type": "code",
   "execution_count": null,
   "id": "73a7527f",
   "metadata": {
    "scrolled": false
   },
   "outputs": [],
   "source": [
    "api_server_instance.print_saved_experiments()"
   ]
  },
  {
   "cell_type": "code",
   "execution_count": null,
   "id": "1ed61ea9",
   "metadata": {
    "scrolled": false
   },
   "outputs": [],
   "source": [
    "api_server_instance.plot_loss(1)"
   ]
  },
  {
   "cell_type": "code",
   "execution_count": null,
   "id": "cf7980bd",
   "metadata": {
    "scrolled": false
   },
   "outputs": [],
   "source": [
    "api_server_instance.accuracy_matrix(1)"
   ]
  },
  {
   "cell_type": "code",
   "execution_count": null,
   "id": "ce0dcf03",
   "metadata": {},
   "outputs": [],
   "source": [
    "#api_server_instance.contPhase(\"train\")"
   ]
  },
  {
   "cell_type": "code",
   "execution_count": null,
   "id": "2e13d8e4",
   "metadata": {},
   "outputs": [],
   "source": [
    "#api_server_instance.contPhase(\"predict\")"
   ]
  },
  {
   "cell_type": "code",
   "execution_count": null,
   "id": "a61b1d44",
   "metadata": {},
   "outputs": [],
   "source": []
  },
  {
   "cell_type": "code",
   "execution_count": null,
   "id": "b6565e70",
   "metadata": {},
   "outputs": [],
   "source": []
  },
  {
   "cell_type": "code",
   "execution_count": null,
   "id": "dfec0227",
   "metadata": {},
   "outputs": [],
   "source": []
  },
  {
   "cell_type": "code",
   "execution_count": null,
   "id": "c7e813ed",
   "metadata": {},
   "outputs": [],
   "source": []
  }
 ],
 "metadata": {
  "kernelspec": {
   "display_name": "Python 3",
   "language": "python",
   "name": "python3"
  },
  "language_info": {
   "codemirror_mode": {
    "name": "ipython",
    "version": 3
   },
   "file_extension": ".py",
   "mimetype": "text/x-python",
   "name": "python",
   "nbconvert_exporter": "python",
   "pygments_lexer": "ipython3",
   "version": "3.8.8"
  }
 },
 "nbformat": 4,
 "nbformat_minor": 5
}
