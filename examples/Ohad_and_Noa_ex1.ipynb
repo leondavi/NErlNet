{
 "cells": [
  {
   "cell_type": "code",
   "execution_count": 1,
   "id": "42e6b120-74d3-416a-965e-ae8440b56195",
   "metadata": {},
   "outputs": [],
   "source": [
    "import set_jupyter_env\n",
    "from apiServer import *"
   ]
  },
  {
   "cell_type": "code",
   "execution_count": 2,
   "id": "f3e0128c-3af0-45e9-9541-73107e2080d7",
   "metadata": {},
   "outputs": [
    {
     "name": "stderr",
     "output_type": "stream",
     "text": [
      "[INFO][2024-05-17 10:54:22,210] 0. Nerlnet/skab: ['skab_full.csv']\n",
      "[INFO][2024-05-17 10:54:22,210] 1. Nerlnet/MNist: []\n",
      "[INFO][2024-05-17 10:54:22,211] 2. Nerlnet/synthetic_norm: ['synthetic_full.csv']\n"
     ]
    }
   ],
   "source": [
    "API = ApiServer()\n",
    "API.list_datasets()"
   ]
  },
  {
   "cell_type": "code",
   "execution_count": 3,
   "id": "5c41c8c1-fe05-4ad0-9484-febe550db8e8",
   "metadata": {},
   "outputs": [
    {
     "name": "stdout",
     "output_type": "stream",
     "text": [
      "Repository Nerlnet/EEG_Eye_State_Classification added to the hf_repo_ids.json\n"
     ]
    }
   ],
   "source": [
    "API.add_repo_to_datasets_list(\"Nerlnet/EEG_Eye_State_Classification\", \"EEG eye state classification - Ohad\", \"2 class of classification\")"
   ]
  },
  {
   "cell_type": "code",
   "execution_count": 4,
   "id": "1fb99694-f7cf-4928-9cb8-8923bae842a7",
   "metadata": {},
   "outputs": [
    {
     "name": "stderr",
     "output_type": "stream",
     "text": [
      "[INFO][2024-05-17 10:56:15,305] 0. Nerlnet/skab: ['skab_full.csv']\n",
      "[INFO][2024-05-17 10:56:15,306] 1. Nerlnet/MNist: []\n",
      "[INFO][2024-05-17 10:56:15,307] 2. Nerlnet/synthetic_norm: ['synthetic_full.csv']\n",
      "[INFO][2024-05-17 10:56:15,307] 3. Nerlnet/EEG_Eye_State_Classification: ['EEG_Eye_State_Classification.csv']\n"
     ]
    }
   ],
   "source": [
    "API.list_datasets()"
   ]
  },
  {
   "cell_type": "code",
   "execution_count": 5,
   "id": "114c29a1-0839-4b1e-a29f-093c18052cdb",
   "metadata": {},
   "outputs": [
    {
     "data": {
      "application/vnd.jupyter.widget-view+json": {
       "model_id": "d55b4ae4472d464b8dd043f20a6f726a",
       "version_major": 2,
       "version_minor": 0
      },
      "text/plain": [
       "Fetching 2 files:   0%|          | 0/2 [00:00<?, ?it/s]"
      ]
     },
     "metadata": {},
     "output_type": "display_data"
    },
    {
     "data": {
      "application/vnd.jupyter.widget-view+json": {
       "model_id": "7cb1022d89f248e89b4a02387ec4f310",
       "version_major": 2,
       "version_minor": 0
      },
      "text/plain": [
       ".gitattributes:   0%|          | 0.00/2.31k [00:00<?, ?B/s]"
      ]
     },
     "metadata": {},
     "output_type": "display_data"
    },
    {
     "data": {
      "application/vnd.jupyter.widget-view+json": {
       "model_id": "57fb027950bd4dff91b9ae18d0a464d2",
       "version_major": 2,
       "version_minor": 0
      },
      "text/plain": [
       "EEG_Eye_State_Classification.csv:   0%|          | 0.00/1.69M [00:00<?, ?B/s]"
      ]
     },
     "metadata": {},
     "output_type": "display_data"
    },
    {
     "name": "stderr",
     "output_type": "stream",
     "text": [
      "[INFO][2024-05-17 10:56:28,619] Files downloaded to /tmp/nerlnet/data/NerlnetData-master/nerlnet/EEG eye state classification - Ohad\n"
     ]
    }
   ],
   "source": [
    "API.download_dataset(3)"
   ]
  },
  {
   "cell_type": "code",
   "execution_count": null,
   "id": "3c80a962-78c4-482b-b7ac-2d655695e599",
   "metadata": {},
   "outputs": [],
   "source": []
  }
 ],
 "metadata": {
  "kernelspec": {
   "display_name": "Python 3 (ipykernel)",
   "language": "python",
   "name": "python3"
  },
  "language_info": {
   "codemirror_mode": {
    "name": "ipython",
    "version": 3
   },
   "file_extension": ".py",
   "mimetype": "text/x-python",
   "name": "python",
   "nbconvert_exporter": "python",
   "pygments_lexer": "ipython3",
   "version": "3.8.10"
  }
 },
 "nbformat": 4,
 "nbformat_minor": 5
}
