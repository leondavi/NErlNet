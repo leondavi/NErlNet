{
 "cells": [
  {
   "cell_type": "markdown",
   "id": "64eb5dbb-308c-4890-aff9-6fd202706566",
   "metadata": {},
   "source": [
    "# Experiment Summary (14.08 18:00)\n",
    "\n",
    "- *Normalization*: Z-score normalization performed per bin\n",
    "- *Devices*: 18\n",
    "- *Workers*: 12\n",
    "- *Participants*: 11\n",
    "- *Epochs*: 12 epochs for each source\n",
    "- *Input Vector*: 70 x 1\n",
    "- *CNN Layers*: 3 layers with 64 filters in the first two layers and 32 filters in the last layer\n",
    "- *Max Pooling*: Applied twice with a size of 2 x 1\n",
    "- *Kernel Size*: 5 x 1 x 1\n",
    "- *Flatten*: Applied after CNN layers before the fully connected layers\n",
    "- *Fully Connected Layers*: 256, 128, 64, 32, 16, 9\n",
    "- *Activation Function (before the last layer)*: Tanh\n",
    "- *Last Layer Type*: Probabilistic with softmax function\n",
    "- *Loss Method*: Cross-Entropy (CE)\n",
    "- *Learning Rate*: 0.00001\n",
    "- *Regularization*: L2 applied\n",
    "- *Optimizer*: SGD\n",
    "- *FedServer*: ws \n",
    "\n",
    "*Training Phases*:\n",
    "- *Phase 1*: Participants 1-6\n",
    "- *Phase 2*: Participants 7-11\n",
    "\n",
    "*Prediction Phases*: \n",
    "- *Phase 1*: Participants 1-6\n",
    "- *Phase 2*: Participants 7-11\n"
   ]
  },
  {
   "cell_type": "code",
   "execution_count": 4,
   "id": "747538aa-d548-4105-88fb-93a2697a743d",
   "metadata": {},
   "outputs": [],
   "source": [
    "import set_jupyter_env\n",
    "from apiServer import *\n",
    "import pandas as pd "
   ]
  },
  {
   "cell_type": "code",
   "execution_count": 5,
   "id": "c7bebffd-ddb6-4e25-9d8b-90ce54d81527",
   "metadata": {},
   "outputs": [
    {
     "ename": "NameError",
     "evalue": "name 'ApiServer' is not defined",
     "output_type": "error",
     "traceback": [
      "\u001b[0;31m---------------------------------------------------------------------------\u001b[0m",
      "\u001b[0;31mNameError\u001b[0m                                 Traceback (most recent call last)",
      "Cell \u001b[0;32mIn[5], line 1\u001b[0m\n\u001b[0;32m----> 1\u001b[0m API \u001b[38;5;241m=\u001b[39m \u001b[43mApiServer\u001b[49m()\n",
      "\u001b[0;31mNameError\u001b[0m: name 'ApiServer' is not defined"
     ]
    }
   ],
   "source": [
    "API = ApiServer()"
   ]
  },
  {
   "cell_type": "markdown",
   "id": "4b5e1b58-c940-4a07-a64e-d7081a38d0bf",
   "metadata": {},
   "source": [
    "# Experiment Initialization"
   ]
  },
  {
   "cell_type": "code",
   "execution_count": 6,
   "id": "01bf1f37-16e0-4645-92f0-fd870ba560eb",
   "metadata": {},
   "outputs": [
    {
     "ename": "NameError",
     "evalue": "name 'API' is not defined",
     "output_type": "error",
     "traceback": [
      "\u001b[0;31m---------------------------------------------------------------------------\u001b[0m",
      "\u001b[0;31mNameError\u001b[0m                                 Traceback (most recent call last)",
      "Cell \u001b[0;32mIn[6], line 1\u001b[0m\n\u001b[0;32m----> 1\u001b[0m \u001b[43mAPI\u001b[49m\u001b[38;5;241m.\u001b[39mshowJsons()\n",
      "\u001b[0;31mNameError\u001b[0m: name 'API' is not defined"
     ]
    }
   ],
   "source": [
    "API.showJsons()"
   ]
  },
  {
   "cell_type": "code",
   "execution_count": null,
   "id": "a2f6e550-aa56-4480-93fa-7705d73c06f5",
   "metadata": {},
   "outputs": [],
   "source": [
    "dc = 4\n",
    "conn = 31\n",
    "exp = 23\n",
    "API.setJsons(dc , conn , exp)"
   ]
  },
  {
   "cell_type": "code",
   "execution_count": null,
   "id": "b01e145a-107a-42b4-9ac0-08e99e78da47",
   "metadata": {},
   "outputs": [],
   "source": [
    "dc_path , conn_path , exp_path = API.getUserJsons()"
   ]
  },
  {
   "cell_type": "code",
   "execution_count": null,
   "id": "491376c1-1664-4ba2-87c5-af0ea8575179",
   "metadata": {},
   "outputs": [],
   "source": [
    "exp_name = \"EEG_Emotion_18Devices_12Persons_FL\"\n",
    "API.initialization(exp_name, dc_path, conn_path, exp_path)"
   ]
  },
  {
   "cell_type": "markdown",
   "id": "4e979bcc-de85-402f-9683-2826cd3ffe2c",
   "metadata": {},
   "source": [
    "# Connection Map:"
   ]
  },
  {
   "cell_type": "code",
   "execution_count": null,
   "id": "b7551d05-654b-471e-a449-540ee4bfc848",
   "metadata": {},
   "outputs": [],
   "source": [
    "%pip install networkx pygraphviz\n",
    "import networkx as nx\n",
    "def visualize_nerlnet_graph(api_server_inst,  connections : dict , components): # connections is a dictionary with keys as routers and values as lists of their neighbors\n",
    "    print(\"Connections: \" , list(connections.items()))\n",
    "    routers = list(connections.keys())\n",
    "    print(\"Routers: \" , routers)\n",
    "    workers = list(components.map_worker_to_client.keys())\n",
    "    print(\"Workers: \" , workers)\n",
    "    graph = nx.Graph()\n",
    "    nodes = routers + components.sources + components.clients + workers + [API_SERVER_STR , MAIN_SERVER_STR]\n",
    "    edges = [] # list of tuples\n",
    "    for router , neighbors in list(connections.items()):\n",
    "        for neighbor in neighbors:\n",
    "            if (router,neighbor) not in edges:\n",
    "                print(f\"Adding edge ({router} , {neighbor}) to graph\")\n",
    "                edges.append((router , neighbor))\n",
    "    edges.append((API_SERVER_STR , MAIN_SERVER_STR)) # Always connected\n",
    "    for worker in workers:\n",
    "        edges.append((worker , components.map_worker_to_client[worker]))\n",
    "    graph.add_nodes_from(nodes)\n",
    "    graph.add_edges_from(edges)\n",
    "    \n",
    "    my_labels = {'mainServer': 'mS' , 'apiServer': 'aS'}\n",
    "    nx.relabel_nodes(graph, my_labels , copy=False)\n",
    "    \n",
    "    default_colors = {node:'#A90433' for node in graph.nodes()}\n",
    "    node_colors = {node:default_colors[node] for node in graph.nodes()}\n",
    "    nx.set_node_attributes(graph, node_colors, 'color')\n",
    "    colors = nx.get_node_attributes(graph, 'color').values()\n",
    "\n",
    "    pos = nx.nx_agraph.graphviz_layout(graph)\n",
    "    angle = 100\n",
    "    \n",
    "    plt.figure(figsize=(8,6),dpi=150)\n",
    "    nx.draw_networkx(graph, pos, with_labels=True, node_color=colors , node_size=200, font_size=8, font_color='white' , edge_color='black' , width=1.5)\n",
    "    plt.show()\n",
    "visualize_nerlnet_graph(API , API.json_dir_parser.json_from_path(conn_path)['connectionsMap'] , globe.components)"
   ]
  },
  {
   "cell_type": "code",
   "execution_count": null,
   "id": "9a790ab4-b43d-4c00-bcc5-ccfdc80818ef",
   "metadata": {},
   "outputs": [],
   "source": [
    "API.send_jsons_to_devices()"
   ]
  },
  {
   "cell_type": "markdown",
   "id": "be9643d5-0a0b-4307-b14d-d3b50a1751d8",
   "metadata": {},
   "source": [
    "## Training phase 1:"
   ]
  },
  {
   "cell_type": "code",
   "execution_count": null,
   "id": "52c57169-867a-4e80-b52a-475b6fc519a0",
   "metadata": {},
   "outputs": [],
   "source": [
    "API.run_current_experiment_phase()"
   ]
  },
  {
   "cell_type": "code",
   "execution_count": null,
   "id": "f4275c52-db26-49c4-81a0-931d78fce328",
   "metadata": {},
   "outputs": [],
   "source": [
    "stats_train1 = API.get_experiment_flow(exp_name).generate_stats()"
   ]
  },
  {
   "cell_type": "code",
   "execution_count": null,
   "id": "501bf6a2-fce3-4b74-9e16-dae558288584",
   "metadata": {},
   "outputs": [],
   "source": [
    "df_loss = stats_train1.get_loss_ts(plot=True, smoothing = True, log_plot = True)"
   ]
  },
  {
   "cell_type": "code",
   "execution_count": null,
   "id": "7f893782-bbd5-40cf-85d8-2e52b56870ec",
   "metadata": {},
   "outputs": [],
   "source": [
    "stats_train1.plot_batches_status(plot=True)\n"
   ]
  },
  {
   "cell_type": "markdown",
   "id": "f0f7d04f-efb8-4276-9e31-4b51ccd75dfc",
   "metadata": {},
   "source": [
    "## Training phase 2:"
   ]
  },
  {
   "cell_type": "code",
   "execution_count": null,
   "id": "49b4cc37-75be-4aa8-8f7b-998ff4851d98",
   "metadata": {},
   "outputs": [],
   "source": [
    "API.next_experiment_phase()\n",
    "API.run_current_experiment_phase()"
   ]
  },
  {
   "cell_type": "code",
   "execution_count": null,
   "id": "abba92a8-e03f-431b-bc71-23106d3589b0",
   "metadata": {},
   "outputs": [],
   "source": [
    "stats_train2 = API.get_experiment_flow(exp_name).generate_stats()"
   ]
  },
  {
   "cell_type": "code",
   "execution_count": null,
   "id": "e252b5aa-319c-43ad-ae2c-7ce031c9c8b8",
   "metadata": {},
   "outputs": [],
   "source": [
    "stats_train2.get_loss_ts(plot=True, smoothing = True, log_plot = True)"
   ]
  },
  {
   "cell_type": "code",
   "execution_count": null,
   "id": "20ddfda5-0182-4f51-bf57-30d89d614fd8",
   "metadata": {},
   "outputs": [],
   "source": [
    "stats_train2.plot_batches_status(plot=True)"
   ]
  },
  {
   "cell_type": "markdown",
   "id": "2665d596-1550-4202-b0f3-9b607ffea12c",
   "metadata": {},
   "source": [
    "# <span style=\"color:red;\"> *Score Discretization*: </span> Classes are discretized into 3 slots: 1-3, 4-6, 7-9"
   ]
  },
  {
   "cell_type": "markdown",
   "id": "367e550d-31c0-4149-8dd7-76e1ecee7a3f",
   "metadata": {},
   "source": [
    "## Predictaion phase 1:"
   ]
  },
  {
   "cell_type": "code",
   "execution_count": null,
   "id": "076d6bcb-98db-43d0-931b-fbe1c01b9a44",
   "metadata": {},
   "outputs": [],
   "source": [
    "API.next_experiment_phase()\n",
    "API.run_current_experiment_phase()"
   ]
  },
  {
   "cell_type": "code",
   "execution_count": null,
   "id": "d84636ba-77ec-4b05-bc62-40065d197eaf",
   "metadata": {},
   "outputs": [],
   "source": [
    "stats_pred1 = API.get_experiment_flow(exp_name).generate_stats()"
   ]
  },
  {
   "cell_type": "code",
   "execution_count": null,
   "id": "8098257c-2ee8-4fd4-a833-38990237ab6e",
   "metadata": {},
   "outputs": [],
   "source": [
    "stats_pred1.plot_batches_status(plot=True)"
   ]
  },
  {
   "cell_type": "code",
   "execution_count": null,
   "id": "7ebba7e2-0cca-4770-aacb-5b05af8241c3",
   "metadata": {},
   "outputs": [],
   "source": [
    "conf_source1 , conf_mats1 = stats_pred1.get_confusion_matrices_eeg(plot=True)"
   ]
  },
  {
   "cell_type": "code",
   "execution_count": null,
   "id": "7328f8fd-df01-4c86-b161-5472270a9bb5",
   "metadata": {},
   "outputs": [],
   "source": [
    "model_performence1 = stats_pred1.get_model_performence_stats(conf_mats1)"
   ]
  },
  {
   "cell_type": "code",
   "execution_count": null,
   "id": "02af8207-2e2d-42a8-b982-1be990c90860",
   "metadata": {},
   "outputs": [],
   "source": [
    "plt.figure(figsize=(12,5))\n",
    "sns.barplot(data=model_performence.sort_values('Worker') , x='Worker' , y='F1',hue='Class')\n",
    "plt.title(\"Worker - F1 Score\")\n",
    "plt.show()\n",
    "plt.figure(figsize=(12,5))\n",
    "sns.barplot(data=model_performence.sort_values('Worker') , x='Worker' , y='Accuracy',hue='Class')\n",
    "plt.title(\"Worker - Accuracy\")\n",
    "plt.show()\n",
    "plt.figure(figsize=(12,5))\n",
    "sns.barplot(data=model_performence.sort_values('Worker') , x='Worker' , y='Precision',hue='Class')\n",
    "plt.title(\"Worker - Precision\")\n",
    "plt.show()\n"
   ]
  },
  {
   "cell_type": "markdown",
   "id": "c61d6a4c-47dc-46aa-8c7e-f5b2a9f108c1",
   "metadata": {},
   "source": [
    "## Predictaion phase 2:"
   ]
  },
  {
   "cell_type": "code",
   "execution_count": null,
   "id": "fb3fa949-6f4f-44a6-a591-e15e77aedb71",
   "metadata": {},
   "outputs": [],
   "source": [
    "API.next_experiment_phase()\n",
    "API.run_current_experiment_phase()"
   ]
  },
  {
   "cell_type": "code",
   "execution_count": null,
   "id": "a9fdd195-cc89-48cc-9923-00af96b1e332",
   "metadata": {},
   "outputs": [],
   "source": [
    "stats_pred2 = API.get_experiment_flow(exp_name).generate_stats()"
   ]
  },
  {
   "cell_type": "code",
   "execution_count": null,
   "id": "386781e7-4456-414f-8348-9fc8145d1d6d",
   "metadata": {},
   "outputs": [],
   "source": [
    "stats_pred2.plot_batches_status(plot=True)"
   ]
  },
  {
   "cell_type": "code",
   "execution_count": null,
   "id": "e1ef6494-f68a-4778-bf34-439074b6cc1a",
   "metadata": {},
   "outputs": [],
   "source": [
    "conf_source1 , conf_mats2 = stats_pred2.get_confusion_matrices_eeg(plot=True)"
   ]
  },
  {
   "cell_type": "code",
   "execution_count": null,
   "id": "66f21dca-2c16-4b2d-a572-41bf0bb4e1c9",
   "metadata": {
    "scrolled": true
   },
   "outputs": [],
   "source": [
    "model_performence2 = stats_pred2.get_model_performence_stats(conf_mats2)"
   ]
  }
 ],
 "metadata": {
  "kernelspec": {
   "display_name": "Python 3 (ipykernel)",
   "language": "python",
   "name": "python3"
  },
  "language_info": {
   "codemirror_mode": {
    "name": "ipython",
    "version": 3
   },
   "file_extension": ".py",
   "mimetype": "text/x-python",
   "name": "python",
   "nbconvert_exporter": "python",
   "pygments_lexer": "ipython3",
   "version": "3.8.10"
  }
 },
 "nbformat": 4,
 "nbformat_minor": 5
}
