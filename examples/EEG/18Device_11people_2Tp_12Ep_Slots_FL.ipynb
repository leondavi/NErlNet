{
 "cells": [
  {
   "cell_type": "markdown",
   "id": "64eb5dbb-308c-4890-aff9-6fd202706566",
   "metadata": {},
   "source": [
    "# Experiment Summary - FL (14.08 20:00)\n",
    "\n",
    "- *Normalization*: Z-score normalization performed per bin\n",
    "- *Devices*: 18\n",
    "- *Workers*: 12\n",
    "- *Participants*: 11\n",
    "- *Epochs*: 12 epochs for each source\n",
    "- *Input Vector*: 70 x 1\n",
    "- *CNN Layers*: 3 layers with 64 filters in the first two layers and 32 filters in the last layer\n",
    "- *Max Pooling*: Applied twice with a size of 2 x 1\n",
    "- *Kernel Size*: 5 x 1 x 1\n",
    "- *Flatten*: Applied after CNN layers before the fully connected layers\n",
    "- *Fully Connected Layers*: 256, 128, 64, 32, 16, 9\n",
    "- *Activation Function (before the last layer)*: Tanh\n",
    "- *Last Layer Type*: Probabilistic with softmax function\n",
    "- *Loss Method*: Cross-Entropy (CE)\n",
    "- *Learning Rate*: 0.00001\n",
    "- *Regularization*: L2 applied\n",
    "- *Optimizer*: SGD\n",
    "- *FedServer*: ws \n",
    "\n",
    "*Training Phases*:\n",
    "- *Phase 1*: Participants 1-6\n",
    "- *Phase 2*: Participants 7-11\n",
    "\n",
    "*Prediction Phases*: \n",
    "- *Phase 1*: Participants 1-6\n",
    "- *Phase 2*: Participants 7-11\n"
   ]
  },
  {
   "cell_type": "code",
   "execution_count": 1,
   "id": "747538aa-d548-4105-88fb-93a2697a743d",
   "metadata": {},
   "outputs": [],
   "source": [
    "import set_jupyter_env\n",
    "from apiServer import *\n",
    "import pandas as pd \n",
    "import json\n",
    "import os"
   ]
  },
  {
   "cell_type": "code",
   "execution_count": 2,
   "id": "c7bebffd-ddb6-4e25-9d8b-90ce54d81527",
   "metadata": {},
   "outputs": [],
   "source": [
    "API = ApiServer()"
   ]
  },
  {
   "cell_type": "markdown",
   "id": "4b5e1b58-c940-4a07-a64e-d7081a38d0bf",
   "metadata": {},
   "source": [
    "# Experiment Initialization"
   ]
  },
  {
   "cell_type": "code",
   "execution_count": 3,
   "id": "01bf1f37-16e0-4645-92f0-fd870ba560eb",
   "metadata": {},
   "outputs": [
    {
     "name": "stdout",
     "output_type": "stream",
     "text": [
      "\n",
      "Distributed Configuration Files\n",
      "--------------------\n",
      "\n",
      "0.\tdc_10w_14d_8r_3s_10c_synt.json\n",
      "1.\tdc_12w_12c_13d_4s_4r_tiles_rr.json\n",
      "2.\tdc_5d_4c_4s_4r_12w.json\n",
      "3.\tdc_AEC_1d_2c_1s_4r_4w.json\n",
      "4.\tdc_EEG_18d_12c_6s_10r_12w_CE.json\n",
      "5.\tdc_EEG_18d_12c_6s_10r_12w_FL.json\n",
      "6.\tdc_EEG_18d_12c_6s_10r_12w_MSE.json\n",
      "7.\tdc_EEG_18d_9c_3s_5r_9w_RR.json\n",
      "8.\tdc_EEG_1d_1c_3s_2r_3w_RR.json\n",
      "9.\tdc_EEG_1d_2c_1s_4r_2w.json\n",
      "10.\tdc_EEG_1d_2c_1s_4r_4w.json\n",
      "11.\tdc_EEG_3d_1c_1s_1r_1w.json\n",
      "12.\tdc_EEG_4d_3c_3s_2r_3w.json\n",
      "13.\tdc_EEG_8d_1c_3s_2r_3w_RR.json\n",
      "14.\tdc_EEG_8d_3c_3s_2r_3w.json\n",
      "15.\tdc_EEG_8d_3c_3s_2r_3w_RR.json\n",
      "16.\tdc_EEG_8d_3c_3s_2r_3w_demo_RR.json\n",
      "17.\tdc_EEG_8d_3c_3s_5r_3w_RR.json\n",
      "18.\tdc_EEG_8d_8c_3s_5r_8w_RR.json\n",
      "19.\tdc_FedTorchTest_5d_2s_2r_4c_4w.json\n",
      "20.\tdc_dist_14d.json\n",
      "21.\tdc_dist_2d_3c_2s_3r_6w.json\n",
      "22.\tdc_fed_dist_14d.json\n",
      "23.\tdc_fed_dist_2d_3c_2s_3r_6w.json\n",
      "24.\tdc_fed_synt_1d_2c_2r_1s_4w_1ws.json\n",
      "25.\tdc_mnist_13d_12w_4r_3s_3tokens.json\n",
      "26.\tdc_mnist_4w_5d_4r_4s_rr.json\n",
      "27.\tdc_synt_8d_8w_2c_4s_4r.json\n",
      "28.\tdc_synt_8d_8w_4c_6r_4s.json\n",
      "29.\tdc_synt_distributed_w5_c3_6r_3s_3d.json\n",
      "30.\tdc_test_synt_1d_2c_1s_4r_4w.json\n",
      "31.\tdc_test_synt_1d_2c_2s_4r_4w.json\n",
      "\n",
      "Connection Map Files\n",
      "--------------------\n",
      "\n",
      "0.\tconn_1Router1Client1S.json\n",
      "1.\tconn_1Router1Client2S.json\n",
      "2.\tconn_1Router2Clients1S.json\n",
      "3.\tconn_1Router3Clients1S.json\n",
      "4.\tconn_1Router4Clients1S.json\n",
      "5.\tconn_1Router4Clients1fed.json\n",
      "6.\tconn_1Router4Clients2Sources.json\n",
      "7.\tconn_1Router4Clients2Sources1fed.json\n",
      "8.\tconn_2R4C1S_health_david.json\n",
      "9.\tconn_2Router2Clients1Source.json\n",
      "10.\tconn_2Router2Clients1Source_david.json\n",
      "11.\tconn_2Router2Clients2Source.json\n",
      "12.\tconn_2Router2ClientsGUI.json\n",
      "13.\tconn_2Router3Clients.json\n",
      "14.\tconn_3Router3Clients.json\n",
      "15.\tconn_4Router12Client4S.json\n",
      "16.\tconn_4Router4Client4S.json\n",
      "17.\tconn_4Router4Clients4S_mnist.json\n",
      "18.\tconn_6RouterCycle6Clients1Source.json\n",
      "19.\tconn_6RouterCycle8Clients1Source.json\n",
      "20.\tconn_6RouterLine6Clients1Source.json\n",
      "21.\tconn_8RouterCycle8Clients1Source.json\n",
      "22.\tconn_8Routers10Clients3S.json\n",
      "23.\tconn_EEG_10Router12Clients6Source_EEG.json\n",
      "24.\tconn_EEG_1Router1Clients1Source_EEG.json\n",
      "25.\tconn_EEG_1d_2c_1s_4r_4w.json\n",
      "26.\tconn_EEG_2Router1Clients3Source_EEG.json\n",
      "27.\tconn_EEG_2Router3Clients3Source_EEG.json\n",
      "28.\tconn_EEG_5Router3Clients3Source_EEG.json\n",
      "29.\tconn_EEG_5Router8Clients3Source_EEG.json\n",
      "30.\tconn_EEG_5Router9Clients3Source_EEG.json\n",
      "31.\tconn_EEG_M10Router12Clients6Source_EEG.json\n",
      "32.\tconn_EEG_M10Router12Clients6Source_FL.json\n",
      "33.\tconn_fed_dist_14d.json\n",
      "34.\tconn_fed_dist_2d_3c_2s_3r_6w.json\n",
      "35.\tconn_fed_synt_1d_2c_2r_1s_4w_1ws.json\n",
      "36.\tconn_synt_8d_8w_4c_6r_4s.json\n",
      "37.\tconn_synt_dc_8d_8w_2c_4s_4r.json\n",
      "38.\tconn_synt_distributed_w5_c3_6r_3s_3d.json\n",
      "39.\tconn_test_synt_1d_2c_1s_4r_4w.json\n",
      "40.\tconn_test_synt_1d_2c_2s_4r_4w.json\n",
      "\n",
      "Experiments Flow Files\n",
      "--------------------\n",
      "\n",
      "0.\texp_AEC_1d_2c_1s_4r_4w.json\n",
      "1.\texp_EEG_1d_2c_1s_4r_2w.json\n",
      "2.\texp_EEG_1d_2c_1s_4r_4w.json\n",
      "3.\texp_EEG_1s_1w_10epochs.json\n",
      "4.\texp_EEG_1s_1w_10phase.json\n",
      "5.\texp_EEG_1s_3w_small_sample_RR.json\n",
      "6.\texp_EEG_3c_3s_2r_3w_3people.json\n",
      "7.\texp_EEG_3c_3s_2r_3w_half3_people.json\n",
      "8.\texp_EEG_3c_3s_2r_3w_half3_people_3exp_tr_phase.json\n",
      "9.\texp_EEG_3s_3w_half3_people_RR.json\n",
      "10.\texp_EEG_3s_8w_3_people_RR.json\n",
      "11.\texp_EEG_3s_8w_3people_RR.json\n",
      "12.\texp_EEG_3s_8w_3people_RR_2Tp.json\n",
      "13.\texp_EEG_3s_8w_half3_people_RR.json\n",
      "14.\texp_EEG_3s_9w_3people_RR.json\n",
      "15.\texp_EEG_6s_12w_12people_RR_4Tp.json\n",
      "16.\texp_EEG_6s_12w_6people_RR_1Tp.json\n",
      "17.\texp_EEG_6s_12w_6people_RR_2Tp.json\n",
      "18.\texp_EEG_6s_12w_6people_RR_2Tp_CMTest.json\n",
      "19.\texp_EEG_norm_1s_1w_1pepole.json\n",
      "20.\texp_EEG_norm_6s_12w_12people_RR_4Tp.json\n",
      "21.\texp_EEG_norm_6s_12w_18people_RR_6Tp.json\n",
      "22.\texp_EEG_norm_6s_12w_24people_RR_8Tp.json\n",
      "23.\texp_EEG_slots_6s_12w_11people_FL.json\n",
      "24.\texp_EEG_slots_6s_12w_24people_RR_8Tp.json\n",
      "25.\texp_FedTorchTest_5d_2s_2r_4c_4w.json\n",
      "26.\texp_dist_14d.json\n",
      "27.\texp_dist_14d_10c_3s_8r_10w.json\n",
      "28.\texp_dist_2d_3c_2s_3r_6w.json\n",
      "29.\texp_fed_dist_14d.json\n",
      "30.\texp_fed_dist_2d_3c_2s_3r_6w.json\n",
      "31.\texp_fed_synt_1d_2c_2r_1s_4w_1ws.json\n",
      "32.\texp_mnist_5d_4c_4s_4w_4r.json\n",
      "33.\texp_new_arc.json\n",
      "34.\texp_synt_8d_8w_2c_4s_4r.json\n",
      "35.\texp_synt_8d_8w_4c_6r_4s.json\n",
      "36.\texp_synt_distributed_w5_c3_6r_3s_3d.json\n",
      "37.\texp_test_synt_1d_2c_1s_4r_4w new.json\n",
      "38.\texp_tiles_13d_12c_4s_4r_12w_rr.json\n",
      "39.\texp_tiles_4d_4c_4s_4r_12w.json\n"
     ]
    }
   ],
   "source": [
    "API.showJsons()"
   ]
  },
  {
   "cell_type": "code",
   "execution_count": 4,
   "id": "a2f6e550-aa56-4480-93fa-7705d73c06f5",
   "metadata": {},
   "outputs": [],
   "source": [
    "dc = 5\n",
    "conn = 32\n",
    "exp = 23\n",
    "API.setJsons(dc , conn , exp)"
   ]
  },
  {
   "cell_type": "code",
   "execution_count": 5,
   "id": "b01e145a-107a-42b4-9ac0-08e99e78da47",
   "metadata": {},
   "outputs": [],
   "source": [
    "dc_path , conn_path , exp_path = API.getUserJsons()"
   ]
  },
  {
   "cell_type": "code",
   "execution_count": 6,
   "id": "491376c1-1664-4ba2-87c5-af0ea8575179",
   "metadata": {},
   "outputs": [
    {
     "name": "stderr",
     "output_type": "stream",
     "text": [
      "[INFO][2024-08-14 21:39:12,841] \n",
      "Network components:\n",
      "                 Receiver's Address: http://10.0.0.30:8901\n",
      "                 Frequency: 5 [batches/sec]\n",
      "                 Batchsize: 10 [samples]\n",
      "                 devicesIp: ['10.0.0.30', '10.0.0.8', '10.0.0.12', '10.0.0.10', '10.0.0.32', '10.0.0.33', '10.0.0.34', '10.0.0.35', '10.0.0.47', '10.0.0.48', '10.0.0.49', '10.0.0.50', '10.0.0.51', '10.0.0.52', '10.0.0.53', '10.0.0.54', '10.0.0.55', '10.0.0.56']\n",
      "                 mainServerIp: 10.0.0.30\n",
      "                 mainServerPort: 8900\n",
      "                 apiServerIp: 10.0.0.30\n",
      "                 apiServerPort: 8901\n",
      "                 Clients: ['c1', 'c2', 'c3', 'c4', 'c5', 'c6', 'c7', 'c8', 'c9', 'c10', 'c11', 'cs']\n",
      "                 Workers: ['w1', 'w2', 'w3', 'w4', 'w5', 'w6', 'w7', 'w8', 'w9', 'w10', 'w11', 'ws']\n",
      "                 Sources: ['s1', 's2', 's3', 's4', 's5', 's6']\n",
      "                 Routers: ['r1', 'r2', 'r3', 'r4', 'r5', 'r6', 'r7', 'r8', 'r9', 'rms']\n",
      "[INFO][2024-08-14 21:39:12,842] Connections:\n",
      "[INFO][2024-08-14 21:39:12,843] \t\t rms : ['mainServer', 'r1', 'r2', 'r3', 'r4', 'r5', 'r6', 'r7', 'r8', 'r9']\n",
      "[INFO][2024-08-14 21:39:12,843] \t\t r1 : ['c1', 'c2', 'r2']\n",
      "[INFO][2024-08-14 21:39:12,844] \t\t r2 : ['c3', 'c4', 'r3']\n",
      "[INFO][2024-08-14 21:39:12,845] \t\t r3 : ['c5', 'c6', 'r4']\n",
      "[INFO][2024-08-14 21:39:12,845] \t\t r4 : ['c7', 'c8', 'r5']\n",
      "[INFO][2024-08-14 21:39:12,846] \t\t r5 : ['c9', 'c10', 'r6']\n",
      "[INFO][2024-08-14 21:39:12,846] \t\t r6 : ['c11', 'cs', 'r7']\n",
      "[INFO][2024-08-14 21:39:12,847] \t\t r7 : ['s1', 's2', 'r8', 'r4', 'r2', 'r5', 'r3', 'r1']\n",
      "[INFO][2024-08-14 21:39:12,847] \t\t r8 : ['s3', 's4', 'r9', 'r3', 'r4', 'r1', 'r2']\n",
      "[INFO][2024-08-14 21:39:12,848] \t\t r9 : ['s5', 's6', 'r3', 'r5', 'r1', 'r6', 'r2', 'r4']\n",
      "[INFO][2024-08-14 21:39:12,848] Experiment name: EEG_Valence_Recognition_DEAP\n",
      "[INFO][2024-08-14 21:39:12,848] Batch size: 10\n",
      "[INFO][2024-08-14 21:39:12,850] Number of features: 70\n",
      "[INFO][2024-08-14 21:39:12,850] Number of labels: 9\n",
      "[INFO][2024-08-14 21:39:12,851] \n",
      "[INFO][2024-08-14 21:39:12,851] Phases:\n",
      "[INFO][2024-08-14 21:39:12,851]    Phase name: training_phase1\n",
      "[INFO][2024-08-14 21:39:12,852]    Phase type: training\n",
      "[INFO][2024-08-14 21:39:12,852]    Sources: s1,s2,s3,s4,s5,s6\n",
      "[INFO][2024-08-14 21:39:12,853] \n",
      "[INFO][2024-08-14 21:39:12,853]     Source pieces:\n",
      "[INFO][2024-08-14 21:39:12,854]          Source name: s1\n",
      "[INFO][2024-08-14 21:39:12,855]          Batch size: 10\n",
      "[INFO][2024-08-14 21:39:12,855]          Phase: training\n",
      "[INFO][2024-08-14 21:39:12,856]          Starting offset: 0\n",
      "[INFO][2024-08-14 21:39:12,857]          Number of batches: 1561\n",
      "[INFO][2024-08-14 21:39:12,857]          Workers target: w1\n",
      "[INFO][2024-08-14 21:39:12,858]       ----------------------\n",
      "[INFO][2024-08-14 21:39:12,858] \n",
      "[INFO][2024-08-14 21:39:12,858]          Source name: s2\n",
      "[INFO][2024-08-14 21:39:12,859]          Batch size: 10\n",
      "[INFO][2024-08-14 21:39:12,859]          Phase: training\n",
      "[INFO][2024-08-14 21:39:12,860]          Starting offset: 19520\n",
      "[INFO][2024-08-14 21:39:12,860]          Number of batches: 1561\n",
      "[INFO][2024-08-14 21:39:12,860]          Workers target: w2\n",
      "[INFO][2024-08-14 21:39:12,861]       ----------------------\n",
      "[INFO][2024-08-14 21:39:12,861] \n",
      "[INFO][2024-08-14 21:39:12,862]          Source name: s3\n",
      "[INFO][2024-08-14 21:39:12,862]          Batch size: 10\n",
      "[INFO][2024-08-14 21:39:12,863]          Phase: training\n",
      "[INFO][2024-08-14 21:39:12,864]          Starting offset: 39040\n",
      "[INFO][2024-08-14 21:39:12,865]          Number of batches: 1561\n",
      "[INFO][2024-08-14 21:39:12,865]          Workers target: w3\n",
      "[INFO][2024-08-14 21:39:12,866]       ----------------------\n",
      "[INFO][2024-08-14 21:39:12,866] \n",
      "[INFO][2024-08-14 21:39:12,867]          Source name: s4\n",
      "[INFO][2024-08-14 21:39:12,867]          Batch size: 10\n",
      "[INFO][2024-08-14 21:39:12,868]          Phase: training\n",
      "[INFO][2024-08-14 21:39:12,869]          Starting offset: 58560\n",
      "[INFO][2024-08-14 21:39:12,869]          Number of batches: 1561\n",
      "[INFO][2024-08-14 21:39:12,869]          Workers target: w4\n",
      "[INFO][2024-08-14 21:39:12,870]       ----------------------\n",
      "[INFO][2024-08-14 21:39:12,870] \n",
      "[INFO][2024-08-14 21:39:12,871]          Source name: s5\n",
      "[INFO][2024-08-14 21:39:12,871]          Batch size: 10\n",
      "[INFO][2024-08-14 21:39:12,871]          Phase: training\n",
      "[INFO][2024-08-14 21:39:12,872]          Starting offset: 78080\n",
      "[INFO][2024-08-14 21:39:12,872]          Number of batches: 1561\n",
      "[INFO][2024-08-14 21:39:12,873]          Workers target: w5\n",
      "[INFO][2024-08-14 21:39:12,873]       ----------------------\n",
      "[INFO][2024-08-14 21:39:12,874] \n",
      "[INFO][2024-08-14 21:39:12,874]          Source name: s6\n",
      "[INFO][2024-08-14 21:39:12,874]          Batch size: 10\n",
      "[INFO][2024-08-14 21:39:12,875]          Phase: training\n",
      "[INFO][2024-08-14 21:39:12,877]          Starting offset: 97600\n",
      "[INFO][2024-08-14 21:39:12,877]          Number of batches: 1561\n",
      "[INFO][2024-08-14 21:39:12,878]          Workers target: w6\n",
      "[INFO][2024-08-14 21:39:12,878]       ----------------------\n",
      "[INFO][2024-08-14 21:39:12,879] \n",
      "[INFO][2024-08-14 21:39:12,879]    Phase name: training_phase2\n",
      "[INFO][2024-08-14 21:39:12,879]    Phase type: training\n",
      "[INFO][2024-08-14 21:39:12,880]    Sources: s1,s2,s3,s4,s5\n",
      "[INFO][2024-08-14 21:39:12,880] \n",
      "[INFO][2024-08-14 21:39:12,881]     Source pieces:\n",
      "[INFO][2024-08-14 21:39:12,881]          Source name: s1\n",
      "[INFO][2024-08-14 21:39:12,881]          Batch size: 10\n",
      "[INFO][2024-08-14 21:39:12,882]          Phase: training\n",
      "[INFO][2024-08-14 21:39:12,883]          Starting offset: 117120\n",
      "[INFO][2024-08-14 21:39:12,883]          Number of batches: 1561\n",
      "[INFO][2024-08-14 21:39:12,884]          Workers target: w7\n",
      "[INFO][2024-08-14 21:39:12,884]       ----------------------\n",
      "[INFO][2024-08-14 21:39:12,885] \n",
      "[INFO][2024-08-14 21:39:12,885]          Source name: s2\n",
      "[INFO][2024-08-14 21:39:12,886]          Batch size: 10\n",
      "[INFO][2024-08-14 21:39:12,886]          Phase: training\n",
      "[INFO][2024-08-14 21:39:12,887]          Starting offset: 136640\n",
      "[INFO][2024-08-14 21:39:12,887]          Number of batches: 1561\n",
      "[INFO][2024-08-14 21:39:12,888]          Workers target: w8\n",
      "[INFO][2024-08-14 21:39:12,889]       ----------------------\n",
      "[INFO][2024-08-14 21:39:12,889] \n",
      "[INFO][2024-08-14 21:39:12,889]          Source name: s3\n",
      "[INFO][2024-08-14 21:39:12,890]          Batch size: 10\n",
      "[INFO][2024-08-14 21:39:12,890]          Phase: training\n",
      "[INFO][2024-08-14 21:39:12,891]          Starting offset: 156160\n",
      "[INFO][2024-08-14 21:39:12,891]          Number of batches: 1561\n",
      "[INFO][2024-08-14 21:39:12,892]          Workers target: w9\n",
      "[INFO][2024-08-14 21:39:12,892]       ----------------------\n",
      "[INFO][2024-08-14 21:39:12,893] \n",
      "[INFO][2024-08-14 21:39:12,893]          Source name: s4\n",
      "[INFO][2024-08-14 21:39:12,894]          Batch size: 10\n",
      "[INFO][2024-08-14 21:39:12,894]          Phase: training\n",
      "[INFO][2024-08-14 21:39:12,897]          Starting offset: 175680\n",
      "[INFO][2024-08-14 21:39:12,897]          Number of batches: 1561\n",
      "[INFO][2024-08-14 21:39:12,898]          Workers target: w10\n",
      "[INFO][2024-08-14 21:39:12,898]       ----------------------\n",
      "[INFO][2024-08-14 21:39:12,899] \n",
      "[INFO][2024-08-14 21:39:12,899]          Source name: s5\n",
      "[INFO][2024-08-14 21:39:12,899]          Batch size: 10\n",
      "[INFO][2024-08-14 21:39:12,900]          Phase: training\n",
      "[INFO][2024-08-14 21:39:12,900]          Starting offset: 195200\n",
      "[INFO][2024-08-14 21:39:12,901]          Number of batches: 1561\n",
      "[INFO][2024-08-14 21:39:12,901]          Workers target: w11\n",
      "[INFO][2024-08-14 21:39:12,902]       ----------------------\n",
      "[INFO][2024-08-14 21:39:12,902] \n",
      "[INFO][2024-08-14 21:39:12,902]    Phase name: prediction_phase1\n",
      "[INFO][2024-08-14 21:39:12,903]    Phase type: prediction\n",
      "[INFO][2024-08-14 21:39:12,903]    Sources: s1,s2,s3,s4,s5,s6\n",
      "[INFO][2024-08-14 21:39:12,904] \n",
      "[INFO][2024-08-14 21:39:12,904]     Source pieces:\n",
      "[INFO][2024-08-14 21:39:12,904]          Source name: s1\n",
      "[INFO][2024-08-14 21:39:12,905]          Batch size: 10\n",
      "[INFO][2024-08-14 21:39:12,905]          Phase: prediction\n",
      "[INFO][2024-08-14 21:39:12,906]          Starting offset: 15610\n",
      "[INFO][2024-08-14 21:39:12,906]          Number of batches: 391\n",
      "[INFO][2024-08-14 21:39:12,906]          Workers target: w1\n",
      "[INFO][2024-08-14 21:39:12,907]       ----------------------\n",
      "[INFO][2024-08-14 21:39:12,908] \n",
      "[INFO][2024-08-14 21:39:12,908]          Source name: s2\n",
      "[INFO][2024-08-14 21:39:12,909]          Batch size: 10\n",
      "[INFO][2024-08-14 21:39:12,909]          Phase: prediction\n",
      "[INFO][2024-08-14 21:39:12,910]          Starting offset: 35130\n",
      "[INFO][2024-08-14 21:39:12,913]          Number of batches: 391\n",
      "[INFO][2024-08-14 21:39:12,913]          Workers target: w2\n",
      "[INFO][2024-08-14 21:39:12,913]       ----------------------\n",
      "[INFO][2024-08-14 21:39:12,914] \n",
      "[INFO][2024-08-14 21:39:12,914]          Source name: s3\n",
      "[INFO][2024-08-14 21:39:12,915]          Batch size: 10\n",
      "[INFO][2024-08-14 21:39:12,915]          Phase: prediction\n",
      "[INFO][2024-08-14 21:39:12,916]          Starting offset: 54650\n",
      "[INFO][2024-08-14 21:39:12,916]          Number of batches: 391\n",
      "[INFO][2024-08-14 21:39:12,916]          Workers target: w3\n",
      "[INFO][2024-08-14 21:39:12,917]       ----------------------\n",
      "[INFO][2024-08-14 21:39:12,917] \n",
      "[INFO][2024-08-14 21:39:12,918]          Source name: s4\n",
      "[INFO][2024-08-14 21:39:12,918]          Batch size: 10\n",
      "[INFO][2024-08-14 21:39:12,919]          Phase: prediction\n",
      "[INFO][2024-08-14 21:39:12,920]          Starting offset: 74170\n",
      "[INFO][2024-08-14 21:39:12,921]          Number of batches: 391\n",
      "[INFO][2024-08-14 21:39:12,921]          Workers target: w4\n",
      "[INFO][2024-08-14 21:39:12,923]       ----------------------\n",
      "[INFO][2024-08-14 21:39:12,923] \n",
      "[INFO][2024-08-14 21:39:12,924]          Source name: s5\n",
      "[INFO][2024-08-14 21:39:12,924]          Batch size: 10\n",
      "[INFO][2024-08-14 21:39:12,925]          Phase: prediction\n",
      "[INFO][2024-08-14 21:39:12,925]          Starting offset: 93690\n",
      "[INFO][2024-08-14 21:39:12,926]          Number of batches: 391\n",
      "[INFO][2024-08-14 21:39:12,926]          Workers target: w5\n",
      "[INFO][2024-08-14 21:39:12,926]       ----------------------\n",
      "[INFO][2024-08-14 21:39:12,927] \n",
      "[INFO][2024-08-14 21:39:12,927]          Source name: s6\n",
      "[INFO][2024-08-14 21:39:12,928]          Batch size: 10\n",
      "[INFO][2024-08-14 21:39:12,928]          Phase: prediction\n",
      "[INFO][2024-08-14 21:39:12,928]          Starting offset: 113210\n",
      "[INFO][2024-08-14 21:39:12,929]          Number of batches: 391\n",
      "[INFO][2024-08-14 21:39:12,929]          Workers target: w6\n",
      "[INFO][2024-08-14 21:39:12,930]       ----------------------\n",
      "[INFO][2024-08-14 21:39:12,930] \n",
      "[INFO][2024-08-14 21:39:12,932]    Phase name: prediction_phase2\n",
      "[INFO][2024-08-14 21:39:12,932]    Phase type: prediction\n",
      "[INFO][2024-08-14 21:39:12,933]    Sources: s1,s2,s3,s4,s5\n",
      "[INFO][2024-08-14 21:39:12,933] \n",
      "[INFO][2024-08-14 21:39:12,934]     Source pieces:\n",
      "[INFO][2024-08-14 21:39:12,934]          Source name: s1\n",
      "[INFO][2024-08-14 21:39:12,935]          Batch size: 10\n",
      "[INFO][2024-08-14 21:39:12,935]          Phase: prediction\n",
      "[INFO][2024-08-14 21:39:12,936]          Starting offset: 132730\n",
      "[INFO][2024-08-14 21:39:12,936]          Number of batches: 391\n",
      "[INFO][2024-08-14 21:39:12,937]          Workers target: w7\n",
      "[INFO][2024-08-14 21:39:12,937]       ----------------------\n",
      "[INFO][2024-08-14 21:39:12,937] \n",
      "[INFO][2024-08-14 21:39:12,938]          Source name: s2\n",
      "[INFO][2024-08-14 21:39:12,938]          Batch size: 10\n",
      "[INFO][2024-08-14 21:39:12,939]          Phase: prediction\n",
      "[INFO][2024-08-14 21:39:12,939]          Starting offset: 152250\n",
      "[INFO][2024-08-14 21:39:12,940]          Number of batches: 391\n",
      "[INFO][2024-08-14 21:39:12,940]          Workers target: w8\n",
      "[INFO][2024-08-14 21:39:12,940]       ----------------------\n",
      "[INFO][2024-08-14 21:39:12,941] \n",
      "[INFO][2024-08-14 21:39:12,941]          Source name: s3\n",
      "[INFO][2024-08-14 21:39:12,942]          Batch size: 10\n",
      "[INFO][2024-08-14 21:39:12,942]          Phase: prediction\n",
      "[INFO][2024-08-14 21:39:12,943]          Starting offset: 171770\n",
      "[INFO][2024-08-14 21:39:12,943]          Number of batches: 391\n",
      "[INFO][2024-08-14 21:39:12,943]          Workers target: w9\n",
      "[INFO][2024-08-14 21:39:12,944]       ----------------------\n",
      "[INFO][2024-08-14 21:39:12,944] \n",
      "[INFO][2024-08-14 21:39:12,945]          Source name: s4\n",
      "[INFO][2024-08-14 21:39:12,945]          Batch size: 10\n",
      "[INFO][2024-08-14 21:39:12,945]          Phase: prediction\n",
      "[INFO][2024-08-14 21:39:12,946]          Starting offset: 191290\n",
      "[INFO][2024-08-14 21:39:12,946]          Number of batches: 391\n",
      "[INFO][2024-08-14 21:39:12,947]          Workers target: w10\n",
      "[INFO][2024-08-14 21:39:12,947]       ----------------------\n",
      "[INFO][2024-08-14 21:39:12,947] \n",
      "[INFO][2024-08-14 21:39:12,948]          Source name: s5\n",
      "[INFO][2024-08-14 21:39:12,948]          Batch size: 10\n",
      "[INFO][2024-08-14 21:39:12,949]          Phase: prediction\n",
      "[INFO][2024-08-14 21:39:12,949]          Starting offset: 210810\n",
      "[INFO][2024-08-14 21:39:12,949]          Number of batches: 391\n",
      "[INFO][2024-08-14 21:39:12,950]          Workers target: w11\n",
      "[INFO][2024-08-14 21:39:12,950]       ----------------------\n",
      "[INFO][2024-08-14 21:39:12,951] \n",
      "[INFO][2024-08-14 21:39:12,951] Initializing ApiServer receiver thread\n"
     ]
    },
    {
     "name": "stdout",
     "output_type": "stream",
     "text": [
      " * Serving Flask app 'receiver'\n",
      " * Debug mode: off\n"
     ]
    },
    {
     "name": "stderr",
     "output_type": "stream",
     "text": [
      "[INFO][2024-08-14 21:39:14,956] *** Remember to execute NerlnetRun.sh on each device before running the experiment! ***\n"
     ]
    }
   ],
   "source": [
    "exp_name = \"EEG_Emotion_18Devices_11Persons_FL\"\n",
    "API.initialization(exp_name, dc_path, conn_path, exp_path)"
   ]
  },
  {
   "cell_type": "markdown",
   "id": "4e979bcc-de85-402f-9683-2826cd3ffe2c",
   "metadata": {},
   "source": [
    "# Connection Map:"
   ]
  },
  {
   "cell_type": "code",
   "execution_count": 7,
   "id": "b7551d05-654b-471e-a449-540ee4bfc848",
   "metadata": {},
   "outputs": [
    {
     "name": "stdout",
     "output_type": "stream",
     "text": [
      "Requirement already satisfied: networkx in /home/nerlnet/workspace/nerlnet_env/lib/python3.10/site-packages (3.3)\n",
      "Requirement already satisfied: pygraphviz in /home/nerlnet/workspace/nerlnet_env/lib/python3.10/site-packages (1.13)\n",
      "Note: you may need to restart the kernel to use updated packages.\n",
      "Connections:  [('rms', ['mainServer', 'r1', 'r2', 'r3', 'r4', 'r5', 'r6', 'r7', 'r8', 'r9']), ('r1', ['c1', 'c2', 'r2']), ('r2', ['c3', 'c4', 'r3']), ('r3', ['c5', 'c6', 'r4']), ('r4', ['c7', 'c8', 'r5']), ('r5', ['c9', 'c10', 'r6']), ('r6', ['c11', 'cs', 'r7']), ('r7', ['s1', 's2', 'r8', 'r4', 'r2', 'r5', 'r3', 'r1']), ('r8', ['s3', 's4', 'r9', 'r3', 'r4', 'r1', 'r2']), ('r9', ['s5', 's6', 'r3', 'r5', 'r1', 'r6', 'r2', 'r4'])]\n",
      "Routers:  ['rms', 'r1', 'r2', 'r3', 'r4', 'r5', 'r6', 'r7', 'r8', 'r9']\n",
      "Workers:  ['w1', 'w2', 'w3', 'w4', 'w5', 'w6', 'w7', 'w8', 'w9', 'w10', 'w11', 'ws']\n",
      "Adding edge (rms , mainServer) to graph\n",
      "Adding edge (rms , r1) to graph\n",
      "Adding edge (rms , r2) to graph\n",
      "Adding edge (rms , r3) to graph\n",
      "Adding edge (rms , r4) to graph\n",
      "Adding edge (rms , r5) to graph\n",
      "Adding edge (rms , r6) to graph\n",
      "Adding edge (rms , r7) to graph\n",
      "Adding edge (rms , r8) to graph\n",
      "Adding edge (rms , r9) to graph\n",
      "Adding edge (r1 , c1) to graph\n",
      "Adding edge (r1 , c2) to graph\n",
      "Adding edge (r1 , r2) to graph\n",
      "Adding edge (r2 , c3) to graph\n",
      "Adding edge (r2 , c4) to graph\n",
      "Adding edge (r2 , r3) to graph\n",
      "Adding edge (r3 , c5) to graph\n",
      "Adding edge (r3 , c6) to graph\n",
      "Adding edge (r3 , r4) to graph\n",
      "Adding edge (r4 , c7) to graph\n",
      "Adding edge (r4 , c8) to graph\n",
      "Adding edge (r4 , r5) to graph\n",
      "Adding edge (r5 , c9) to graph\n",
      "Adding edge (r5 , c10) to graph\n",
      "Adding edge (r5 , r6) to graph\n",
      "Adding edge (r6 , c11) to graph\n",
      "Adding edge (r6 , cs) to graph\n",
      "Adding edge (r6 , r7) to graph\n",
      "Adding edge (r7 , s1) to graph\n",
      "Adding edge (r7 , s2) to graph\n",
      "Adding edge (r7 , r8) to graph\n",
      "Adding edge (r7 , r4) to graph\n",
      "Adding edge (r7 , r2) to graph\n",
      "Adding edge (r7 , r5) to graph\n",
      "Adding edge (r7 , r3) to graph\n",
      "Adding edge (r7 , r1) to graph\n",
      "Adding edge (r8 , s3) to graph\n",
      "Adding edge (r8 , s4) to graph\n",
      "Adding edge (r8 , r9) to graph\n",
      "Adding edge (r8 , r3) to graph\n",
      "Adding edge (r8 , r4) to graph\n",
      "Adding edge (r8 , r1) to graph\n",
      "Adding edge (r8 , r2) to graph\n",
      "Adding edge (r9 , s5) to graph\n",
      "Adding edge (r9 , s6) to graph\n",
      "Adding edge (r9 , r3) to graph\n",
      "Adding edge (r9 , r5) to graph\n",
      "Adding edge (r9 , r1) to graph\n",
      "Adding edge (r9 , r6) to graph\n",
      "Adding edge (r9 , r2) to graph\n",
      "Adding edge (r9 , r4) to graph\n"
     ]
    },
    {
     "data": {
      "image/png": "[encoded data removed]",
      "text/plain": [
       "<Figure size 1200x900 with 1 Axes>"
      ]
     },
     "metadata": {},
     "output_type": "display_data"
    }
   ],
   "source": [
    "%pip install networkx pygraphviz\n",
    "import networkx as nx\n",
    "def visualize_nerlnet_graph(api_server_inst,  connections : dict , components): # connections is a dictionary with keys as routers and values as lists of their neighbors\n",
    "    print(\"Connections: \" , list(connections.items()))\n",
    "    routers = list(connections.keys())\n",
    "    print(\"Routers: \" , routers)\n",
    "    workers = list(components.map_worker_to_client.keys())\n",
    "    print(\"Workers: \" , workers)\n",
    "    graph = nx.Graph()\n",
    "    nodes = routers + components.sources + components.clients + workers + [API_SERVER_STR , MAIN_SERVER_STR]\n",
    "    edges = [] # list of tuples\n",
    "    for router , neighbors in list(connections.items()):\n",
    "        for neighbor in neighbors:\n",
    "            if (router,neighbor) not in edges:\n",
    "                print(f\"Adding edge ({router} , {neighbor}) to graph\")\n",
    "                edges.append((router , neighbor))\n",
    "    edges.append((API_SERVER_STR , MAIN_SERVER_STR)) # Always connected\n",
    "    for worker in workers:\n",
    "        edges.append((worker , components.map_worker_to_client[worker]))\n",
    "    graph.add_nodes_from(nodes)\n",
    "    graph.add_edges_from(edges)\n",
    "    \n",
    "    my_labels = {'mainServer': 'mS' , 'apiServer': 'aS'}\n",
    "    nx.relabel_nodes(graph, my_labels , copy=False)\n",
    "    \n",
    "    default_colors = {node:'#A90433' for node in graph.nodes()}\n",
    "    node_colors = {node:default_colors[node] for node in graph.nodes()}\n",
    "    nx.set_node_attributes(graph, node_colors, 'color')\n",
    "    colors = nx.get_node_attributes(graph, 'color').values()\n",
    "\n",
    "    pos = nx.nx_agraph.graphviz_layout(graph)\n",
    "    angle = 100\n",
    "    \n",
    "    plt.figure(figsize=(8,6),dpi=150)\n",
    "    nx.draw_networkx(graph, pos, with_labels=True, node_color=colors , node_size=200, font_size=8, font_color='white' , edge_color='black' , width=1.5)\n",
    "    plt.show()\n",
    "visualize_nerlnet_graph(API , API.json_dir_parser.json_from_path(conn_path)['connectionsMap'] , globe.components)"
   ]
  },
  {
   "cell_type": "code",
   "execution_count": 8,
   "id": "9a790ab4-b43d-4c00-bcc5-ccfdc80818ef",
   "metadata": {},
   "outputs": [
    {
     "name": "stderr",
     "output_type": "stream",
     "text": [
      "[INFO][2024-08-14 21:39:18,342] Sending distributed configurations to devices is completed\n"
     ]
    }
   ],
   "source": [
    "API.send_jsons_to_devices()"
   ]
  },
  {
   "cell_type": "markdown",
   "id": "be9643d5-0a0b-4307-b14d-d3b50a1751d8",
   "metadata": {},
   "source": [
    "## Training phase 1:"
   ]
  },
  {
   "cell_type": "code",
   "execution_count": 9,
   "id": "52c57169-867a-4e80-b52a-475b6fc519a0",
   "metadata": {},
   "outputs": [
    {
     "name": "stderr",
     "output_type": "stream",
     "text": [
      "[INFO][2024-08-14 21:39:18,348] Experiment phase: training_phase1 of type training starts running...\n",
      "[INFO][2024-08-14 21:39:18,349] Sending data to sources\n",
      "[INFO][2024-08-14 21:40:28,888] Data is ready in sources\n",
      "[INFO][2024-08-14 21:40:28,889] Phase training requested from Main Server\n"
     ]
    },
    {
     "ename": "KeyboardInterrupt",
     "evalue": "",
     "output_type": "error",
     "traceback": [
      "\u001b[0;31m---------------------------------------------------------------------------\u001b[0m",
      "\u001b[0;31mKeyboardInterrupt\u001b[0m                         Traceback (most recent call last)",
      "Cell \u001b[0;32mIn[9], line 1\u001b[0m\n\u001b[0;32m----> 1\u001b[0m \u001b[43mAPI\u001b[49m\u001b[38;5;241;43m.\u001b[39;49m\u001b[43mrun_current_experiment_phase\u001b[49m\u001b[43m(\u001b[49m\u001b[43m)\u001b[49m\n",
      "File \u001b[0;32m/usr/local/lib/nerlnet-lib/NErlNet/src_py/apiServer/apiServer.py:176\u001b[0m, in \u001b[0;36mApiServer.run_current_experiment_phase\u001b[0;34m(self)\u001b[0m\n\u001b[1;32m    174\u001b[0m events_sync_inst\u001b[38;5;241m.\u001b[39mset_event_wait(EventSync\u001b[38;5;241m.\u001b[39mSTART_CASTING)\n\u001b[1;32m    175\u001b[0m \u001b[38;5;28mself\u001b[39m\u001b[38;5;241m.\u001b[39mtransmitter\u001b[38;5;241m.\u001b[39mstart_casting(current_exp_phase) \u001b[38;5;66;03m# Source start sending data to workers\u001b[39;00m\n\u001b[0;32m--> 176\u001b[0m \u001b[43mevents_sync_inst\u001b[49m\u001b[38;5;241;43m.\u001b[39;49m\u001b[43msync_on_event\u001b[49m\u001b[43m(\u001b[49m\u001b[43mEventSync\u001b[49m\u001b[38;5;241;43m.\u001b[39;49m\u001b[43mSTART_CASTING\u001b[49m\u001b[43m)\u001b[49m\n\u001b[1;32m    178\u001b[0m LOG_INFO(\u001b[38;5;124mf\u001b[39m\u001b[38;5;124m\"\u001b[39m\u001b[38;5;124mProcessing experiment phase data\u001b[39m\u001b[38;5;124m\"\u001b[39m)\n\u001b[1;32m    179\u001b[0m current_exp_phase\u001b[38;5;241m.\u001b[39mprocess_experiment_phase_data()\n",
      "File \u001b[0;32m/usr/local/lib/nerlnet-lib/NErlNet/src_py/apiServer/events_sync.py:41\u001b[0m, in \u001b[0;36mEventSync.sync_on_event\u001b[0;34m(self, event)\u001b[0m\n\u001b[1;32m     39\u001b[0m \u001b[38;5;28;01mwhile\u001b[39;00m(\u001b[38;5;28mself\u001b[39m\u001b[38;5;241m.\u001b[39mtracking_dict[event] \u001b[38;5;241m==\u001b[39m \u001b[38;5;28mself\u001b[39m\u001b[38;5;241m.\u001b[39mWAIT):\n\u001b[1;32m     40\u001b[0m     \u001b[38;5;28;01massert\u001b[39;00m \u001b[38;5;129;01mnot\u001b[39;00m \u001b[38;5;28mself\u001b[39m\u001b[38;5;241m.\u001b[39mget_error_status()\n\u001b[0;32m---> 41\u001b[0m     \u001b[43msleep\u001b[49m\u001b[43m(\u001b[49m\u001b[38;5;241;43m0.05\u001b[39;49m\u001b[43m)\u001b[49m\n",
      "\u001b[0;31mKeyboardInterrupt\u001b[0m: "
     ]
    }
   ],
   "source": [
    "API.run_current_experiment_phase()"
   ]
  },
  {
   "cell_type": "code",
   "execution_count": null,
   "id": "f4275c52-db26-49c4-81a0-931d78fce328",
   "metadata": {},
   "outputs": [],
   "source": [
    "stats_train1 = API.get_experiment_flow(exp_name).generate_stats()"
   ]
  },
  {
   "cell_type": "code",
   "execution_count": null,
   "id": "501bf6a2-fce3-4b74-9e16-dae558288584",
   "metadata": {},
   "outputs": [],
   "source": [
    "df_loss1 = stats_train1.get_loss_ts(plot=True, smoothing = True, log_plot = True)"
   ]
  },
  {
   "cell_type": "code",
   "execution_count": null,
   "id": "21c3415a-c758-48dc-abb3-ffb6b49c1215",
   "metadata": {},
   "outputs": [],
   "source": [
    "directory = '/home/nerlnet/workspace/NErlNet/experiments_results/FL300'\n",
    "os.makedirs(directory, exist_ok=True)\n",
    "filename = f'train1_loss.csv'\n",
    "filepath = os.path.join(directory, filename)\n",
    "df_loss1.to_csv(filepath)"
   ]
  },
  {
   "cell_type": "code",
   "execution_count": null,
   "id": "7f893782-bbd5-40cf-85d8-2e52b56870ec",
   "metadata": {},
   "outputs": [],
   "source": [
    "recieved_train_1 = stats_train1.get_recieved_batches()\n",
    "missed_train_1 = stats_train1.get_missed_batches()\n",
    "stats_train1.plot_batches_status(plot=True)"
   ]
  },
  {
   "cell_type": "code",
   "execution_count": null,
   "id": "66de1461-ee03-4b3f-8fd4-7f3e98f25311",
   "metadata": {},
   "outputs": [],
   "source": [
    "folder_path = \"/home/nerlnet/workspace/NErlNet/experiments_results/FL300\"  \n",
    "file_name = \"recieved_batches_train_1.json\"\n",
    "file_path = os.path.join(folder_path, file_name)\n",
    "\n",
    "# Ensure the folder exists\n",
    "os.makedirs(folder_path, exist_ok=True)\n",
    "\n",
    "# Save the dictionary as a JSON file in the specified folder\n",
    "with open(file_path, \"w\") as json_file:\n",
    "    json.dump(recieved_train_1, json_file)"
   ]
  },
  {
   "cell_type": "code",
   "execution_count": null,
   "id": "fbdacab4-7e7b-4bcc-bab5-f8ab12bf7362",
   "metadata": {},
   "outputs": [],
   "source": [
    "folder_path = \"/home/nerlnet/workspace/NErlNet/experiments_results/FL300\"  \n",
    "file_name = \"missed_batches_train_1.json\"\n",
    "file_path = os.path.join(folder_path, file_name)\n",
    "\n",
    "# Ensure the folder exists\n",
    "os.makedirs(folder_path, exist_ok=True)\n",
    "\n",
    "# Save the dictionary as a JSON file in the specified folder\n",
    "with open(file_path, \"w\") as json_file:\n",
    "    json.dump(missed_train_1, json_file)"
   ]
  },
  {
   "cell_type": "markdown",
   "id": "f0f7d04f-efb8-4276-9e31-4b51ccd75dfc",
   "metadata": {},
   "source": [
    "## Training phase 2:"
   ]
  },
  {
   "cell_type": "code",
   "execution_count": null,
   "id": "49b4cc37-75be-4aa8-8f7b-998ff4851d98",
   "metadata": {},
   "outputs": [],
   "source": [
    "API.next_experiment_phase()\n",
    "API.run_current_experiment_phase()"
   ]
  },
  {
   "cell_type": "code",
   "execution_count": null,
   "id": "abba92a8-e03f-431b-bc71-23106d3589b0",
   "metadata": {},
   "outputs": [],
   "source": [
    "stats_train2 = API.get_experiment_flow(exp_name).generate_stats()"
   ]
  },
  {
   "cell_type": "code",
   "execution_count": null,
   "id": "e252b5aa-319c-43ad-ae2c-7ce031c9c8b8",
   "metadata": {},
   "outputs": [],
   "source": [
    "df_loss2 = stats_train2.get_loss_ts(plot=True, smoothing = True, log_plot = True)"
   ]
  },
  {
   "cell_type": "code",
   "execution_count": null,
   "id": "5e67e649-14ea-49f1-898a-d6f41dbf9883",
   "metadata": {},
   "outputs": [],
   "source": [
    "directory = '/home/nerlnet/workspace/NErlNet/experiments_results/FL300'\n",
    "os.makedirs(directory, exist_ok=True)\n",
    "filename = f'train2_loss.csv'\n",
    "filepath = os.path.join(directory, filename)\n",
    "df_loss2.to_csv(filepath)"
   ]
  },
  {
   "cell_type": "code",
   "execution_count": null,
   "id": "20ddfda5-0182-4f51-bf57-30d89d614fd8",
   "metadata": {},
   "outputs": [],
   "source": [
    "recieved_train_2 = stats_train2.get_recieved_batches()\n",
    "missed_train_2 = stats_train2.get_missed_batches()\n",
    "stats_train2.plot_batches_status(plot=True)"
   ]
  },
  {
   "cell_type": "code",
   "execution_count": null,
   "id": "7c3ca079-7c6e-44e3-b329-bf87a8abaa2a",
   "metadata": {},
   "outputs": [],
   "source": [
    "folder_path = \"/home/nerlnet/workspace/NErlNet/experiments_results/FL300\"  \n",
    "file_name = \"recieved_batches_train_2.json\"\n",
    "file_path = os.path.join(folder_path, file_name)\n",
    "\n",
    "# Ensure the folder exists\n",
    "os.makedirs(folder_path, exist_ok=True)\n",
    "\n",
    "# Save the dictionary as a JSON file in the specified folder\n",
    "with open(file_path, \"w\") as json_file:\n",
    "    json.dump(recieved_train_2, json_file)"
   ]
  },
  {
   "cell_type": "code",
   "execution_count": null,
   "id": "47715379-0731-428f-bc40-9e551303c412",
   "metadata": {},
   "outputs": [],
   "source": [
    "folder_path = \"/home/nerlnet/workspace/NErlNet/experiments_results/FL300\"  \n",
    "file_name = \"missed_batches_train_2.json\"\n",
    "file_path = os.path.join(folder_path, file_name)\n",
    "\n",
    "# Ensure the folder exists\n",
    "os.makedirs(folder_path, exist_ok=True)\n",
    "\n",
    "# Save the dictionary as a JSON file in the specified folder\n",
    "with open(file_path, \"w\") as json_file:\n",
    "    json.dump(missed_train_2, json_file)"
   ]
  },
  {
   "cell_type": "markdown",
   "id": "2665d596-1550-4202-b0f3-9b607ffea12c",
   "metadata": {},
   "source": [
    "# <span style=\"color:red;\"> *Score Discretization*: </span> Classes are discretized into 3 slots: 1-3, 4-6, 7-9"
   ]
  },
  {
   "cell_type": "markdown",
   "id": "367e550d-31c0-4149-8dd7-76e1ecee7a3f",
   "metadata": {},
   "source": [
    "## Predictaion phase 1:"
   ]
  },
  {
   "cell_type": "code",
   "execution_count": null,
   "id": "076d6bcb-98db-43d0-931b-fbe1c01b9a44",
   "metadata": {},
   "outputs": [],
   "source": [
    "API.next_experiment_phase()\n",
    "API.run_current_experiment_phase()"
   ]
  },
  {
   "cell_type": "code",
   "execution_count": null,
   "id": "d84636ba-77ec-4b05-bc62-40065d197eaf",
   "metadata": {},
   "outputs": [],
   "source": [
    "stats_pred1 = API.get_experiment_flow(exp_name).generate_stats()"
   ]
  },
  {
   "cell_type": "code",
   "execution_count": null,
   "id": "8098257c-2ee8-4fd4-a833-38990237ab6e",
   "metadata": {},
   "outputs": [],
   "source": [
    "recieved_predict_1 = stats_pred1.get_recieved_batches()\n",
    "missed_predict_1 = stats_pred1.get_missed_batches()\n",
    "stats_pred1.plot_batches_status(plot=True)"
   ]
  },
  {
   "cell_type": "code",
   "execution_count": null,
   "id": "74e8911c-38b6-48e7-9748-18f9f5f4384c",
   "metadata": {},
   "outputs": [],
   "source": [
    "folder_path = \"/home/nerlnet/workspace/NErlNet/experiments_results/FL300\"  \n",
    "file_name = \"recieved_predict_1.json\"\n",
    "file_path = os.path.join(folder_path, file_name)\n",
    "\n",
    "# Ensure the folder exists\n",
    "os.makedirs(folder_path, exist_ok=True)\n",
    "\n",
    "# Save the dictionary as a JSON file in the specified folder\n",
    "with open(file_path, \"w\") as json_file:\n",
    "    json.dump(recieved_predict_1, json_file)"
   ]
  },
  {
   "cell_type": "code",
   "execution_count": null,
   "id": "504a2565-9e3f-4e11-ad88-8624d8b2dd21",
   "metadata": {},
   "outputs": [],
   "source": [
    "folder_path = \"/home/nerlnet/workspace/NErlNet/experiments_results/FL300\"  \n",
    "file_name = \"missed_predict_1.json\"\n",
    "file_path = os.path.join(folder_path, file_name)\n",
    "\n",
    "# Ensure the folder exists\n",
    "os.makedirs(folder_path, exist_ok=True)\n",
    "\n",
    "# Save the dictionary as a JSON file in the specified folder\n",
    "with open(file_path, \"w\") as json_file:\n",
    "    json.dump(missed_predict_1, json_file)"
   ]
  },
  {
   "cell_type": "code",
   "execution_count": null,
   "id": "7ebba7e2-0cca-4770-aacb-5b05af8241c3",
   "metadata": {},
   "outputs": [],
   "source": [
    "conf_source1 , conf_mats1 = stats_pred1.get_confusion_matrices_eeg(plot=True)"
   ]
  },
  {
   "cell_type": "code",
   "execution_count": null,
   "id": "5cd3595d-42ab-459e-a2bc-562b1212b105",
   "metadata": {},
   "outputs": [],
   "source": [
    "folder_path = \"/home/nerlnet/workspace/NErlNet/experiments_results/FL300\"  \n",
    "file_name = \"conf_mats1.json\"\n",
    "file_path = os.path.join(folder_path, file_name)\n",
    "\n",
    "# Ensure the folder exists\n",
    "os.makedirs(folder_path, exist_ok=True)\n",
    "\n",
    "# Save the dictionary as a JSON file in the specified folder\n",
    "with open(file_path, \"w\") as json_file:\n",
    "    json.dump(conf_mats1, json_file)"
   ]
  },
  {
   "cell_type": "code",
   "execution_count": null,
   "id": "349b6933-a769-45ee-8652-ea6c352e93f3",
   "metadata": {},
   "outputs": [],
   "source": [
    "folder_path = \"/home/nerlnet/workspace/NErlNet/experiments_results/FL300\"  \n",
    "file_name = \"conf_source1.json\"\n",
    "file_path = os.path.join(folder_path, file_name)\n",
    "\n",
    "# Ensure the folder exists\n",
    "os.makedirs(folder_path, exist_ok=True)\n",
    "\n",
    "# Save the dictionary as a JSON file in the specified folder\n",
    "with open(file_path, \"w\") as json_file:\n",
    "    json.dump(conf_source1, json_file)"
   ]
  },
  {
   "cell_type": "code",
   "execution_count": null,
   "id": "7328f8fd-df01-4c86-b161-5472270a9bb5",
   "metadata": {},
   "outputs": [],
   "source": [
    "model_performence1 = stats_pred1.get_model_performence_stats(conf_mats1)"
   ]
  },
  {
   "cell_type": "code",
   "execution_count": null,
   "id": "ff57f187-024a-4b87-8127-36c579bfac15",
   "metadata": {},
   "outputs": [],
   "source": [
    "directory = '/home/nerlnet/workspace/NErlNet/experiments_results/FL300'\n",
    "os.makedirs(directory, exist_ok=True)\n",
    "filename = f'predict_performence1.csv'\n",
    "filepath = os.path.join(directory, filename)\n",
    "model_performence1.to_csv(filepath)"
   ]
  },
  {
   "cell_type": "code",
   "execution_count": null,
   "id": "0335a200-5544-41fb-be73-527c8d64296e",
   "metadata": {},
   "outputs": [],
   "source": [
    "plt.figure(figsize=(12,5))\n",
    "sns.barplot(data=model_performence1.sort_values('Worker') , x='Worker' , y='F1',hue='Class')\n",
    "plt.title(\"Worker - F1 Score\")\n",
    "plt.legend(title='Class', bbox_to_anchor=(1.15, 1), loc='upper right') \n",
    "plt.show()\n",
    "plt.figure(figsize=(12,5))\n",
    "sns.barplot(data=model_performence1.sort_values('Worker') , x='Worker' , y='Accuracy',hue='Class')\n",
    "plt.title(\"Worker - Accuracy\")\n",
    "plt.legend(title='Class', bbox_to_anchor=(1.15, 1), loc='upper right') \n",
    "plt.show()\n",
    "plt.figure(figsize=(12,5))\n",
    "sns.barplot(data=model_performence1.sort_values('Worker') , x='Worker' , y='Precision',hue='Class')\n",
    "plt.title(\"Worker - Precision\")\n",
    "plt.legend(title='Class', bbox_to_anchor=(1.15, 1), loc='upper right') \n",
    "plt.show()\n",
    "plt.figure(figsize=(12,5))\n",
    "sns.barplot(data=model_performence1.sort_values('Worker') , x='Worker' , y='Recall',hue='Class')\n",
    "plt.title(\"Worker - Recall\")\n",
    "plt.legend(title='Class', bbox_to_anchor=(1.15, 1), loc='upper right') \n",
    "plt.show()"
   ]
  },
  {
   "cell_type": "markdown",
   "id": "c61d6a4c-47dc-46aa-8c7e-f5b2a9f108c1",
   "metadata": {},
   "source": [
    "## Predictaion phase 2:"
   ]
  },
  {
   "cell_type": "code",
   "execution_count": null,
   "id": "fb3fa949-6f4f-44a6-a591-e15e77aedb71",
   "metadata": {},
   "outputs": [],
   "source": [
    "API.next_experiment_phase()\n",
    "API.run_current_experiment_phase()"
   ]
  },
  {
   "cell_type": "code",
   "execution_count": null,
   "id": "a9fdd195-cc89-48cc-9923-00af96b1e332",
   "metadata": {},
   "outputs": [],
   "source": [
    "stats_pred2 = API.get_experiment_flow(exp_name).generate_stats()"
   ]
  },
  {
   "cell_type": "code",
   "execution_count": null,
   "id": "386781e7-4456-414f-8348-9fc8145d1d6d",
   "metadata": {},
   "outputs": [],
   "source": [
    "recieved_predict_2 = stats_pred2.get_recieved_batches()\n",
    "missed_predict_2 = stats_pred2.get_missed_batches()\n",
    "stats_pred2.plot_batches_status(plot=True)"
   ]
  },
  {
   "cell_type": "code",
   "execution_count": null,
   "id": "49644f5c-5da1-434f-bc2a-8d108a23fa8a",
   "metadata": {},
   "outputs": [],
   "source": [
    "folder_path = \"/home/nerlnet/workspace/NErlNet/experiments_results/FL300\"  \n",
    "file_name = \"recieved_predict_2.json\"\n",
    "file_path = os.path.join(folder_path, file_name)\n",
    "\n",
    "# Ensure the folder exists\n",
    "os.makedirs(folder_path, exist_ok=True)\n",
    "\n",
    "# Save the dictionary as a JSON file in the specified folder\n",
    "with open(file_path, \"w\") as json_file:\n",
    "    json.dump(recieved_predict_2, json_file)"
   ]
  },
  {
   "cell_type": "code",
   "execution_count": null,
   "id": "ddd3c4a0-e76e-409d-9d37-204c655f5200",
   "metadata": {},
   "outputs": [],
   "source": [
    "folder_path = \"/home/nerlnet/workspace/NErlNet/experiments_results/FL300\"  \n",
    "file_name = \"missed_predict_2.json\"\n",
    "file_path = os.path.join(folder_path, file_name)\n",
    "\n",
    "# Ensure the folder exists\n",
    "os.makedirs(folder_path, exist_ok=True)\n",
    "\n",
    "# Save the dictionary as a JSON file in the specified folder\n",
    "with open(file_path, \"w\") as json_file:\n",
    "    json.dump(missed_predict_2, json_file)"
   ]
  },
  {
   "cell_type": "code",
   "execution_count": null,
   "id": "e1ef6494-f68a-4778-bf34-439074b6cc1a",
   "metadata": {},
   "outputs": [],
   "source": [
    "conf_source2 , conf_mats2 = stats_pred2.get_confusion_matrices_eeg(plot=True)"
   ]
  },
  {
   "cell_type": "code",
   "execution_count": null,
   "id": "5ff34f3f-579e-4510-8bd5-8092020e569d",
   "metadata": {},
   "outputs": [],
   "source": [
    "folder_path = \"/home/nerlnet/workspace/NErlNet/experiments_results/FL300\"  \n",
    "file_name = \"conf_mats2.json\"\n",
    "file_path = os.path.join(folder_path, file_name)\n",
    "\n",
    "# Ensure the folder exists\n",
    "os.makedirs(folder_path, exist_ok=True)\n",
    "\n",
    "# Save the dictionary as a JSON file in the specified folder\n",
    "with open(file_path, \"w\") as json_file:\n",
    "    json.dump(conf_mats2, json_file)"
   ]
  },
  {
   "cell_type": "code",
   "execution_count": null,
   "id": "f8deda9c-5184-4d4c-83d7-f1d36d1dd705",
   "metadata": {},
   "outputs": [],
   "source": [
    "folder_path = \"/home/nerlnet/workspace/NErlNet/experiments_results/FL300\"  \n",
    "file_name = \"conf_source2.json\"\n",
    "file_path = os.path.join(folder_path, file_name)\n",
    "\n",
    "# Ensure the folder exists\n",
    "os.makedirs(folder_path, exist_ok=True)\n",
    "\n",
    "# Save the dictionary as a JSON file in the specified folder\n",
    "with open(file_path, \"w\") as json_file:\n",
    "    json.dump(conf_source2, json_file)"
   ]
  },
  {
   "cell_type": "code",
   "execution_count": null,
   "id": "66f21dca-2c16-4b2d-a572-41bf0bb4e1c9",
   "metadata": {
    "scrolled": true
   },
   "outputs": [],
   "source": [
    "model_performence2 = stats_pred2.get_model_performence_stats(conf_mats2)"
   ]
  },
  {
   "cell_type": "code",
   "execution_count": null,
   "id": "5b8cf368-6edb-4682-995d-758deacfe7da",
   "metadata": {},
   "outputs": [],
   "source": [
    "directory = '/home/nerlnet/workspace/NErlNet/experiments_results/FL300'\n",
    "os.makedirs(directory, exist_ok=True)\n",
    "filename = f'predict_performence2.csv'\n",
    "filepath = os.path.join(directory, filename)\n",
    "model_performence2.to_csv(filepath)"
   ]
  },
  {
   "cell_type": "code",
   "execution_count": null,
   "id": "807b883d-3b2f-4f0f-bc18-5eabbb3e5df6",
   "metadata": {},
   "outputs": [],
   "source": [
    "plt.figure(figsize=(12,5))\n",
    "sns.barplot(data=model_preformance2.sort_values('Worker') , x='Worker' , y='F1',hue='Class')\n",
    "plt.title(\"Worker - F1 Score\")\n",
    "plt.legend(title='Class', bbox_to_anchor=(1.15, 1), loc='upper right') \n",
    "plt.show()\n",
    "plt.figure(figsize=(12,5))\n",
    "sns.barplot(data=model_preformance2.sort_values('Worker') , x='Worker' , y='Accuracy',hue='Class')\n",
    "plt.title(\"Worker - Accuracy\")\n",
    "plt.legend(title='Class', bbox_to_anchor=(1.15, 1), loc='upper right') \n",
    "plt.show()\n",
    "plt.figure(figsize=(12,5))\n",
    "sns.barplot(data=model_preformance2.sort_values('Worker') , x='Worker' , y='Precision',hue='Class')\n",
    "plt.title(\"Worker - Precision\")\n",
    "plt.legend(title='Class', bbox_to_anchor=(1.15, 1), loc='upper right') \n",
    "plt.show()\n",
    "plt.figure(figsize=(12,5))\n",
    "sns.barplot(data=model_performence2.sort_values('Worker') , x='Worker' , y='Recall',hue='Class')\n",
    "plt.title(\"Worker - Recall\")\n",
    "plt.legend(title='Class', bbox_to_anchor=(1.15, 1), loc='upper right') \n",
    "plt.show()"
   ]
  }
 ],
 "metadata": {
  "kernelspec": {
   "display_name": "Python 3 (ipykernel)",
   "language": "python",
   "name": "python3"
  },
  "language_info": {
   "codemirror_mode": {
    "name": "ipython",
    "version": 3
   },
   "file_extension": ".py",
   "mimetype": "text/x-python",
   "name": "python",
   "nbconvert_exporter": "python",
   "pygments_lexer": "ipython3",
   "version": "3.10.12"
  }
 },
 "nbformat": 4,
 "nbformat_minor": 5
}
