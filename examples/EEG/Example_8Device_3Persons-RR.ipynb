{
 "cells": [
  {
   "cell_type": "code",
   "execution_count": 1,
   "id": "e5857ec6-9bcc-4761-a609-1d4b4f51417d",
   "metadata": {},
   "outputs": [],
   "source": [
    "import set_jupyter_env\n",
    "from apiServer import *\n",
    "import pandas as pd "
   ]
  },
  {
   "cell_type": "code",
   "execution_count": 2,
   "id": "3e1bc927-b010-437b-811a-a9f6cc617e2c",
   "metadata": {},
   "outputs": [],
   "source": [
    "API = ApiServer()"
   ]
  },
  {
   "cell_type": "code",
   "execution_count": 3,
   "id": "85711cb8-3e14-4659-bbd1-c0b6bb7f7ca3",
   "metadata": {},
   "outputs": [
    {
     "name": "stdout",
     "output_type": "stream",
     "text": [
      "\n",
      "Distributed Configuration Files\n",
      "--------------------\n",
      "\n",
      "0.\tdc_10w_14d_8r_3s_10c_synt.json\n",
      "1.\tdc_AEC_1d_2c_1s_4r_4w.json\n",
      "2.\tdc_EEG_4d_3c_3s_2r_3w.json\n",
      "3.\tdc_EEG_8d_3c_3s_2r_3w.json\n",
      "4.\tdc_EEG_8d_3c_3s_2r_3w_RR.json\n",
      "5.\tdc_EEG_8d_3c_3s_2r_3w_demo_RR.json\n",
      "6.\tdc_dist_14d.json\n",
      "7.\tdc_dist_2d_3c_2s_3r_6w.json\n",
      "8.\tdc_fed_dist_14d.json\n",
      "9.\tdc_fed_dist_2d_3c_2s_3r_6w.json\n",
      "10.\tdc_fed_synt_1d_2c_2r_1s_4w_1ws.json\n",
      "11.\tdc_synt_8d_8w_2c_4s_4r.json\n",
      "12.\tdc_synt_8d_8w_4c_6r_4s.json\n",
      "13.\tdc_synt_distributed_w5_c3_6r_3s_3d.json\n",
      "14.\tdc_test_synt_1d_2c_1s_4r_4w.json\n",
      "15.\tdc_test_synt_1d_2c_2s_4r_4w.json\n",
      "\n",
      "Connection Map Files\n",
      "--------------------\n",
      "\n",
      "0.\tconn_1Router1Client1S.json\n",
      "1.\tconn_1Router1Client2S.json\n",
      "2.\tconn_1Router2Clients1S.json\n",
      "3.\tconn_1Router3Clients1S.json\n",
      "4.\tconn_1Router4Clients1S.json\n",
      "5.\tconn_1Router4Clients1fed.json\n",
      "6.\tconn_1Router4Clients2Sources.json\n",
      "7.\tconn_1Router4Clients2Sources1fed.json\n",
      "8.\tconn_2R4C1S_health_david.json\n",
      "9.\tconn_2Router2Clients1Source.json\n",
      "10.\tconn_2Router2Clients1Source_david.json\n",
      "11.\tconn_2Router2Clients2Source.json\n",
      "12.\tconn_2Router2ClientsGUI.json\n",
      "13.\tconn_2Router3Clients.json\n",
      "14.\tconn_3Router3Clients.json\n",
      "15.\tconn_6RouterCycle6Clients1Source.json\n",
      "16.\tconn_6RouterCycle8Clients1Source.json\n",
      "17.\tconn_6RouterLine6Clients1Source.json\n",
      "18.\tconn_8RouterCycle8Clients1Source.json\n",
      "19.\tconn_8Routers10Clients3S.json\n",
      "20.\tconn_EEG_2Router3Clients3Source_EEG.json\n",
      "21.\tconn_fed_dist_14d.json\n",
      "22.\tconn_fed_dist_2d_3c_2s_3r_6w.json\n",
      "23.\tconn_fed_synt_1d_2c_2r_1s_4w_1ws.json\n",
      "24.\tconn_synt_8d_8w_4c_6r_4s.json\n",
      "25.\tconn_synt_dc_8d_8w_2c_4s_4r.json\n",
      "26.\tconn_synt_distributed_w5_c3_6r_3s_3d.json\n",
      "27.\tconn_test_synt_1d_2c_1s_4r_4w.json\n",
      "28.\tconn_test_synt_1d_2c_2s_4r_4w.json\n",
      "\n",
      "Experiments Flow Files\n",
      "--------------------\n",
      "\n",
      "0.\texp_AEC_1d_2c_1s_4r_4w.json\n",
      "1.\texp_EEG_3c_3s_2r_1w_half3_people.json\n",
      "2.\texp_EEG_3c_3s_2r_1w_half3_people_3exp_tr_phase.json\n",
      "3.\texp_EEG_3c_3s_2r_1w_half3_people_RR.json\n",
      "4.\texp_EEG_3c_3s_2r_3w_3people.json\n",
      "5.\texp_dist_14d.json\n",
      "6.\texp_dist_14d_10c_3s_8r_10w.json\n",
      "7.\texp_dist_2d_3c_2s_3r_6w.json\n",
      "8.\texp_fed_dist_14d.json\n",
      "9.\texp_fed_dist_2d_3c_2s_3r_6w.json\n",
      "10.\texp_fed_synt_1d_2c_2r_1s_4w_1ws.json\n",
      "11.\texp_new_arc.json\n",
      "12.\texp_synt_8d_8w_2c_4s_4r.json\n",
      "13.\texp_synt_8d_8w_4c_6r_4s.json\n",
      "14.\texp_synt_distributed_w5_c3_6r_3s_3d.json\n",
      "15.\texp_test_synt_1d_2c_1s_4r_4w new.json\n"
     ]
    }
   ],
   "source": [
    "API.showJsons()"
   ]
  },
  {
   "cell_type": "code",
   "execution_count": 4,
   "id": "d27ebe0a-f861-4f1a-8dbb-f04914acd7fa",
   "metadata": {},
   "outputs": [],
   "source": [
    "dc = 4\n",
    "conn = 20\n",
    "exp = 3\n",
    "API.setJsons(dc , conn , exp)"
   ]
  },
  {
   "cell_type": "code",
   "execution_count": 5,
   "id": "0f5fad3d-f319-4ad4-83b1-bea88b8701d0",
   "metadata": {},
   "outputs": [],
   "source": [
    "dc_path , conn_path , exp_path = API.getUserJsons()"
   ]
  },
  {
   "cell_type": "code",
   "execution_count": 6,
   "id": "b22a24c9-1f75-439a-9830-16a45e528fea",
   "metadata": {},
   "outputs": [
    {
     "name": "stderr",
     "output_type": "stream",
     "text": [
      "[INFO][2024-07-18 09:30:38,501] \n",
      "Network components:\n",
      "                 Receiver's Address: http://10.0.0.11:8901\n",
      "                 Frequency: 100 [batches/sec]\n",
      "                 Batchsize: 5 [samples]\n",
      "                 devicesIp: ['10.0.0.11', '10.0.0.8', '10.0.0.12', '10.0.0.10', '10.0.0.32', '10.0.0.33', '10.0.0.34', '10.0.0.35']\n",
      "                 mainServerIp: 10.0.0.11\n",
      "                 mainServerPort: 8900\n",
      "                 apiServerIp: 10.0.0.11\n",
      "                 apiServerPort: 8901\n",
      "                 Clients: ['c1', 'c2', 'c3']\n",
      "                 Workers: ['w1', 'w2', 'w3']\n",
      "                 Sources: ['s1', 's2', 's3']\n",
      "                 Routers: ['r1', 'r2']\n",
      "[INFO][2024-07-18 09:30:38,502] Connections:\n",
      "[INFO][2024-07-18 09:30:38,503] \t\t r1 : ['mainServer', 'c1', 'c2', 'c3', 'r2']\n",
      "[INFO][2024-07-18 09:30:38,503] \t\t r2 : ['s1', 's2', 's3', 'r1']\n",
      "[INFO][2024-07-18 09:30:38,504] Experiment name: EEG_Valence_Recognition_DEAP\n",
      "[INFO][2024-07-18 09:30:38,504] Batch size: 5\n",
      "[INFO][2024-07-18 09:30:38,505] Number of features: 70\n",
      "[INFO][2024-07-18 09:30:38,505] Number of labels: 9\n",
      "[INFO][2024-07-18 09:30:38,506] \n",
      "[INFO][2024-07-18 09:30:38,506] Phases:\n",
      "[INFO][2024-07-18 09:30:38,507]    Phase name: training_phase\n",
      "[INFO][2024-07-18 09:30:38,507]    Phase type: training\n",
      "[INFO][2024-07-18 09:30:38,509]    Sources: s1,s2,s3\n",
      "[INFO][2024-07-18 09:30:38,509] \n",
      "[INFO][2024-07-18 09:30:38,511]     Source pieces:\n",
      "[INFO][2024-07-18 09:30:38,511]          Source name: s1\n",
      "[INFO][2024-07-18 09:30:38,512]          Batch size: 5\n",
      "[INFO][2024-07-18 09:30:38,513]          Phase: training\n",
      "[INFO][2024-07-18 09:30:38,514]          Starting offset: 0\n",
      "[INFO][2024-07-18 09:30:38,514]          Number of batches: 800\n",
      "[INFO][2024-07-18 09:30:38,515]          Workers target: w1,w2,w3\n",
      "[INFO][2024-07-18 09:30:38,516]       ----------------------\n",
      "[INFO][2024-07-18 09:30:38,517] \n",
      "[INFO][2024-07-18 09:30:38,520]          Source name: s2\n",
      "[INFO][2024-07-18 09:30:38,520]          Batch size: 5\n",
      "[INFO][2024-07-18 09:30:38,521]          Phase: training\n",
      "[INFO][2024-07-18 09:30:38,521]          Starting offset: 19520\n",
      "[INFO][2024-07-18 09:30:38,522]          Number of batches: 800\n",
      "[INFO][2024-07-18 09:30:38,522]          Workers target: w1,w2,w3\n",
      "[INFO][2024-07-18 09:30:38,523]       ----------------------\n",
      "[INFO][2024-07-18 09:30:38,523] \n",
      "[INFO][2024-07-18 09:30:38,523]          Source name: s3\n",
      "[INFO][2024-07-18 09:30:38,524]          Batch size: 5\n",
      "[INFO][2024-07-18 09:30:38,524]          Phase: training\n",
      "[INFO][2024-07-18 09:30:38,525]          Starting offset: 39040\n",
      "[INFO][2024-07-18 09:30:38,525]          Number of batches: 800\n",
      "[INFO][2024-07-18 09:30:38,527]          Workers target: w1,w2,w3\n",
      "[INFO][2024-07-18 09:30:38,528]       ----------------------\n",
      "[INFO][2024-07-18 09:30:38,528] \n",
      "[INFO][2024-07-18 09:30:38,529]    Phase name: prediction_phase\n",
      "[INFO][2024-07-18 09:30:38,529]    Phase type: prediction\n",
      "[INFO][2024-07-18 09:30:38,530]    Sources: s1,s2,s3\n",
      "[INFO][2024-07-18 09:30:38,530] \n",
      "[INFO][2024-07-18 09:30:38,531]     Source pieces:\n",
      "[INFO][2024-07-18 09:30:38,531]          Source name: s1\n",
      "[INFO][2024-07-18 09:30:38,532]          Batch size: 5\n",
      "[INFO][2024-07-18 09:30:38,533]          Phase: prediction\n",
      "[INFO][2024-07-18 09:30:38,533]          Starting offset: 15610\n",
      "[INFO][2024-07-18 09:30:38,534]          Number of batches: 200\n",
      "[INFO][2024-07-18 09:30:38,534]          Workers target: w1,w2,w3\n",
      "[INFO][2024-07-18 09:30:38,535]       ----------------------\n",
      "[INFO][2024-07-18 09:30:38,536] \n",
      "[INFO][2024-07-18 09:30:38,537]          Source name: s2\n",
      "[INFO][2024-07-18 09:30:38,537]          Batch size: 5\n",
      "[INFO][2024-07-18 09:30:38,538]          Phase: prediction\n",
      "[INFO][2024-07-18 09:30:38,539]          Starting offset: 35130\n",
      "[INFO][2024-07-18 09:30:38,539]          Number of batches: 200\n",
      "[INFO][2024-07-18 09:30:38,540]          Workers target: w1,w2,w3\n",
      "[INFO][2024-07-18 09:30:38,540]       ----------------------\n",
      "[INFO][2024-07-18 09:30:38,541] \n",
      "[INFO][2024-07-18 09:30:38,541]          Source name: s3\n",
      "[INFO][2024-07-18 09:30:38,542]          Batch size: 5\n",
      "[INFO][2024-07-18 09:30:38,543]          Phase: prediction\n",
      "[INFO][2024-07-18 09:30:38,544]          Starting offset: 54650\n",
      "[INFO][2024-07-18 09:30:38,544]          Number of batches: 200\n",
      "[INFO][2024-07-18 09:30:38,545]          Workers target: w1,w2,w3\n",
      "[INFO][2024-07-18 09:30:38,546]       ----------------------\n",
      "[INFO][2024-07-18 09:30:38,546] \n",
      "[INFO][2024-07-18 09:30:38,547] Initializing ApiServer receiver thread\n"
     ]
    },
    {
     "name": "stdout",
     "output_type": "stream",
     "text": [
      " * Serving Flask app 'receiver'\n",
      " * Debug mode: off\n"
     ]
    },
    {
     "name": "stderr",
     "output_type": "stream",
     "text": [
      "[INFO][2024-07-18 09:30:40,548] *** Remember to execute NerlnetRun.sh on each device before running the experiment! ***\n"
     ]
    }
   ],
   "source": [
    "exp_name = \"EEG_Emotion_8Devices_3Persons_half_RR\"\n",
    "API.initialization(exp_name, dc_path, conn_path, exp_path)"
   ]
  },
  {
   "cell_type": "code",
   "execution_count": 7,
   "id": "b3163498-b663-4b02-8675-c0e4534d92b1",
   "metadata": {},
   "outputs": [
    {
     "name": "stdout",
     "output_type": "stream",
     "text": [
      "Requirement already satisfied: networkx in /tmp/nerlnet/virtualenv/lib/python3.8/site-packages (3.1)\n",
      "Requirement already satisfied: pygraphviz in /tmp/nerlnet/virtualenv/lib/python3.8/site-packages (1.11)\n",
      "\n",
      "\u001b[1m[\u001b[0m\u001b[34;49mnotice\u001b[0m\u001b[1;39;49m]\u001b[0m\u001b[39;49m A new release of pip is available: \u001b[0m\u001b[31;49m24.0\u001b[0m\u001b[39;49m -> \u001b[0m\u001b[32;49m24.1.2\u001b[0m\n",
      "\u001b[1m[\u001b[0m\u001b[34;49mnotice\u001b[0m\u001b[1;39;49m]\u001b[0m\u001b[39;49m To update, run: \u001b[0m\u001b[32;49mpip install --upgrade pip\u001b[0m\n",
      "Note: you may need to restart the kernel to use updated packages.\n",
      "Connections:  [('r1', ['mainServer', 'c1', 'c2', 'c3', 'r2']), ('r2', ['s1', 's2', 's3', 'r1'])]\n",
      "Routers:  ['r1', 'r2']\n",
      "Workers:  ['w1', 'w2', 'w3']\n",
      "Adding edge (r1 , mainServer) to graph\n",
      "Adding edge (r1 , c1) to graph\n",
      "Adding edge (r1 , c2) to graph\n",
      "Adding edge (r1 , c3) to graph\n",
      "Adding edge (r1 , r2) to graph\n",
      "Adding edge (r2 , s1) to graph\n",
      "Adding edge (r2 , s2) to graph\n",
      "Adding edge (r2 , s3) to graph\n",
      "Adding edge (r2 , r1) to graph\n"
     ]
    },
    {
     "data": {
      "image/png": "[encoded data removed]",
      "text/plain": [
       "<Figure size 1200x900 with 1 Axes>"
      ]
     },
     "metadata": {},
     "output_type": "display_data"
    }
   ],
   "source": [
    "%pip install networkx pygraphviz\n",
    "import networkx as nx\n",
    "def visualize_nerlnet_graph(api_server_inst,  connections : dict , components): # connections is a dictionary with keys as routers and values as lists of their neighbors\n",
    "    print(\"Connections: \" , list(connections.items()))\n",
    "    routers = list(connections.keys())\n",
    "    print(\"Routers: \" , routers)\n",
    "    workers = list(components.map_worker_to_client.keys())\n",
    "    print(\"Workers: \" , workers)\n",
    "    graph = nx.Graph()\n",
    "    nodes = routers + components.sources + components.clients + workers + [API_SERVER_STR , MAIN_SERVER_STR]\n",
    "    edges = [] # list of tuples\n",
    "    for router , neighbors in list(connections.items()):\n",
    "        for neighbor in neighbors:\n",
    "            if (router,neighbor) not in edges:\n",
    "                print(f\"Adding edge ({router} , {neighbor}) to graph\")\n",
    "                edges.append((router , neighbor))\n",
    "    edges.append((API_SERVER_STR , MAIN_SERVER_STR)) # Always connected\n",
    "    for worker in workers:\n",
    "        edges.append((worker , components.map_worker_to_client[worker]))\n",
    "    graph.add_nodes_from(nodes)\n",
    "    graph.add_edges_from(edges)\n",
    "    \n",
    "    my_labels = {'mainServer': 'mS' , 'apiServer': 'aS'}\n",
    "    nx.relabel_nodes(graph, my_labels , copy=False)\n",
    "    \n",
    "    default_colors = {node:'#A90433' for node in graph.nodes()}\n",
    "    node_colors = {node:default_colors[node] for node in graph.nodes()}\n",
    "    nx.set_node_attributes(graph, node_colors, 'color')\n",
    "    colors = nx.get_node_attributes(graph, 'color').values()\n",
    "\n",
    "    pos = nx.nx_agraph.graphviz_layout(graph)\n",
    "    angle = 100\n",
    "    \n",
    "    plt.figure(figsize=(8,6),dpi=150)\n",
    "    nx.draw_networkx(graph, pos, with_labels=True, node_color=colors , node_size=200, font_size=8, font_color='white' , edge_color='black' , width=1.5)\n",
    "    plt.show()\n",
    "visualize_nerlnet_graph(API , API.json_dir_parser.json_from_path(conn_path)['connectionsMap'] , globe.components)"
   ]
  },
  {
   "cell_type": "code",
   "execution_count": 8,
   "id": "201b6d41-c968-40f8-a66a-bf83b9188173",
   "metadata": {},
   "outputs": [
    {
     "name": "stderr",
     "output_type": "stream",
     "text": [
      "[INFO][2024-07-18 09:30:44,089] Sending distributed configurations to devices is completed\n"
     ]
    }
   ],
   "source": [
    "API.send_jsons_to_devices()"
   ]
  },
  {
   "cell_type": "code",
   "execution_count": null,
   "id": "3d7d3604-28be-407b-9780-edfeb2d6d696",
   "metadata": {},
   "outputs": [
    {
     "name": "stderr",
     "output_type": "stream",
     "text": [
      "[INFO][2024-07-18 09:30:44,097] Experiment phase: training_phase of type training starts running...\n",
      "[INFO][2024-07-18 09:30:44,099] Sending data to sources\n",
      "[INFO][2024-07-18 09:30:59,565] Data is ready in sources\n",
      "[INFO][2024-07-18 09:30:59,566] Phase training requested from Main Server\n"
     ]
    }
   ],
   "source": [
    "API.run_current_experiment_phase()"
   ]
  },
  {
   "cell_type": "code",
   "execution_count": null,
   "id": "2f5c6157-8589-4ebf-86e3-449a4e777c7b",
   "metadata": {},
   "outputs": [],
   "source": [
    "stats_train = API.get_experiment_flow(exp_name).generate_stats()"
   ]
  },
  {
   "cell_type": "code",
   "execution_count": null,
   "id": "105cae22-8123-4fe4-a1e3-9ef665e22440",
   "metadata": {},
   "outputs": [],
   "source": [
    "stats_train.get_loss_ts(plot=True)"
   ]
  },
  {
   "cell_type": "code",
   "execution_count": null,
   "id": "9457cf80-3c1f-4a9d-a913-8d972eeab0a5",
   "metadata": {},
   "outputs": [],
   "source": [
    "import pandas as pd\n",
    "workers_comm_dict = stats_train.get_communication_stats_workers()\n",
    "df_train = pd.DataFrame.from_dict(workers_comm_dict)\n",
    "plt.figure()\n",
    "df_selected_train = df_train.iloc[[3,5]]\n",
    "data_train = pd.melt(df_selected_train.reset_index(), id_vars=['index'], value_vars=df_train.columns)\n",
    "batches_stats = sns.barplot(x='variable', y='value', hue='index', data=data_train)\n",
    "plt.ylabel('Number Of Batches')\n",
    "plt.xlabel('Worker')\n",
    "plt.title(\"Received & Dropped Batches At Freq. 300B/s (Training Phase)\")\n",
    "\n",
    "batches_stats.legend(loc='upper right', bbox_to_anchor=(1.5, 0.2), shadow=True, ncol=1)\n",
    "plt.show()\n"
   ]
  },
  {
   "cell_type": "code",
   "execution_count": null,
   "id": "99db4895-1e20-4d95-8619-4dc132613b9d",
   "metadata": {},
   "outputs": [],
   "source": [
    "API.next_experiment_phase()\n",
    "API.run_current_experiment_phase()"
   ]
  },
  {
   "cell_type": "code",
   "execution_count": null,
   "id": "1d365e20-6372-44b7-bb85-64eb15572a35",
   "metadata": {},
   "outputs": [],
   "source": [
    "stats_pred = API.get_experiment_flow(exp_name).generate_stats()"
   ]
  },
  {
   "cell_type": "code",
   "execution_count": null,
   "id": "bddd9a3a-a93c-45ab-9cd4-023a0eafb537",
   "metadata": {},
   "outputs": [],
   "source": [
    "conf_mats_sources_workers , conf_mats_workers = stats_pred.get_confusion_matrices(plot=True)"
   ]
  },
  {
   "cell_type": "code",
   "execution_count": null,
   "id": "0a305525-7a94-4427-a2b6-0cafb7a13a72",
   "metadata": {},
   "outputs": [],
   "source": []
  }
 ],
 "metadata": {
  "kernelspec": {
   "display_name": "Python 3 (ipykernel)",
   "language": "python",
   "name": "python3"
  },
  "language_info": {
   "codemirror_mode": {
    "name": "ipython",
    "version": 3
   },
   "file_extension": ".py",
   "mimetype": "text/x-python",
   "name": "python",
   "nbconvert_exporter": "python",
   "pygments_lexer": "ipython3",
   "version": "3.8.10"
  }
 },
 "nbformat": 4,
 "nbformat_minor": 5
}
