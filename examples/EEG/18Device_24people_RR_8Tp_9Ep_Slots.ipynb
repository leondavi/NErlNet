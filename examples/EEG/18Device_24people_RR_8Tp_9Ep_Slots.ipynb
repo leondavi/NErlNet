{
 "cells": [
  {
   "cell_type": "markdown",
   "id": "64eb5dbb-308c-4890-aff9-6fd202706566",
   "metadata": {},
   "source": [
    "# Experiment Summary (14.08 10:30)\n",
    "\n",
    "- *Normalization*: Z-score normalization performed per bin\n",
    "- *Devices*: 18\n",
    "- *Workers*: 12\n",
    "- *Participants*: 24 (each participant is assigned to 2 workers with RR policy)\n",
    "- *Epochs*: 9 epochs for each source\n",
    "- *Input Vector*: 70 x 1\n",
    "- *CNN Layers*: 3 layers with 64 filters in the first two layers and 32 filters in the last layer\n",
    "- *Max Pooling*: Applied twice with a size of 2 x 1\n",
    "- *Kernel Size*: 5 x 1 x 1\n",
    "- *Flatten*: Applied after CNN layers before the fully connected layers\n",
    "- *Fully Connected Layers*: 256, 128, 64, 32, 16, 9\n",
    "- *Activation Function (before the last layer)*: Tanh\n",
    "- *Last Layer Type*: Probabilistic with softmax function\n",
    "- *Loss Method*: Cross-Entropy (CE)\n",
    "- *Learning Rate*: 0.00001\n",
    "- *Regularization*: L2 applied\n",
    "- *Optimizer*: SGD\n",
    "\n",
    "*Training Phases*:\n",
    "- *Phases 1-2*: Participants 1-6\n",
    "- *Phases 3-4*: Participants 7-12\n",
    "- *Phases 5-6*: Participants 13-18\n",
    "- *Phases 7-8*: Participants 19-24\n",
    "\n",
    "*Prediction Phases*: \n",
    "- *Phase 1*: Participants 1-6\n",
    "- *Phase 2*: Participants 7-12\n",
    "- *Phase 3*: Participants 13-18\n",
    "- *Phase 4*: Participants 19-24\n"
   ]
  },
  {
   "cell_type": "code",
   "execution_count": 1,
   "id": "747538aa-d548-4105-88fb-93a2697a743d",
   "metadata": {},
   "outputs": [
    {
     "name": "stderr",
     "output_type": "stream",
     "text": [
      "Exception ignored in: <bound method IPythonKernel._clean_thread_parent_frames of <ipykernel.ipkernel.IPythonKernel object at 0x7fbd3daa0cd0>>\n",
      "Traceback (most recent call last):\n",
      "  File \"/tmp/nerlnet/virtualenv/lib/python3.8/site-packages/ipykernel/ipkernel.py\", line 775, in _clean_thread_parent_frames\n",
      "    def _clean_thread_parent_frames(\n",
      "KeyboardInterrupt: \n",
      "Exception ignored in: <bound method IPythonKernel._clean_thread_parent_frames of <ipykernel.ipkernel.IPythonKernel object at 0x7fbd3daa0cd0>>\n",
      "Traceback (most recent call last):\n",
      "  File \"/tmp/nerlnet/virtualenv/lib/python3.8/site-packages/ipykernel/ipkernel.py\", line 775, in _clean_thread_parent_frames\n",
      "    def _clean_thread_parent_frames(\n",
      "KeyboardInterrupt: \n",
      "\n",
      "KeyboardInterrupt\n",
      "\n"
     ]
    }
   ],
   "source": [
    "import set_jupyter_env\n",
    "from apiServer import *\n",
    "import pandas as pd "
   ]
  },
  {
   "cell_type": "code",
   "execution_count": null,
   "id": "c7bebffd-ddb6-4e25-9d8b-90ce54d81527",
   "metadata": {},
   "outputs": [],
   "source": [
    "API = ApiServer()"
   ]
  },
  {
   "cell_type": "markdown",
   "id": "4b5e1b58-c940-4a07-a64e-d7081a38d0bf",
   "metadata": {},
   "source": [
    "# Experiment Initialization"
   ]
  },
  {
   "cell_type": "code",
   "execution_count": null,
   "id": "01bf1f37-16e0-4645-92f0-fd870ba560eb",
   "metadata": {},
   "outputs": [],
   "source": [
    "API.showJsons()"
   ]
  },
  {
   "cell_type": "code",
   "execution_count": null,
   "id": "a2f6e550-aa56-4480-93fa-7705d73c06f5",
   "metadata": {},
   "outputs": [],
   "source": [
    "dc = 4\n",
    "conn = 31\n",
    "exp = 23\n",
    "API.setJsons(dc , conn , exp)"
   ]
  },
  {
   "cell_type": "code",
   "execution_count": null,
   "id": "b01e145a-107a-42b4-9ac0-08e99e78da47",
   "metadata": {},
   "outputs": [],
   "source": [
    "dc_path , conn_path , exp_path = API.getUserJsons()"
   ]
  },
  {
   "cell_type": "code",
   "execution_count": null,
   "id": "491376c1-1664-4ba2-87c5-af0ea8575179",
   "metadata": {},
   "outputs": [],
   "source": [
    "exp_name = \"EEG_Emotion_18Devices_24Persons_RR\"\n",
    "API.initialization(exp_name, dc_path, conn_path, exp_path)"
   ]
  },
  {
   "cell_type": "markdown",
   "id": "4e979bcc-de85-402f-9683-2826cd3ffe2c",
   "metadata": {},
   "source": [
    "# Connection Map:"
   ]
  },
  {
   "cell_type": "code",
   "execution_count": null,
   "id": "b7551d05-654b-471e-a449-540ee4bfc848",
   "metadata": {},
   "outputs": [],
   "source": [
    "%pip install networkx pygraphviz\n",
    "import networkx as nx\n",
    "def visualize_nerlnet_graph(api_server_inst,  connections : dict , components): # connections is a dictionary with keys as routers and values as lists of their neighbors\n",
    "    print(\"Connections: \" , list(connections.items()))\n",
    "    routers = list(connections.keys())\n",
    "    print(\"Routers: \" , routers)\n",
    "    workers = list(components.map_worker_to_client.keys())\n",
    "    print(\"Workers: \" , workers)\n",
    "    graph = nx.Graph()\n",
    "    nodes = routers + components.sources + components.clients + workers + [API_SERVER_STR , MAIN_SERVER_STR]\n",
    "    edges = [] # list of tuples\n",
    "    for router , neighbors in list(connections.items()):\n",
    "        for neighbor in neighbors:\n",
    "            if (router,neighbor) not in edges:\n",
    "                print(f\"Adding edge ({router} , {neighbor}) to graph\")\n",
    "                edges.append((router , neighbor))\n",
    "    edges.append((API_SERVER_STR , MAIN_SERVER_STR)) # Always connected\n",
    "    for worker in workers:\n",
    "        edges.append((worker , components.map_worker_to_client[worker]))\n",
    "    graph.add_nodes_from(nodes)\n",
    "    graph.add_edges_from(edges)\n",
    "    \n",
    "    my_labels = {'mainServer': 'mS' , 'apiServer': 'aS'}\n",
    "    nx.relabel_nodes(graph, my_labels , copy=False)\n",
    "    \n",
    "    default_colors = {node:'#A90433' for node in graph.nodes()}\n",
    "    node_colors = {node:default_colors[node] for node in graph.nodes()}\n",
    "    nx.set_node_attributes(graph, node_colors, 'color')\n",
    "    colors = nx.get_node_attributes(graph, 'color').values()\n",
    "\n",
    "    pos = nx.nx_agraph.graphviz_layout(graph)\n",
    "    angle = 100\n",
    "    \n",
    "    plt.figure(figsize=(8,6),dpi=150)\n",
    "    nx.draw_networkx(graph, pos, with_labels=True, node_color=colors , node_size=200, font_size=8, font_color='white' , edge_color='black' , width=1.5)\n",
    "    plt.show()\n",
    "visualize_nerlnet_graph(API , API.json_dir_parser.json_from_path(conn_path)['connectionsMap'] , globe.components)"
   ]
  },
  {
   "cell_type": "code",
   "execution_count": null,
   "id": "9a790ab4-b43d-4c00-bcc5-ccfdc80818ef",
   "metadata": {},
   "outputs": [],
   "source": [
    "API.send_jsons_to_devices()"
   ]
  },
  {
   "cell_type": "markdown",
   "id": "be9643d5-0a0b-4307-b14d-d3b50a1751d8",
   "metadata": {},
   "source": [
    "## Training phase 1:"
   ]
  },
  {
   "cell_type": "code",
   "execution_count": null,
   "id": "52c57169-867a-4e80-b52a-475b6fc519a0",
   "metadata": {},
   "outputs": [],
   "source": [
    "API.run_current_experiment_phase()"
   ]
  },
  {
   "cell_type": "code",
   "execution_count": null,
   "id": "f4275c52-db26-49c4-81a0-931d78fce328",
   "metadata": {},
   "outputs": [],
   "source": [
    "stats_train1 = API.get_experiment_flow(exp_name).generate_stats()"
   ]
  },
  {
   "cell_type": "code",
   "execution_count": null,
   "id": "501bf6a2-fce3-4b74-9e16-dae558288584",
   "metadata": {},
   "outputs": [],
   "source": [
    "df_loss = stats_train1.get_loss_ts(plot=True, smoothing = True, log_plot = True)"
   ]
  },
  {
   "cell_type": "code",
   "execution_count": null,
   "id": "7f893782-bbd5-40cf-85d8-2e52b56870ec",
   "metadata": {},
   "outputs": [],
   "source": [
    "stats_train1.plot_batches_status(plot=True)\n"
   ]
  },
  {
   "cell_type": "markdown",
   "id": "f0f7d04f-efb8-4276-9e31-4b51ccd75dfc",
   "metadata": {},
   "source": [
    "## Training phase 2:"
   ]
  },
  {
   "cell_type": "code",
   "execution_count": null,
   "id": "49b4cc37-75be-4aa8-8f7b-998ff4851d98",
   "metadata": {},
   "outputs": [],
   "source": [
    "API.next_experiment_phase()\n",
    "API.run_current_experiment_phase()"
   ]
  },
  {
   "cell_type": "code",
   "execution_count": null,
   "id": "abba92a8-e03f-431b-bc71-23106d3589b0",
   "metadata": {},
   "outputs": [],
   "source": [
    "stats_train2 = API.get_experiment_flow(exp_name).generate_stats()"
   ]
  },
  {
   "cell_type": "code",
   "execution_count": null,
   "id": "e252b5aa-319c-43ad-ae2c-7ce031c9c8b8",
   "metadata": {},
   "outputs": [],
   "source": [
    "stats_train2.get_loss_ts(plot=True, smoothing = True, log_plot = True)"
   ]
  },
  {
   "cell_type": "code",
   "execution_count": null,
   "id": "20ddfda5-0182-4f51-bf57-30d89d614fd8",
   "metadata": {},
   "outputs": [],
   "source": [
    "stats_train2.plot_batches_status(plot=True)"
   ]
  },
  {
   "cell_type": "markdown",
   "id": "11f0332a-369c-4b81-8810-8a155c83dcdf",
   "metadata": {},
   "source": [
    "## Training phase 3:"
   ]
  },
  {
   "cell_type": "code",
   "execution_count": null,
   "id": "8edb486e-d8cf-4615-9631-9de3a9fdbaa9",
   "metadata": {},
   "outputs": [],
   "source": [
    "API.next_experiment_phase()\n",
    "API.run_current_experiment_phase()"
   ]
  },
  {
   "cell_type": "code",
   "execution_count": null,
   "id": "94a5cb6d-5d1e-486a-919f-f175dedecefd",
   "metadata": {},
   "outputs": [],
   "source": [
    "stats_train3 = API.get_experiment_flow(exp_name).generate_stats()"
   ]
  },
  {
   "cell_type": "code",
   "execution_count": null,
   "id": "4d18c621-14a4-480d-a28f-bed3c759c6fe",
   "metadata": {},
   "outputs": [],
   "source": [
    "stats_train3.get_loss_ts(plot=True, smoothing = True, log_plot = True)"
   ]
  },
  {
   "cell_type": "code",
   "execution_count": null,
   "id": "419344a5-d101-4525-b731-59f2c3b74c7f",
   "metadata": {},
   "outputs": [],
   "source": [
    "stats_train3.plot_batches_status(plot=True)"
   ]
  },
  {
   "cell_type": "markdown",
   "id": "133213c7-003b-4bb1-9723-5a0d5740d8a4",
   "metadata": {},
   "source": [
    "## Training phase 4:"
   ]
  },
  {
   "cell_type": "code",
   "execution_count": null,
   "id": "65c08ac1-16d7-4d53-9916-67a7c61d9f48",
   "metadata": {},
   "outputs": [],
   "source": [
    "API.next_experiment_phase()\n",
    "API.run_current_experiment_phase()"
   ]
  },
  {
   "cell_type": "code",
   "execution_count": null,
   "id": "fd574216-ffdb-430e-b8f4-517791cdecbf",
   "metadata": {},
   "outputs": [],
   "source": [
    "stats_train4 = API.get_experiment_flow(exp_name).generate_stats()"
   ]
  },
  {
   "cell_type": "code",
   "execution_count": null,
   "id": "092d7421-0ee7-4ad6-bf96-5875ad474b53",
   "metadata": {},
   "outputs": [],
   "source": [
    "stats_train4.get_loss_ts(plot=True, smoothing = True, log_plot = True)"
   ]
  },
  {
   "cell_type": "code",
   "execution_count": null,
   "id": "ea81a79e-c335-48b5-82a0-7945df25cb84",
   "metadata": {},
   "outputs": [],
   "source": [
    "stats_train4.plot_batches_status(plot=True)"
   ]
  },
  {
   "cell_type": "markdown",
   "id": "261e8e0e-4510-49c4-a489-590d2c1ca12b",
   "metadata": {},
   "source": [
    "## Training phase 5:"
   ]
  },
  {
   "cell_type": "code",
   "execution_count": null,
   "id": "dc14a7b4-5877-4071-a135-db0988b28a97",
   "metadata": {},
   "outputs": [],
   "source": [
    "API.next_experiment_phase()\n",
    "API.run_current_experiment_phase()"
   ]
  },
  {
   "cell_type": "code",
   "execution_count": null,
   "id": "88c88210-9d85-4eb0-a2f3-dfd45ec7175a",
   "metadata": {},
   "outputs": [],
   "source": [
    "stats_train5 = API.get_experiment_flow(exp_name).generate_stats()"
   ]
  },
  {
   "cell_type": "code",
   "execution_count": null,
   "id": "51932f80-1cf3-4cd1-babf-700e9ab7da53",
   "metadata": {},
   "outputs": [],
   "source": [
    "stats_train5.get_loss_ts(plot=True, smoothing = True, log_plot = True)"
   ]
  },
  {
   "cell_type": "code",
   "execution_count": null,
   "id": "d9dfa199-399f-40aa-83ae-17f81cee30dc",
   "metadata": {},
   "outputs": [],
   "source": [
    "stats_train5.plot_batches_status(plot=True)"
   ]
  },
  {
   "cell_type": "markdown",
   "id": "4c2e35fc-07df-4dcf-8127-511846bffac2",
   "metadata": {},
   "source": [
    "## Training phase 6:"
   ]
  },
  {
   "cell_type": "code",
   "execution_count": null,
   "id": "28303991-8d1d-4c96-8fd7-e9f09016d274",
   "metadata": {},
   "outputs": [],
   "source": [
    "API.next_experiment_phase()\n",
    "API.run_current_experiment_phase()"
   ]
  },
  {
   "cell_type": "code",
   "execution_count": null,
   "id": "a7bf7868-3577-483b-86b4-58bf201a206b",
   "metadata": {},
   "outputs": [],
   "source": [
    "stats_train6 = API.get_experiment_flow(exp_name).generate_stats()"
   ]
  },
  {
   "cell_type": "code",
   "execution_count": null,
   "id": "ad38f820-6d0e-43b8-913f-eb64a140d8bd",
   "metadata": {},
   "outputs": [],
   "source": [
    "stats_train6.get_loss_ts(plot=True, smoothing = True, log_plot = True)"
   ]
  },
  {
   "cell_type": "code",
   "execution_count": null,
   "id": "fe2e18d4-61ab-4a70-b786-54d9389b563c",
   "metadata": {},
   "outputs": [],
   "source": [
    "stats_train6.plot_batches_status(plot=True)"
   ]
  },
  {
   "cell_type": "markdown",
   "id": "545f84e6-6293-4cee-8ee7-8796b65580c1",
   "metadata": {},
   "source": [
    "## Training phase 7:"
   ]
  },
  {
   "cell_type": "code",
   "execution_count": null,
   "id": "7d0bcd52-58b6-43b7-85be-a4a74dc9a368",
   "metadata": {},
   "outputs": [],
   "source": [
    "API.next_experiment_phase()\n",
    "API.run_current_experiment_phase()"
   ]
  },
  {
   "cell_type": "code",
   "execution_count": null,
   "id": "80d4d31f-ad6d-455e-be0c-af73f988131f",
   "metadata": {},
   "outputs": [],
   "source": [
    "stats_train7 = API.get_experiment_flow(exp_name).generate_stats()"
   ]
  },
  {
   "cell_type": "code",
   "execution_count": null,
   "id": "811055e9-633d-4355-adfb-29f25058dbc6",
   "metadata": {},
   "outputs": [],
   "source": [
    "stats_train7.get_loss_ts(plot=True, smoothing = True, log_plot = True)"
   ]
  },
  {
   "cell_type": "code",
   "execution_count": null,
   "id": "8a6f238a-92af-49a7-b1a6-14298b6b8508",
   "metadata": {},
   "outputs": [],
   "source": [
    "stats_train7.plot_batches_status(plot=True)"
   ]
  },
  {
   "cell_type": "markdown",
   "id": "c00c5055-0ef1-4433-9dbf-4e490c7fe644",
   "metadata": {},
   "source": [
    "## Training phase 8:"
   ]
  },
  {
   "cell_type": "code",
   "execution_count": null,
   "id": "cba5499e-6941-4115-89c0-a8b777b9e9f3",
   "metadata": {},
   "outputs": [],
   "source": [
    "API.next_experiment_phase()\n",
    "API.run_current_experiment_phase()"
   ]
  },
  {
   "cell_type": "code",
   "execution_count": null,
   "id": "9acda1a0-c6d1-4b4f-8799-822cd3472a48",
   "metadata": {},
   "outputs": [],
   "source": [
    "stats_train8 = API.get_experiment_flow(exp_name).generate_stats()"
   ]
  },
  {
   "cell_type": "code",
   "execution_count": null,
   "id": "bb1d1621-d9d7-4267-ba4d-d989d76a10eb",
   "metadata": {},
   "outputs": [],
   "source": [
    "stats_train8.get_loss_ts(plot=True, smoothing = True, log_plot = True)"
   ]
  },
  {
   "cell_type": "code",
   "execution_count": null,
   "id": "345c11df-aa5c-471d-9e82-232a275aac65",
   "metadata": {},
   "outputs": [],
   "source": [
    "stats_train8.plot_batches_status(plot=True)"
   ]
  },
  {
   "cell_type": "markdown",
   "id": "2665d596-1550-4202-b0f3-9b607ffea12c",
   "metadata": {},
   "source": [
    "# <span style=\"color:red;\"> *Score Discretization*: </span> Classes are discretized into 3 slots: 1-3, 4-6, 7-9"
   ]
  },
  {
   "cell_type": "markdown",
   "id": "367e550d-31c0-4149-8dd7-76e1ecee7a3f",
   "metadata": {},
   "source": [
    "## Predictaion phase 1:"
   ]
  },
  {
   "cell_type": "code",
   "execution_count": null,
   "id": "076d6bcb-98db-43d0-931b-fbe1c01b9a44",
   "metadata": {},
   "outputs": [],
   "source": [
    "API.next_experiment_phase()\n",
    "API.run_current_experiment_phase()"
   ]
  },
  {
   "cell_type": "code",
   "execution_count": null,
   "id": "d84636ba-77ec-4b05-bc62-40065d197eaf",
   "metadata": {},
   "outputs": [],
   "source": [
    "stats_pred1 = API.get_experiment_flow(exp_name).generate_stats()"
   ]
  },
  {
   "cell_type": "code",
   "execution_count": null,
   "id": "8098257c-2ee8-4fd4-a833-38990237ab6e",
   "metadata": {},
   "outputs": [],
   "source": [
    "stats_pred1.plot_batches_status(plot=True)"
   ]
  },
  {
   "cell_type": "code",
   "execution_count": null,
   "id": "7ebba7e2-0cca-4770-aacb-5b05af8241c3",
   "metadata": {},
   "outputs": [],
   "source": [
    "_ , conf_mats1 = stats_pred1.get_confusion_matrices_eeg(plot=True)"
   ]
  },
  {
   "cell_type": "code",
   "execution_count": null,
   "id": "7328f8fd-df01-4c86-b161-5472270a9bb5",
   "metadata": {},
   "outputs": [],
   "source": [
    "stats_pred1.get_model_performence_stats(conf_mats1)"
   ]
  },
  {
   "cell_type": "markdown",
   "id": "c61d6a4c-47dc-46aa-8c7e-f5b2a9f108c1",
   "metadata": {},
   "source": [
    "## Predictaion phase 2:"
   ]
  },
  {
   "cell_type": "code",
   "execution_count": null,
   "id": "fb3fa949-6f4f-44a6-a591-e15e77aedb71",
   "metadata": {},
   "outputs": [],
   "source": [
    "API.next_experiment_phase()\n",
    "API.run_current_experiment_phase()"
   ]
  },
  {
   "cell_type": "code",
   "execution_count": null,
   "id": "a9fdd195-cc89-48cc-9923-00af96b1e332",
   "metadata": {},
   "outputs": [],
   "source": [
    "stats_pred2 = API.get_experiment_flow(exp_name).generate_stats()"
   ]
  },
  {
   "cell_type": "code",
   "execution_count": null,
   "id": "386781e7-4456-414f-8348-9fc8145d1d6d",
   "metadata": {},
   "outputs": [],
   "source": [
    "stats_pred2.plot_batches_status(plot=True)"
   ]
  },
  {
   "cell_type": "code",
   "execution_count": null,
   "id": "e1ef6494-f68a-4778-bf34-439074b6cc1a",
   "metadata": {},
   "outputs": [],
   "source": [
    "_ , conf_mats2 = stats_pred2.get_confusion_matrices_eeg(plot=True)"
   ]
  },
  {
   "cell_type": "code",
   "execution_count": null,
   "id": "66f21dca-2c16-4b2d-a572-41bf0bb4e1c9",
   "metadata": {},
   "outputs": [],
   "source": [
    "stats_pred2.get_model_performence_stats(conf_mats2)"
   ]
  },
  {
   "cell_type": "markdown",
   "id": "c6dc0f0f-8fe1-4638-aa9f-851fe2dfc1fa",
   "metadata": {},
   "source": [
    "## Predictaion phase 3:"
   ]
  },
  {
   "cell_type": "code",
   "execution_count": null,
   "id": "86abd6b7-5ab1-4c07-bada-1e01f2a7d1f5",
   "metadata": {},
   "outputs": [],
   "source": [
    "API.next_experiment_phase()\n",
    "API.run_current_experiment_phase()"
   ]
  },
  {
   "cell_type": "code",
   "execution_count": null,
   "id": "8b4af78a-fe72-48fd-abc1-d0b50f5ae78f",
   "metadata": {},
   "outputs": [],
   "source": [
    "stats_pred3 = API.get_experiment_flow(exp_name).generate_stats()"
   ]
  },
  {
   "cell_type": "code",
   "execution_count": null,
   "id": "9f1b1a89-464f-412f-9696-152a6aa0686d",
   "metadata": {},
   "outputs": [],
   "source": [
    "stats_pred3.plot_batches_status(plot=True)"
   ]
  },
  {
   "cell_type": "code",
   "execution_count": null,
   "id": "6da66859-1a38-4f08-8df9-466cd986cdbb",
   "metadata": {},
   "outputs": [],
   "source": [
    "_ , conf_mats3 = stats_pred3.get_confusion_matrices_eeg(plot=True)"
   ]
  },
  {
   "cell_type": "code",
   "execution_count": null,
   "id": "0bae8744-388b-492d-a26f-ca018e007ff8",
   "metadata": {},
   "outputs": [],
   "source": [
    "stats_pred3.get_model_performence_stats(conf_mats3)"
   ]
  },
  {
   "cell_type": "markdown",
   "id": "1a01c9bd-5cc3-42a8-b0e2-360bb10eed45",
   "metadata": {},
   "source": [
    "## Predictaion phase 4:"
   ]
  },
  {
   "cell_type": "code",
   "execution_count": null,
   "id": "bcd98c93-720e-49ca-a18b-9f5cc8496361",
   "metadata": {},
   "outputs": [],
   "source": [
    "API.next_experiment_phase()\n",
    "API.run_current_experiment_phase()"
   ]
  },
  {
   "cell_type": "code",
   "execution_count": null,
   "id": "d9533341-569f-4042-a761-02439a12baab",
   "metadata": {},
   "outputs": [],
   "source": [
    "stats_pred4 = API.get_experiment_flow(exp_name).generate_stats()"
   ]
  },
  {
   "cell_type": "code",
   "execution_count": null,
   "id": "55adc0de-9445-424f-a4e2-4342c5b57e20",
   "metadata": {},
   "outputs": [],
   "source": [
    "stats_pred4.plot_batches_status(plot=True)"
   ]
  },
  {
   "cell_type": "code",
   "execution_count": null,
   "id": "5e7d1a6d-e2a5-4487-8bf5-8ad304e3f5e1",
   "metadata": {},
   "outputs": [],
   "source": [
    "_ , conf_mats4 = stats_pred4.get_confusion_matrices_eeg(plot=True)"
   ]
  },
  {
   "cell_type": "code",
   "execution_count": null,
   "id": "9248d69e-298d-46df-9fc7-64f1ceff6079",
   "metadata": {},
   "outputs": [],
   "source": [
    "stats_pred4.get_model_performence_stats(conf_mats4)"
   ]
  },
  {
   "cell_type": "code",
   "execution_count": null,
   "id": "e55cf94a-f7fe-4413-a1f6-c16dbf027905",
   "metadata": {},
   "outputs": [],
   "source": []
  },
  {
   "cell_type": "code",
   "execution_count": null,
   "id": "7bbbe9c7-94a3-4431-8c05-2ab349aaea23",
   "metadata": {},
   "outputs": [],
   "source": []
  },
  {
   "cell_type": "code",
   "execution_count": null,
   "id": "aa39239c-39a8-47a7-bf32-2d033d792d5d",
   "metadata": {},
   "outputs": [],
   "source": []
  },
  {
   "cell_type": "code",
   "execution_count": null,
   "id": "d83323ab-3997-4fd2-be85-e41451b906e3",
   "metadata": {},
   "outputs": [],
   "source": []
  }
 ],
 "metadata": {
  "kernelspec": {
   "display_name": "Python 3 (ipykernel)",
   "language": "python",
   "name": "python3"
  },
  "language_info": {
   "codemirror_mode": {
    "name": "ipython",
    "version": 3
   },
   "file_extension": ".py",
   "mimetype": "text/x-python",
   "name": "python",
   "nbconvert_exporter": "python",
   "pygments_lexer": "ipython3",
   "version": "3.8.10"
  }
 },
 "nbformat": 4,
 "nbformat_minor": 5
}
